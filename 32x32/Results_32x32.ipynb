{
  "cells": [
    {
      "cell_type": "code",
      "execution_count": null,
      "metadata": {
        "id": "3_tArxWR2NO4"
      },
      "outputs": [],
      "source": [
        "import os,re, pickle, random\n",
        "import numpy as np\n",
        "import pandas as pd\n",
        "from itertools import chain\n",
        "from bs4 import BeautifulSoup\n",
        "from xgboost import XGBRegressor\n",
        "from sklearn.svm import SVR\n",
        "from lightgbm import LGBMRegressor\n",
        "from catboost import CatBoostRegressor\n",
        "from sklearn.tree import DecisionTreeRegressor\n",
        "from sklearn.linear_model import LinearRegression\n",
        "from sklearn.ensemble import GradientBoostingRegressor, AdaBoostRegressor, RandomForestRegressor\n",
        "from sklearn.model_selection import train_test_split\n",
        "from sklearn.preprocessing import MinMaxScaler, StandardScaler\n",
        "\n",
        "import keras\n",
        "import tensorflow as tf\n",
        "from tensorflow.keras import Model\n",
        "from tensorflow.keras import Sequential\n",
        "from tensorflow.keras.optimizers import Adam\n",
        "from tensorflow.keras.layers import Dense, Dropout, BatchNormalization\n",
        "from tensorflow.keras.losses import MeanSquaredError\n",
        "from tensorflow.keras.layers import Conv2D, MaxPooling2D, Flatten\n",
        "from tensorflow.keras.optimizers import Adam, SGD\n",
        "from tensorflow.keras.losses import MeanAbsoluteError\n",
        "\n",
        "import matplotlib\n",
        "from matplotlib import pyplot as plt\n",
        "from sklearn.metrics import mean_absolute_error, roc_curve, auc\n",
        "matplotlib.rc('xtick', labelsize=16) \n",
        "matplotlib.rc('ytick', labelsize=16) "
      ]
    },
    {
      "cell_type": "code",
      "source": [
        "# Go to that directory where log files (single stuck at fault manifest as Missing/Delayed and Spurious) are saved\n",
        "cd 32x32/ "
      ],
      "metadata": {
        "id": "BAd_OSLI3FsG"
      },
      "execution_count": null,
      "outputs": []
    },
    {
      "cell_type": "code",
      "execution_count": null,
      "metadata": {
        "id": "rSEgnp7T2Nbw"
      },
      "outputs": [],
      "source": [
        "def getInfo(file, ip_spks):\n",
        "\n",
        "    \"\"\"\n",
        "    Args:\n",
        "    file : Log files \n",
        "    ip_spks : Number of input neurons or pre-synaptic neurons\n",
        "\n",
        "    return :\n",
        "    df : Dataframe\n",
        "    \n",
        "    \"\"\"\n",
        "\n",
        "    with open(file) as f:\n",
        "        soup = BeautifulSoup(f.read(), \"html.parser\")\n",
        "\n",
        "    df = pd.DataFrame()\n",
        "\n",
        "    # Making column names\n",
        "    cols = [\"Time(s)\"]\n",
        "    for i in range(ip_spks):\n",
        "      cols.append(\"spk_ip_\" + str(i))\n",
        "      cols.append(\"#Spikes_\" + str(i))\n",
        "      cols.append(\"ISI_\" + str(i))\n",
        "\n",
        "    for i in range(ip_spks):\n",
        "      cols += [\"spk_out_\" + str(i), \"#Spikes_out_\"+str(i), \"ISI_out_\"+str(i)]\n",
        "\n",
        "    time = [int(i.split(\":\")[1]) for i in re.findall(r\"Time : \\d+\", soup.text)]\n",
        "\n",
        "    df[\"Time(s)\"] = time\n",
        "\n",
        "    # NeuronID info for each spike generating neuron\n",
        "    n_id_info = re.findall(\"NeuronID: (.+)\", soup.text)\n",
        "\n",
        "    spikes_info = [list(map(int,re.findall(r'(\\d+)', i))) for i in n_id_info]\n",
        "    \n",
        "    n_id_info_v1 = []\n",
        "\n",
        "    for idx in range(0, len(spikes_info), ip_spks):\n",
        "      var = list(chain.from_iterable((x[0],len(x)-1, x[1:]) for x in spikes_info[idx: idx + ip_spks]))\n",
        "      n_id_info_v1.append(var)\n",
        "  \n",
        "    df[cols[1:-3 *ip_spks]] = n_id_info_v1\n",
        "\n",
        "    # Output column info\n",
        "    out = re.findall(\"Output Neuron at column (.+)\", soup.text)\n",
        "\n",
        "    spikes_info_out = [list(map(int, re.findall(r'(\\d+)', i))) for i in out]\n",
        "    out_info = []\n",
        "\n",
        "    for idx in range(0, len(spikes_info_out), ip_spks):\n",
        "      var1 = list(chain.from_iterable((x[0],len(x)-1, x[1:]) for x in spikes_info_out[idx: idx + ip_spks]))\n",
        "      out_info.append(var1)\n",
        "\n",
        "    # Checking #instances\n",
        "    assert len(out_info) == len(time) == len(n_id_info_v1)\n",
        "\n",
        "    df[cols[-3*ip_spks:]] = out_info\n",
        "\n",
        "\n",
        "    return df"
      ]
    },
    {
      "cell_type": "code",
      "execution_count": null,
      "metadata": {
        "id": "1mV4_qvJ2Ned"
      },
      "outputs": [],
      "source": [
        "# To compute average ISI (Inter-spiking interval)\n",
        "def getAvgIsi(x):\n",
        "\n",
        "  if len(x) == 0:\n",
        "    return 0\n",
        "\n",
        "  elif len(x) == 1:\n",
        "    return x[0]%1000\n",
        "\n",
        "  else:\n",
        "    x = [i%1000 for i in x]\n",
        "    if x[0] == 0:\n",
        "      x[0] = 1\n",
        "    return sum([(x[i+1])- (x[i]) for i in range(len(x)-1)])/(len(x)-1)"
      ]
    },
    {
      "cell_type": "code",
      "execution_count": null,
      "metadata": {
        "id": "-hsMpZnIkuZ3"
      },
      "outputs": [],
      "source": [
        "# To compute COV (coefficient of variation) or Variance\n",
        "def cov_or_variance(x, type_metric = \"cov\"):\n",
        "\n",
        "  if len(x) == 0:\n",
        "    return 0\n",
        "\n",
        "  elif len(x) == 1:\n",
        "    return x[0]%1000\n",
        "\n",
        "  else:\n",
        "    x = [i%1000 for i in x]\n",
        "    if x[0] == 0:\n",
        "      x[0] = 1\n",
        "    imd = np.array([x[i]%1000 for i in range(len(x))])\n",
        "    mu = np.mean(imd)\n",
        "    \n",
        "    if type_metric == \"cov\": \n",
        "      # coefficient of variation\n",
        "      cov = np.sqrt(np.sum(np.square(imd - mu))/ (len(imd) - 1))/mu\n",
        "      return cov\n",
        "    else:\n",
        "      # Variance of spikes\n",
        "      var_spk = np.sum(np.square(imd - mu))/ (len(imd) - 1)\n",
        "      return var_spk"
      ]
    },
    {
      "cell_type": "code",
      "execution_count": null,
      "metadata": {
        "id": "U_xl-KmO2Ngw"
      },
      "outputs": [],
      "source": [
        "# # To make a directory to save all log files (Missing/Delayed and Spurious) with different utilizations for each pre-synaptic neuron or input neuron\n",
        "utilization = range(10,51,10) \n",
        "\n",
        "for ut in utilization:\n",
        "  os.mkdir(\"32x32/\"+ str(ut) + \"_percent/files_32_raw\")"
      ]
    },
    {
      "cell_type": "code",
      "execution_count": null,
      "metadata": {
        "id": "B4MVxTeX2Njb"
      },
      "outputs": [],
      "source": [
        "def SaveRawFile(dataframe, fol, savePath, cp):\n",
        "  \"\"\"\n",
        "  Args :\n",
        "  dataframe: Dataframe\n",
        "  fol : File name of post-synaptic neuron ID\n",
        "  savePath : The path to save .xlsx file \n",
        "  cp :  Crosspoint\n",
        "  \n",
        "  \"\"\"\n",
        "\n",
        "  columns = dataframe.columns\n",
        "  f = pd.DataFrame()\n",
        "\n",
        "  idx = 0\n",
        "  for e in columns:\n",
        "    \n",
        "    if e.startswith(\"ISI_\"):\n",
        "\n",
        "      if e.startswith(\"ISI_out_\"):\n",
        "          f[e] =  dataframe[e]\n",
        "          f['Avg_ISI_out_'+e.split(\"ISI_out_\")[-1]] =  dataframe[e].apply(lambda x: getAvgIsi(x))\n",
        "          f['Cov_spk_out_'+e.split(\"ISI_out_\")[-1]] =  dataframe[e].apply(lambda x: cov_or_variance(x, type_metric = \"cov\"))\n",
        "          f['Var_spk_out_'+e.split(\"ISI_out_\")[-1]] =  dataframe[e].apply(lambda x: cov_or_variance(x, type_metric = \"var\"))\n",
        "        \n",
        "      else:\n",
        "        f[e] =  dataframe[e]\n",
        "        f['Avg_ISI_'+str(idx)] =  dataframe['ISI_' + str(idx)].apply(lambda x: getAvgIsi(x))\n",
        "        f['Cov_spk_ip_'+str(idx)] =  dataframe['ISI_' + str(idx)].apply(lambda x: cov_or_variance(x, type_metric = \"cov\"))\n",
        "        f['Var_spk_ip_'+str(idx)] =  dataframe['ISI_' + str(idx)].apply(lambda x: cov_or_variance(x, type_metric = \"var\"))\n",
        "        idx += 1\n",
        "\n",
        "    else:\n",
        "      f[e] = dataframe[e]\n",
        "\n",
        "  f.to_excel(savePath + fol + \"_\" + str(cp) + \".xlsx\", index = False)\n",
        "  "
      ]
    },
    {
      "cell_type": "markdown",
      "source": [
        "# Saving log files in the desirable and readable format"
      ],
      "metadata": {
        "id": "Ptn1cfN0_HIX"
      }
    },
    {
      "cell_type": "code",
      "source": [
        "\"\"\"\n",
        "cp : Crosspoints\n",
        "util : Utilization (10% or 20% or 30% or 40% or 50% of the crossbar array (in terms of the crosspoints))\n",
        "log_path : The path from where the log file will be read.\n",
        "save_path : The path where the log file will be saved.\n",
        "\n",
        "\"\"\"\n",
        "\n",
        "cp_util = [(4,10), (7,20), (10,30), (13,40), (16,50)]\n",
        "type_fol = [\"Output_Missing\", \"Output_Spurious\"] \n",
        "\n",
        "for params in cp_util:\n",
        "  cp,util = params\n",
        "\n",
        "  for fol in type_fol:\n",
        "    logs_path = \"32x32/\" + str(util) + \"_percent/\" + fol + \"/log_weight.txt\"\n",
        "    savePath = \"32x32/\" + str(util) + \"_percent/\" + \"files_32_raw/\"\n",
        "\n",
        "    ## Saving raw data in excel file\n",
        "    print(f\"{util}% utilization ({cp} crosspoints) for {fol}.\")\n",
        "    df = getInfo(logs_path, 32)\n",
        "    SaveRawFile(df, fol, savePath, cp)"
      ],
      "metadata": {
        "colab": {
          "base_uri": "https://localhost:8080/"
        },
        "id": "6lDJLb8h4tHi",
        "outputId": "e3ca2e1e-f9eb-4014-c680-350ada6142bf"
      },
      "execution_count": null,
      "outputs": [
        {
          "output_type": "stream",
          "name": "stdout",
          "text": [
            "10% utilization (4 crosspoints) for Output_Missing.\n",
            "10% utilization (4 crosspoints) for Output_Spurious.\n",
            "20% utilization (7 crosspoints) for Output_Missing.\n",
            "20% utilization (7 crosspoints) for Output_Spurious.\n",
            "30% utilization (10 crosspoints) for Output_Missing.\n",
            "30% utilization (10 crosspoints) for Output_Spurious.\n",
            "40% utilization (13 crosspoints) for Output_Missing.\n",
            "40% utilization (13 crosspoints) for Output_Spurious.\n",
            "50% utilization (16 crosspoints) for Output_Missing.\n",
            "50% utilization (16 crosspoints) for Output_Spurious.\n"
          ]
        }
      ]
    },
    {
      "cell_type": "code",
      "execution_count": null,
      "metadata": {
        "id": "DwHPqUbL2NrW"
      },
      "outputs": [],
      "source": [
        "# Sort the name of file of post-synaptic neuron ID\n",
        "\n",
        "def atof(text):\n",
        "    try:\n",
        "        retval = float(text)\n",
        "    except ValueError:\n",
        "        retval = text\n",
        "    return retval\n",
        "\n",
        "def natural_keys(text):\n",
        "\n",
        "    return [ atof(c) for c in re.split(r'[+-]?([0-9]+(?:[.][0-9]*)?|[.][0-9]+)', text) ]"
      ]
    },
    {
      "cell_type": "code",
      "execution_count": null,
      "metadata": {
        "id": "5uwJjsi5uU8O"
      },
      "outputs": [],
      "source": [
        "# # To create a directory to save all features (Spike rate, Avg. ISI/COV/Variance) and their ground truth (Observed ISI) \n",
        "utilization = range(10,51,10) \n",
        "crossbarName = \"32x32\"\n",
        "\n",
        "for ut in utilization:\n",
        "  os.mkdir(crossbarName + \"/\"+ str(ut) + \"_percent/StackedFiles_avg_ISI\")\n",
        "  # os.mkdir(crossbarName + \"/\"+ str(ut) + \"_percent/StackedFiles_cov_spk\")\n",
        "  # os.mkdir(crossbarName + \"/\"+ str(ut) + \"_percent/StackedFiles_var_spk\")"
      ]
    },
    {
      "cell_type": "code",
      "source": [
        "type_fol = [\"Output_Missing\", \"Output_Spurious\"]\n",
        "for ut in utilization:\n",
        "  for fol in type_fol:\n",
        "    os.mkdir(crossbarName + \"/\" + str(ut) + \"_percent/StackedFiles_avg_ISI/\"+fol)\n",
        "    # os.mkdir(crossbarName + \"/\" + str(ut) + \"_percent/StackedFiles_cov_spk/\"+fol)\n",
        "    # os.mkdir(crossbarName + \"/\" + str(ut) + \"_percent/StackedFiles_var_spk/\"+fol)"
      ],
      "metadata": {
        "id": "Gtiwa-rtoZwu"
      },
      "execution_count": null,
      "outputs": []
    },
    {
      "cell_type": "code",
      "execution_count": null,
      "metadata": {
        "id": "RRBTQEnz2Nwt"
      },
      "outputs": [],
      "source": [
        "\"\"\"\n",
        "Extracting features (Spike rate, Avg. ISI/COV/Variance) and their ground truth (Observed ISI) and then\n",
        "save in .npy format.\n",
        "\n",
        "\"\"\"\n",
        "\n",
        "def StackedFile(path, fileName, nG, savePath, variance_feat = False):\n",
        "    \"\"\"\n",
        "    Args: \n",
        "    path : The path to read excel files\n",
        "    nG : Number of post-synaptic neurons\n",
        "    variance_feat : Avg. ISI/COV/Variance as features included or not\n",
        "    fileName : An excel file (Output_Spurious, Output_Missing)\n",
        "    savePath : The path where the excel files will be saved in a numpy format in a parsed version based on cp.\n",
        "\n",
        "    \"\"\"\n",
        "\n",
        "    \"\"\"\n",
        "    Predicting only average ISI_out, not #Spikes_out\n",
        "    \"\"\"\n",
        "    \n",
        "\n",
        "    # Number of crosspoints (numCp)\n",
        "    numCp = int(fileName.split(\"_\")[-1][:-5]) \n",
        "    print(f\"File Name : {fileName} | Number of crosspoints : {numCp}\")\n",
        "\n",
        "    file = pd.read_excel(path + fileName)\n",
        "\n",
        "    cols_drop = []\n",
        "\n",
        "    for id in range(nG):\n",
        "      cols_drop.append(\"spk_ip_\" + str(id))\n",
        "      cols_drop.append(\"spk_out_\" + str(id))\n",
        "      cols_drop.append(\"ISI_\" + str(id))\n",
        "      cols_drop.append(\"ISI_out_\" + str(id))\n",
        "      cols_drop.append(\"#Spikes_out_\" + str(id))\n",
        "\n",
        "      if variance_feat == \"var\":\n",
        "        cols_drop.append(\"Cov_spk_ip_\" + str(id))\n",
        "        cols_drop.append(\"Cov_spk_out_\" + str(id))\n",
        "        cols_drop.append(\"Avg_ISI_\" + str(id))\n",
        "        cols_drop.append(\"Avg_ISI_out_\" + str(id))\n",
        "\n",
        "      elif not variance_feat: \n",
        "        cols_drop.append(\"Cov_spk_ip_\" + str(id))\n",
        "        cols_drop.append(\"Cov_spk_out_\" + str(id))\n",
        "        cols_drop.append(\"Var_spk_ip_\" + str(id))\n",
        "        cols_drop.append(\"Var_spk_out_\" + str(id))\n",
        "      else:\n",
        "        cols_drop.append(\"Avg_ISI_\" + str(id))\n",
        "        cols_drop.append(\"Avg_ISI_out_\" + str(id))\n",
        "        cols_drop.append(\"Var_spk_ip_\" + str(id))\n",
        "        cols_drop.append(\"Var_spk_out_\" + str(id))\n",
        "        \n",
        "\n",
        "    cols_drop.extend(['Time(s)'])\n",
        "\n",
        "    file.drop(cols_drop, axis=1, inplace=True)\n",
        "\n",
        "    file_v1 = file.reset_index(drop=True)\n",
        "\n",
        "    if variance_feat == \"var\":\n",
        "        y_cols = [\"Var_spk_out_\" + str(idx) for idx in range(nG)]\n",
        "    elif not variance_feat: \n",
        "        y_cols = [\"Avg_ISI_out_\" + str(idx) for idx in range(nG)]\n",
        "    else:\n",
        "        y_cols = [\"Cov_spk_out_\" + str(idx) for idx in range(nG)]\n",
        "        \n",
        "\n",
        "    X_train  = file_v1.drop(y_cols, axis=1).values\n",
        "    y_train =  file_v1[y_cols].values\n",
        "    \n",
        "    X_train_v1 = np.concatenate([X_train[:, :numCp*2], np.zeros((X_train.shape[0], X_train.shape[1] - (numCp*2)))], axis =1)\n",
        "\n",
        "    \n",
        "    X_tr, y_tr =  X_train_v1, y_train\n",
        "\n",
        "      \n",
        "    with open(savePath + \"/X_train_stacked.npy\", 'wb') as f:\n",
        "      np.save(f, X_tr)\n",
        "\n",
        "    for col in range(nG):\n",
        "      with open(savePath +\"/y_train_stacked_\" + str(col) + \".npy\", 'wb') as f:\n",
        "        np.save(f, y_tr[:,col])\n"
      ]
    },
    {
      "cell_type": "code",
      "source": [
        "def run(utilization, variance_feat, nG, crossbarName):\n",
        "\n",
        "  for ut in utilization:\n",
        "    type_files = [i for i in os.listdir(crossbarName + \"/\"+ str(ut) + \"_percent/files_\"+str(nG)+\"_raw/\") if i.endswith(\"xlsx\")]\n",
        "    for file in type_files:\n",
        "      fol = \"_\".join(file.split(\"_\")[:-1])\n",
        "      if variance_feat == \"var\":\n",
        "        savePath = crossbarName + \"/\"+ str(ut) + \"_percent/StackedFiles_var_spk/\"+fol\n",
        "      elif not variance_feat:\n",
        "        savePath = crossbarName + \"/\"+ str(ut) + \"_percent/StackedFiles_avg_ISI/\"+fol\n",
        "      else:\n",
        "        savePath = crossbarName + \"/\"+ str(ut) + \"_percent/StackedFiles_var_spk/\"+fol\n",
        "\n",
        "      StackedFile(crossbarName + \"/\"+ str(ut) + \"_percent/files_\"+str(nG)+\"_raw/\", file, nG, savePath, variance_feat = variance_feat)"
      ],
      "metadata": {
        "id": "bvqViDVrruXk"
      },
      "execution_count": null,
      "outputs": []
    },
    {
      "cell_type": "code",
      "source": [
        "# Considering #Spikes & Avg ISI as features\n",
        "\n",
        "variance_feat = False \n",
        "crossbarName = \"32x32\"\n",
        "utilization = range(10,51,10)\n",
        "nG = 32\n",
        "\n",
        "run(utilization, variance_feat, nG, crossbarName)"
      ],
      "metadata": {
        "colab": {
          "base_uri": "https://localhost:8080/"
        },
        "id": "TlU8_wA7kqTb",
        "outputId": "53a76ebf-ab41-44c6-b87c-027102adca82"
      },
      "execution_count": 5,
      "outputs": [
        {
          "output_type": "stream",
          "name": "stdout",
          "text": [
            "File Name : Output_Missing_4.xlsx | Number of crosspoints : 4\n",
            "File Name : Output_Spurious_4.xlsx | Number of crosspoints : 4\n",
            "File Name : Output_Missing_7.xlsx | Number of crosspoints : 7\n",
            "File Name : Output_Spurious_7.xlsx | Number of crosspoints : 7\n",
            "File Name : Output_Missing_10.xlsx | Number of crosspoints : 10\n",
            "File Name : Output_Spurious_10.xlsx | Number of crosspoints : 10\n",
            "File Name : Output_Missing_13.xlsx | Number of crosspoints : 13\n",
            "File Name : Output_Spurious_13.xlsx | Number of crosspoints : 13\n",
            "File Name : Output_Missing_16.xlsx | Number of crosspoints : 16\n",
            "File Name : Output_Spurious_16.xlsx | Number of crosspoints : 16\n"
          ]
        }
      ]
    },
    {
      "cell_type": "code",
      "source": [
        "# Considering #Spikes & Variance as features\n",
        "\n",
        "# variance_feat = \"var\" \n",
        "# crossbarName = \"32x32\"\n",
        "# utilization = range(10,51,10)\n",
        "# nG = 32\n",
        "\n",
        "# run(utilization, variance_feat, nG, crossbarName)"
      ],
      "metadata": {
        "colab": {
          "base_uri": "https://localhost:8080/"
        },
        "id": "O74fi9KzkZjf",
        "outputId": "a2c646cf-afe7-4ff6-dd30-12f217a5f58a"
      },
      "execution_count": 3,
      "outputs": [
        {
          "output_type": "stream",
          "name": "stdout",
          "text": [
            "File Name : Output_Missing_4.xlsx | Number of crosspoints : 4\n",
            "File Name : Output_Spurious_4.xlsx | Number of crosspoints : 4\n",
            "File Name : Output_Missing_7.xlsx | Number of crosspoints : 7\n",
            "File Name : Output_Spurious_7.xlsx | Number of crosspoints : 7\n",
            "File Name : Output_Missing_10.xlsx | Number of crosspoints : 10\n",
            "File Name : Output_Spurious_10.xlsx | Number of crosspoints : 10\n",
            "File Name : Output_Missing_13.xlsx | Number of crosspoints : 13\n",
            "File Name : Output_Spurious_13.xlsx | Number of crosspoints : 13\n",
            "File Name : Output_Missing_16.xlsx | Number of crosspoints : 16\n",
            "File Name : Output_Spurious_16.xlsx | Number of crosspoints : 16\n"
          ]
        }
      ]
    },
    {
      "cell_type": "code",
      "source": [
        "# Considering #Spikes & COV as features\n",
        "\n",
        "# variance_feat = True \n",
        "# crossbarName = \"32x32\"\n",
        "# utilization = range(10,51,10)\n",
        "# nG = 32\n",
        "\n",
        "# run(utilization, variance_feat, nG, crossbarName)"
      ],
      "metadata": {
        "colab": {
          "base_uri": "https://localhost:8080/"
        },
        "id": "Gb0B6i_fsAMf",
        "outputId": "9386f75f-f17e-422b-aa7c-95e9fb54f333"
      },
      "execution_count": 4,
      "outputs": [
        {
          "output_type": "stream",
          "name": "stdout",
          "text": [
            "File Name : Output_Missing_4.xlsx | Number of crosspoints : 4\n",
            "File Name : Output_Spurious_4.xlsx | Number of crosspoints : 4\n",
            "File Name : Output_Missing_7.xlsx | Number of crosspoints : 7\n",
            "File Name : Output_Spurious_7.xlsx | Number of crosspoints : 7\n",
            "File Name : Output_Missing_10.xlsx | Number of crosspoints : 10\n",
            "File Name : Output_Spurious_10.xlsx | Number of crosspoints : 10\n",
            "File Name : Output_Missing_13.xlsx | Number of crosspoints : 13\n",
            "File Name : Output_Spurious_13.xlsx | Number of crosspoints : 13\n",
            "File Name : Output_Missing_16.xlsx | Number of crosspoints : 16\n",
            "File Name : Output_Spurious_16.xlsx | Number of crosspoints : 16\n"
          ]
        }
      ]
    },
    {
      "cell_type": "code",
      "execution_count": null,
      "metadata": {
        "id": "Vr9LeJwK2N2A"
      },
      "outputs": [],
      "source": [
        "def getBinary(y_true, y_pred, margin):\n",
        "  \n",
        "  \"\"\"\n",
        "  It will binarize the continuous values which are y_true and y_pred with\n",
        "  the help of margin and threshold to plot ROC (Receiver operating characteristic).\n",
        "\n",
        "  Args:\n",
        "  y_true : Observed avg. ISI (continuous values)\n",
        "  y_pred : Predicted avg. ISI (continuous values)\n",
        "  margin : The margin is the obtained optimal MAE or a user can take loose margin as per his choice to incur more false alaram or false fault\n",
        "\n",
        "  return:\n",
        "  y_t : Binarized y_true\n",
        "  y_p : Binarized y_pred\n",
        "\n",
        "  The reason to opt for ROC curve because it offers an elegant way to\n",
        "  plot true fault detection rate versus false fault detection rate.\n",
        " \n",
        "  \"\"\"\n",
        "\n",
        "  thresh = pd.Series(y_true).median()   # We have taken median as a threshold because it is not impacted by the outliers\n",
        "  y_t = []\n",
        "  y_p = []\n",
        "\n",
        "  for t,p in zip(y_true, y_pred):\n",
        "    if np.abs(t - p) <= margin:\n",
        "      if t> thresh:\n",
        "        y_t.append(1)\n",
        "        y_p.append(1)\n",
        "      else:\n",
        "        y_t.append(0)\n",
        "        y_p.append(0)\n",
        "\n",
        "    else:\n",
        "      if (t > thresh) and (p > thresh):  # ex: t=60, p=80 but thresh = 55 --> t,p -> 1, therefore one of them has to be opposite to another because abs(t-p)>15.\n",
        "        y_t.append(1)\n",
        "        y_p.append(0)\n",
        "\n",
        "      elif (t > thresh) and (p <= thresh):  # ex: t=60, p=40 but thresh = 55 --> t->1,  p-> 0, which satisfies the condition, one has to be opposite of another.\n",
        "        y_t.append(1)\n",
        "        y_p.append(0)\n",
        "\n",
        "      elif (t <= thresh) and (p > thresh):  # ex: t=30, p=57 but thresh = 55 --> t->0,  p-> 1,\n",
        "        y_t.append(0)\n",
        "        y_p.append(1)\n",
        "\n",
        "      elif (t <= thresh) and (p <= thresh): # ex: t=25, p=45 but thresh = 55 --> t->0, p-> 1, therefore one of them has to be opposite to another.\n",
        "        y_t.append(0)\n",
        "        y_p.append(1)\n",
        "      \n",
        "\n",
        "  y_t = np.array(y_t)\n",
        "  y_p = np.array(y_p)\n",
        "\n",
        "  return y_t, y_p"
      ]
    },
    {
      "cell_type": "code",
      "execution_count": null,
      "metadata": {
        "id": "1BpLwfl02N49"
      },
      "outputs": [],
      "source": [
        "def plotROC(y_true, y_pred, reg, margin, color):\n",
        "\n",
        "  \"\"\"\n",
        "  To plot ROC\n",
        "\n",
        "  Args: \n",
        "  y_true : Observed avg. ISI\n",
        "  y_pred : Predicted avg. ISI\n",
        "  reg :  Regressor Name\n",
        "  margin : The margin is the obtained optimal MAE or a user can take loose margin as per his choice to incur more false alaram or false fault\n",
        "  color : Color\n",
        "\n",
        "  return:\n",
        "  y_t : Binarized y_true\n",
        "  y_p : Binarized y_pred\n",
        "\n",
        "  \"\"\"\n",
        "\n",
        "  y_t, y_p = getBinary(y_true, y_pred, margin)\n",
        "  \n",
        "  fpr, tpr, _ = roc_curve(y_t, y_p )\n",
        "  roc_auc = auc(fpr, tpr)\n",
        "\n",
        "  print()\n",
        "  print(\"False positive rate : \", fpr[1])\n",
        "  print(\"True positive rate : \", tpr[1])\n",
        "  print(\"ROC Area under curve : \", roc_auc)\n",
        "\n",
        "  plt.figure(figsize = (6,6))\n",
        "  lw = 2\n",
        "  plt.plot(fpr, tpr, color= color, lw=lw, label=f\"ROC curve (area = %0.2f) for {reg}.\" % roc_auc,linewidth=4)\n",
        "  plt.plot([0, 1], [0, 1], color=\"navy\", lw=lw, linestyle=\"--\")\n",
        "  plt.xlim([0.0, 1.0])\n",
        "  plt.ylim([0.0, 1.05])\n",
        "  plt.xlabel(\"False Positive Rate\", fontsize=15)\n",
        "  plt.ylabel(\"True Positive Rate\", fontsize=15)\n",
        "  plt.title(\"Receiver operating characteristic example\")\n",
        "  plt.legend(loc=\"lower right\")\n",
        "  plt.show()\n",
        "\n",
        "  return y_t, y_p"
      ]
    },
    {
      "cell_type": "code",
      "source": [
        "import warnings\n",
        "warnings.filterwarnings(\"ignore\")"
      ],
      "metadata": {
        "id": "Znq664BOEa7y"
      },
      "execution_count": null,
      "outputs": []
    },
    {
      "cell_type": "code",
      "source": [
        "def getPrediction(nG, ip_shape, scaling_mode, file_Type, crossbarName, model_type, model_name, optimal_maes, models_list, variance_feat =False):\n",
        "\n",
        "  \"\"\"\n",
        "  Args:\n",
        "  nG : Number of post-synaptic neurons\n",
        "  scaling_mode : Type of scaling technique\n",
        "  file_type : \"Missing/Delayed\" file or \"Spurious\" file\n",
        "  crossbarName : Crossbar type 32x32 or 64x64 or 128x128\n",
        "  model_type : \"Tree\" based or \"NN\" based\n",
        "  model_name : which model to run\n",
        "  models_list : List of model names\n",
        "  optimal_maes : Obtained optimal MAEs for all columns\n",
        "  ip_shape : Dimension of an example (Mainly for CNN)\n",
        "  variance_feat : Coefficient of variation/Variance/Avg ISI as features included or not\n",
        "\n",
        "  print : \n",
        "  Fault detection rate\n",
        "\n",
        "  \"\"\"\n",
        "\n",
        "  row, col, chn = ip_shape\n",
        "  utilization = range(10,51,10)\n",
        "\n",
        "  print(\"*\"*25 + \" \"+ file_Type.split(\"_\")[-1] +\" Spikes \" + \"*\"*25)\n",
        "\n",
        "  for util in utilization:\n",
        "    print(\"*\"*25 + \" Utilization : \" + str(util) + \"% \" + \"*\"*25)\n",
        "    print()\n",
        "    print(\"Scaling Mode : \", scaling_mode)\n",
        "    print(\"Model Name : \", model_name, \"\\n\")\n",
        "\n",
        "    if variance_feat == \"var\":\n",
        "      with open(crossbarName+ \"/\"+ str(util) + \"_percent/StackedFiles_var_spk/\" + file_Type + \"/X_train_stacked.npy\", 'rb') as f:\n",
        "        X = np.load(f)\n",
        "    elif not variance_feat:\n",
        "      with open(crossbarName+ \"/\"+ str(util) + \"_percent/StackedFiles_avg_ISI/\" + file_Type + \"/X_train_stacked.npy\", 'rb') as f:\n",
        "        X = np.load(f)\n",
        "    else:\n",
        "      with open(crossbarName+ \"/\"+ str(util) + \"_percent/StackedFiles_cov_spk/\" + file_Type + \"/X_train_stacked.npy\", 'rb') as f:\n",
        "        X = np.load(f)\n",
        "\n",
        "    prediction_wrt_column = []\n",
        "    \n",
        "    for id in range(nG):\n",
        "      # print(\"#\"*25 + \" \" + \"Column\" + str(id) +\" \" + \"#\"*25)\n",
        "\n",
        "      if variance_feat == \"var\":\n",
        "        with open(crossbarName+ \"/\"+ str(util) + \"_percent/StackedFiles_var_spk/\" + file_Type +\"/y_train_stacked_\" + str(id) + \".npy\", 'rb') as f:\n",
        "          y = np.load(f)\n",
        "          y = y/10000  # (for better fit)\n",
        "      elif not variance_feat:\n",
        "        with open(crossbarName+ \"/\"+ str(util) + \"_percent/StackedFiles_avg_ISI/\" + file_Type +\"/y_train_stacked_\" + str(id) + \".npy\", 'rb') as f:\n",
        "          y = np.load(f)\n",
        "          y = y/10  # (To convert into decisecond for better fit)\n",
        "      else:\n",
        "        with open(crossbarName+ \"/\"+ str(util) + \"_percent/StackedFiles_cov_spk/\" + file_Type +\"/y_train_stacked_\" + str(id) + \".npy\", 'rb') as f:\n",
        "          y = np.load(f)\n",
        "\n",
        "      \n",
        "      X_test, y_test = X[:5000], y[:5000] # Considering 5k samples\n",
        "\n",
        "      # Standard Scaling\n",
        "      if scaling_mode == 'std':\n",
        "        # print(\"Standard Scaling\",'\\n')\n",
        "        if variance_feat == \"var\":\n",
        "          with open(os.getcwd() + \"/Scaler_var_spk/\" + \"std_Column_\" + str(0) + \".pkl\", 'rb') as file:  \n",
        "            scaler = pickle.load(file)\n",
        "        elif not variance_feat:\n",
        "          with open(os.getcwd() + \"/Scaler_avg_ISI/\" + \"std_Column_\" + str(0) + \".pkl\", 'rb') as file:  \n",
        "            scaler = pickle.load(file)\n",
        "        else:\n",
        "          with open(os.getcwd() + \"/Scaler_cov_spk/\" + \"std_Column_\" + str(0) + \".pkl\", 'rb') as file:  \n",
        "            scaler = pickle.load(file)\n",
        "        \n",
        "        x_test_scaled = scaler.transform(X_test)\n",
        "\n",
        "\n",
        "      # Min-max Scaling\n",
        "      elif scaling_mode == \"minmax\":\n",
        "        # print(\"Minmax Scaling \\n\")\n",
        "        if variance_feat == \"var\":\n",
        "          with open(os.getcwd() + \"/Scaler_var_spk/\" + \"minmax_Column_\" + str(0) + \".pkl\", 'rb') as file:  \n",
        "            scaler = pickle.load(file)\n",
        "        elif not variance_feat:\n",
        "          with open(os.getcwd() + \"/Scaler_avg_ISI/\" + \"minmax_Column_\" + str(0) + \".pkl\", 'rb') as file:  \n",
        "            scaler = pickle.load(file)\n",
        "        else:\n",
        "          with open(os.getcwd() + \"/Scaler_cov_spk/\" + \"minmax_Column_\" + str(0) + \".pkl\", 'rb') as file:  \n",
        "            scaler = pickle.load(file)\n",
        "\n",
        "        x_test_scaled = scaler.transform(X_test)\n",
        "\n",
        "\n",
        "      if variance_feat == \"var\":\n",
        "        if model_type == \"Tree\":\n",
        "          with open(os.getcwd() + \"/Models_var_spk/\" + model_name + \"_column_\" + str(id) + \".pkl\", 'rb') as file:  \n",
        "            reg = pickle.load(file)\n",
        "        else:\n",
        "          if model_name == \"ANN\":\n",
        "            reg = tf.keras.models.load_model(os.getcwd() +  \"/Models_var_spk/\" + model_name + \"_column_\" + str(id) +\".h5\", compile=False)\n",
        "          else:\n",
        "            reg = tf.keras.models.load_model(os.getcwd() +  \"/Models_var_spk/\" + model_name + \"_column_\" + str(id) +\".h5\", compile=False)\n",
        "\n",
        "      elif not variance_feat:\n",
        "        if model_type == \"Tree\":\n",
        "          with open(os.getcwd() + \"/Models_avg_ISI/\" + model_name + \"_column_\" + str(id) + \".pkl\", 'rb') as file:  \n",
        "            reg = pickle.load(file)\n",
        "        else:\n",
        "          if model_name == \"ANN\":\n",
        "            reg = tf.keras.models.load_model(os.getcwd() +  \"/Models_avg_ISI/\" + model_name + \"_column_\" + str(id) +\".h5\", compile=False)\n",
        "          else:\n",
        "            reg = tf.keras.models.load_model(os.getcwd() +  \"/Models_avg_ISI/\" + model_name + \"_column_\" + str(id) +\".h5\", compile=False)        \n",
        "\n",
        "      else:\n",
        "        if model_type == \"Tree\":\n",
        "          with open(os.getcwd() + \"/Models_cov_spk/\" + model_name + \"_column_\" + str(id) + \".pkl\", 'rb') as file:  \n",
        "            reg = pickle.load(file)\n",
        "        else:\n",
        "          if model_name == \"ANN\":\n",
        "            reg = tf.keras.models.load_model(os.getcwd() +  \"/Models_cov_spk/\" + model_name + \"_column_\" + str(id) +\".h5\", compile=False)\n",
        "          else:\n",
        "            reg = tf.keras.models.load_model(os.getcwd() +  \"/Models_cov_spk/\" + model_name + \"_column_\" + str(id) +\".h5\", compile=False)\n",
        "\n",
        "\n",
        "    \n",
        "      if model_name == \"CNN\":\n",
        "        test_pred = reg.predict(x_test_scaled.reshape((x_test_scaled.shape[0],row, col, chn)), verbose=0).flatten()\n",
        "      elif model_name == \"ANN\":\n",
        "        test_pred = reg.predict(x_test_scaled, verbose=0).flatten()\n",
        "      else:\n",
        "        test_pred = reg.predict(x_test_scaled)\n",
        "\n",
        "      margin = optimal_maes[models_list.index(model_name)][id][-1]/2.5 # To tighten the margin\n",
        "        \n",
        "      y_t, y_p = getBinary(y_test, test_pred, margin=margin)\n",
        "\n",
        "      detectecd = (sum(y_t!= y_p))/(len(y_t))\n",
        "\n",
        "      prediction_wrt_column.append(detectecd)\n",
        "\n",
        "    print(prediction_wrt_column)\n",
        "    print(np.mean(prediction_wrt_column))\n",
        "    print()"
      ],
      "metadata": {
        "id": "9y3OkVNAUJ-W"
      },
      "execution_count": null,
      "outputs": []
    },
    {
      "cell_type": "code",
      "source": [
        "# Trained models list\n",
        "models_list = [\"XGBRegressor\", \"LGBMRegressor\", \"CatBoostRegressor\", \"ANN\", \"CNN\"]\n",
        "\n",
        "# Loading MAEs_ISI to numpy array\n",
        "with open('MAEs_ISI.npy', 'rb') as f:\n",
        "    MAEs_ISI = np.load(f)\n",
        "\n",
        "MAEs_ISI.shape"
      ],
      "metadata": {
        "colab": {
          "base_uri": "https://localhost:8080/"
        },
        "id": "5Znxo2HeN7u8",
        "outputId": "1e0a6975-7ce2-48c5-bad5-32fea1c82d2a"
      },
      "execution_count": null,
      "outputs": [
        {
          "output_type": "execute_result",
          "data": {
            "text/plain": [
              "(5, 32, 3)"
            ]
          },
          "metadata": {},
          "execution_count": 11
        }
      ]
    },
    {
      "cell_type": "code",
      "source": [
        "nG = 32\n",
        "ip_shape = (8,8,1)\n",
        "scaling_mode = \"minmax\"\n",
        "fol_Type = \"Output_Missing\"\n",
        "crossbarName = \"32x32\"\n",
        "model_type = \"NN\"\n",
        "model_name = models_list[4]\n",
        "\n",
        "\n",
        "getPrediction(nG, ip_shape, scaling_mode, fol_Type, crossbarName, model_type, model_name, MAEs_ISI, models_list, variance_feat =False)"
      ],
      "metadata": {
        "id": "n5oJUbkNUFJ5",
        "colab": {
          "base_uri": "https://localhost:8080/"
        },
        "outputId": "d440e58b-8a7b-4093-9dcf-a66c6684e754"
      },
      "execution_count": null,
      "outputs": [
        {
          "output_type": "stream",
          "name": "stdout",
          "text": [
            "************************* Missing Spikes *************************\n",
            "************************* Utilization : 10% *************************\n",
            "\n",
            "Scaling Mode :  minmax\n",
            "Model Name :  CNN \n",
            "\n",
            "[0.9134, 0.9764, 0.9686, 0.9074, 0.9104, 0.9114, 0.967, 0.9558, 0.9058, 0.8848, 0.902, 0.9118, 0.8602, 0.9624, 0.967, 0.9114, 0.951, 0.9078, 0.8714, 0.9528, 0.8988, 0.8782, 0.8854, 0.8622, 0.9706, 0.8836, 0.8948, 0.8714, 0.9488, 0.9834, 0.8694, 0.9398]\n",
            "0.9182875\n",
            "\n",
            "************************* Utilization : 20% *************************\n",
            "\n",
            "Scaling Mode :  minmax\n",
            "Model Name :  CNN \n",
            "\n",
            "[0.8324, 0.9732, 0.9748, 0.7712, 0.7942, 0.8462, 0.9002, 0.8914, 0.7696, 0.7244, 0.774, 0.8058, 0.719, 0.9044, 0.9338, 0.8168, 0.8878, 0.7976, 0.714, 0.8856, 0.7498, 0.703, 0.7336, 0.699, 0.9434, 0.7556, 0.776, 0.7142, 0.852, 0.9586, 0.706, 0.8302]\n",
            "0.81680625\n",
            "\n",
            "************************* Utilization : 30% *************************\n",
            "\n",
            "Scaling Mode :  minmax\n",
            "Model Name :  CNN \n",
            "\n",
            "[0.8954, 0.9862, 0.9748, 0.8568, 0.8692, 0.8982, 0.9158, 0.8518, 0.8672, 0.6456, 0.8646, 0.829, 0.6392, 0.939, 0.9758, 0.8156, 0.9452, 0.7798, 0.6138, 0.941, 0.6772, 0.6132, 0.6356, 0.608, 0.9216, 0.8522, 0.7072, 0.768, 0.6952, 0.985, 0.599, 0.855]\n",
            "0.8131625\n",
            "\n",
            "************************* Utilization : 40% *************************\n",
            "\n",
            "Scaling Mode :  minmax\n",
            "Model Name :  CNN \n",
            "\n",
            "[0.858, 0.887, 0.895, 0.8002, 0.8188, 0.8494, 0.8554, 0.8038, 0.8042, 0.5984, 0.8182, 0.788, 0.582, 0.8554, 0.9186, 0.8142, 0.8996, 0.7598, 0.5998, 0.848, 0.6878, 0.5588, 0.6166, 0.575, 0.9296, 0.8488, 0.6996, 0.8488, 0.6846, 0.8866, 0.5628, 0.8414]\n",
            "0.77481875\n",
            "\n",
            "************************* Utilization : 50% *************************\n",
            "\n",
            "Scaling Mode :  minmax\n",
            "Model Name :  CNN \n",
            "\n",
            "[0.7892, 0.793, 0.8264, 0.7164, 0.7218, 0.7318, 0.7548, 0.7098, 0.747, 0.61, 0.7912, 0.7112, 0.531, 0.7158, 0.8274, 0.7878, 0.85, 0.6916, 0.5686, 0.7712, 0.6142, 0.5616, 0.6544, 0.5506, 0.8516, 0.8434, 0.7114, 0.8414, 0.6898, 0.7468, 0.576, 0.7864]\n",
            "0.72105\n",
            "\n"
          ]
        }
      ]
    },
    {
      "cell_type": "code",
      "source": [
        "nG = 32\n",
        "ip_shape = (8,8,1)\n",
        "scaling_mode = \"minmax\"\n",
        "fol_Type = \"Output_Spurious\"\n",
        "crossbarName = \"32x32\"\n",
        "model_type = \"NN\"\n",
        "model_name = models_list[4]\n",
        "\n",
        "\n",
        "getPrediction(nG, ip_shape, scaling_mode, fol_Type, crossbarName, model_type, model_name, MAEs_ISI, models_list, variance_feat =False)"
      ],
      "metadata": {
        "colab": {
          "base_uri": "https://localhost:8080/"
        },
        "id": "d5O-UKEKqyEq",
        "outputId": "ecb0dc8e-6360-4307-8924-67f6b65eaf05"
      },
      "execution_count": null,
      "outputs": [
        {
          "output_type": "stream",
          "name": "stdout",
          "text": [
            "************************* Spurious Spikes *************************\n",
            "************************* Utilization : 10% *************************\n",
            "\n",
            "Scaling Mode :  minmax\n",
            "Model Name :  CNN \n",
            "\n",
            "[0.9656, 0.8668, 0.8718, 0.9682, 0.9662, 0.962, 0.9118, 0.9232, 0.9696, 0.976, 0.9712, 0.9694, 0.9766, 0.9132, 0.8886, 0.9712, 0.9268, 0.969, 0.9766, 0.9216, 0.9704, 0.9708, 0.973, 0.9772, 0.8748, 0.9652, 0.965, 0.9702, 0.9316, 0.8038, 0.9704, 0.9198]\n",
            "0.942425\n",
            "\n",
            "************************* Utilization : 20% *************************\n",
            "\n",
            "Scaling Mode :  minmax\n",
            "Model Name :  CNN \n",
            "\n",
            "[0.9164, 0.7316, 0.7106, 0.943, 0.9314, 0.8982, 0.828, 0.8428, 0.9356, 0.9684, 0.9336, 0.9062, 0.978, 0.8136, 0.7398, 0.9076, 0.8278, 0.9094, 0.9742, 0.817, 0.9406, 0.9662, 0.9628, 0.9714, 0.7074, 0.9148, 0.906, 0.9486, 0.85, 0.649, 0.9598, 0.843]\n",
            "0.8791500000000001\n",
            "\n",
            "************************* Utilization : 30% *************************\n",
            "\n",
            "Scaling Mode :  minmax\n",
            "Model Name :  CNN \n",
            "\n",
            "[0.8986, 0.731, 0.729, 0.9154, 0.9112, 0.8848, 0.869, 0.9108, 0.9, 0.9778, 0.8968, 0.9102, 0.9918, 0.8106, 0.7066, 0.9054, 0.7984, 0.9122, 0.9694, 0.7864, 0.9408, 0.978, 0.9608, 0.979, 0.7204, 0.8014, 0.9024, 0.855, 0.9016, 0.5806, 0.9648, 0.735]\n",
            "0.866725\n",
            "\n",
            "************************* Utilization : 40% *************************\n",
            "\n",
            "Scaling Mode :  minmax\n",
            "Model Name :  CNN \n",
            "\n",
            "[0.8586, 0.7672, 0.7588, 0.8854, 0.88, 0.8428, 0.8336, 0.8814, 0.867, 0.9704, 0.863, 0.8802, 0.983, 0.8282, 0.7252, 0.8668, 0.7806, 0.8922, 0.955, 0.8158, 0.918, 0.9708, 0.9528, 0.982, 0.6898, 0.7732, 0.8898, 0.7856, 0.8896, 0.6304, 0.9554, 0.7264]\n",
            "0.85309375\n",
            "\n",
            "************************* Utilization : 50% *************************\n",
            "\n",
            "Scaling Mode :  minmax\n",
            "Model Name :  CNN \n",
            "\n",
            "[0.8412, 0.7804, 0.742, 0.8766, 0.8804, 0.873, 0.8346, 0.8862, 0.8574, 0.9288, 0.8284, 0.8814, 0.9608, 0.854, 0.7354, 0.818, 0.7566, 0.8728, 0.956, 0.7964, 0.9142, 0.944, 0.8894, 0.96, 0.6626, 0.712, 0.8492, 0.7136, 0.8616, 0.7106, 0.93, 0.7436]\n",
            "0.8391\n",
            "\n"
          ]
        }
      ]
    },
    {
      "cell_type": "code",
      "source": [],
      "metadata": {
        "id": "bvxMzoOMqyK2"
      },
      "execution_count": null,
      "outputs": []
    },
    {
      "cell_type": "code",
      "source": [
        "# # Loading MAEs_COV to numpy array\n",
        "# with open('MAEs_COV.npy', 'rb') as f:\n",
        "#     MAEs_COV = np.load(f)\n",
        "# MAEs_COV.shape"
      ],
      "metadata": {
        "id": "QMrUi4EP7aJu"
      },
      "execution_count": null,
      "outputs": []
    },
    {
      "cell_type": "code",
      "source": [
        "# models_list = [\"XGBRegressor\", \"LGBMRegressor\", \"CatBoostRegressor\", \"ANN\", \"CNN\"]\n",
        "# nG = 32\n",
        "# ip_shape = (8,8,1)\n",
        "# scaling_mode = \"minmax\"\n",
        "# fol_Type = \"Output_Missing\"\n",
        "# crossbarName = \"32x32\"\n",
        "# model_type = \"NN\"\n",
        "# model_name = models_list[4]\n",
        "\n",
        "\n",
        "# getPrediction(nG, ip_shape, scaling_mode, fol_Type, crossbarName, model_type, model_name, MAEs_COV, models_list, variance_feat =True)"
      ],
      "metadata": {
        "id": "0EjyYrns7Vq6"
      },
      "execution_count": null,
      "outputs": []
    },
    {
      "cell_type": "code",
      "source": [
        "# nG = 32\n",
        "# ip_shape = (8,8,1)\n",
        "# scaling_mode = \"minmax\"\n",
        "# fol_Type = \"Output_Spurious\"\n",
        "# crossbarName = \"32x32\"\n",
        "# model_type = \"NN\"\n",
        "# model_name = models_list[4]\n",
        "\n",
        "\n",
        "# getPrediction(nG, ip_shape, scaling_mode, fol_Type, crossbarName, model_type, model_name, MAEs_COV, models_list, variance_feat =True)"
      ],
      "metadata": {
        "id": "8-50nNKW7Vvg"
      },
      "execution_count": null,
      "outputs": []
    },
    {
      "cell_type": "code",
      "source": [
        "# # Loading MAEs_var to numpy array\n",
        "# with open('MAEs_VAR.npy', 'rb') as f:\n",
        "#     MAEs_VAR = np.load(f)\n",
        "\n",
        "# MAEs_VAR.shape"
      ],
      "metadata": {
        "id": "-2FAwYWsMn4q"
      },
      "execution_count": null,
      "outputs": []
    },
    {
      "cell_type": "code",
      "source": [
        "# # Trained models list\n",
        "# models_list = [\"XGBRegressor\", \"LGBMRegressor\", \"CatBoostRegressor\", \"ANN\", \"CNN\"]\n",
        "# nG = 32\n",
        "# ip_shape = (8,8,1)\n",
        "# scaling_mode = \"std\"\n",
        "# fol_Type = \"Output_Spurious\"\n",
        "# crossbarName = \"32x32\"\n",
        "# model_type = \"NN\"\n",
        "# model_name = models_list[3]\n",
        "\n",
        "\n",
        "# getPrediction(nG, ip_shape, scaling_mode, fol_Type, crossbarName, model_type, model_name, MAEs_VAR, models_list, variance_feat = \"var\")"
      ],
      "metadata": {
        "id": "YZBxmSQRhcmP"
      },
      "execution_count": null,
      "outputs": []
    },
    {
      "cell_type": "code",
      "source": [
        "# models_list = [\"XGBRegressor\", \"LGBMRegressor\", \"CatBoostRegressor\", \"ANN\", \"CNN\"]\n",
        "# nG = 32\n",
        "# ip_shape = (8,8,1)\n",
        "# scaling_mode = \"std\"\n",
        "# fol_Type = \"Output_Missing\"\n",
        "# crossbarName = \"32x32\"\n",
        "# model_type = \"NN\"\n",
        "# model_name = models_list[3]\n",
        "\n",
        "\n",
        "# getPrediction(nG, ip_shape, scaling_mode, fol_Type, crossbarName, model_type, model_name, MAEs_VAR, models_list, variance_feat = \"var\")"
      ],
      "metadata": {
        "id": "hqXUdqeET3IW"
      },
      "execution_count": null,
      "outputs": []
    },
    {
      "cell_type": "code",
      "source": [],
      "metadata": {
        "id": "3Ti-N5KFT3L8"
      },
      "execution_count": null,
      "outputs": []
    },
    {
      "cell_type": "code",
      "source": [],
      "metadata": {
        "id": "SqJqE2kdT3T6"
      },
      "execution_count": null,
      "outputs": []
    }
  ],
  "metadata": {
    "colab": {
      "provenance": []
    },
    "kernelspec": {
      "display_name": "Python 3",
      "name": "python3"
    },
    "language_info": {
      "name": "python"
    },
    "gpuClass": "standard",
    "accelerator": "GPU"
  },
  "nbformat": 4,
  "nbformat_minor": 0
}