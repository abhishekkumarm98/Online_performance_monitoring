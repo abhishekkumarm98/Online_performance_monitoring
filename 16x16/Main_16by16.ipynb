{
 "cells": [
  {
   "cell_type": "code",
   "execution_count": 1,
   "metadata": {
    "colab": {
     "base_uri": "https://localhost:8080/"
    },
    "id": "bxdc2Q235NyI",
    "outputId": "498ed2ba-adc6-4004-a1b6-817a01406eab"
   },
   "outputs": [
    {
     "name": "stdout",
     "output_type": "stream",
     "text": [
      "Mounted at /content/drive\n"
     ]
    }
   ],
   "source": [
    "from google.colab import drive\n",
    "drive.mount('/content/drive')"
   ]
  },
  {
   "cell_type": "code",
   "execution_count": null,
   "metadata": {
    "id": "PKGOF85B415h"
   },
   "outputs": [],
   "source": [
    "cd drive/MyDrive/SNN_data"
   ]
  },
  {
   "cell_type": "code",
   "execution_count": 3,
   "metadata": {
    "id": "8wmMeu5w1dwF"
   },
   "outputs": [],
   "source": [
    "# Go to that directory where log files are saved "
   ]
  },
  {
   "cell_type": "code",
   "execution_count": null,
   "metadata": {
    "id": "Iwm561PkPXLe"
   },
   "outputs": [],
   "source": [
    "cd Column16_seq/"
   ]
  },
  {
   "cell_type": "code",
   "execution_count": null,
   "metadata": {
    "id": "WYDAgvgVPLi8"
   },
   "outputs": [],
   "source": [
    "!pwd"
   ]
  },
  {
   "cell_type": "code",
   "execution_count": 6,
   "metadata": {
    "id": "3_tArxWR2NO4"
   },
   "outputs": [],
   "source": [
    "import os,re, pickle, random\n",
    "import numpy as np\n",
    "import pandas as pd\n",
    "from itertools import chain\n",
    "from bs4 import BeautifulSoup\n",
    "from xgboost import XGBRegressor\n",
    "from sklearn.svm import SVR\n",
    "from lightgbm import LGBMRegressor\n",
    "from sklearn.tree import DecisionTreeRegressor\n",
    "from sklearn.linear_model import LinearRegression\n",
    "from sklearn.ensemble import GradientBoostingRegressor, AdaBoostRegressor, RandomForestRegressor\n",
    "from sklearn.model_selection import train_test_split\n",
    "from sklearn.preprocessing import MinMaxScaler, StandardScaler\n",
    "\n",
    "import keras\n",
    "import tensorflow as tf\n",
    "from tensorflow.keras import Model\n",
    "from tensorflow.keras import Sequential\n",
    "from tensorflow.keras.optimizers import Adam\n",
    "from tensorflow.keras.layers import Dense, Dropout, BatchNormalization\n",
    "from tensorflow.keras.losses import MeanSquaredError\n",
    "from tensorflow.keras.layers import Conv2D, MaxPooling2D, Flatten\n",
    "from tensorflow.keras.optimizers import Adam, SGD\n",
    "from tensorflow.keras.losses import MeanAbsoluteError\n",
    "\n",
    "import matplotlib\n",
    "from matplotlib import pyplot as plt\n",
    "from sklearn.metrics import mean_absolute_error, roc_curve, auc\n",
    "matplotlib.rc('xtick', labelsize=16) \n",
    "matplotlib.rc('ytick', labelsize=16) "
   ]
  },
  {
   "cell_type": "code",
   "execution_count": 7,
   "metadata": {
    "colab": {
     "base_uri": "https://localhost:8080/"
    },
    "id": "UMu2iHHj2NRd",
    "outputId": "9c429a3c-e0b6-4cd2-b7e1-b0dd401fe24e"
   },
   "outputs": [
    {
     "name": "stdout",
     "output_type": "stream",
     "text": [
      "Collecting catboost\n",
      "  Downloading catboost-1.0.5-cp37-none-manylinux1_x86_64.whl (76.6 MB)\n",
      "\u001b[K     |████████████████████████████████| 76.6 MB 54 kB/s \n",
      "\u001b[?25hRequirement already satisfied: matplotlib in /usr/local/lib/python3.7/dist-packages (from catboost) (3.2.2)\n",
      "Requirement already satisfied: pandas>=0.24.0 in /usr/local/lib/python3.7/dist-packages (from catboost) (1.3.5)\n",
      "Requirement already satisfied: numpy>=1.16.0 in /usr/local/lib/python3.7/dist-packages (from catboost) (1.21.5)\n",
      "Requirement already satisfied: graphviz in /usr/local/lib/python3.7/dist-packages (from catboost) (0.10.1)\n",
      "Requirement already satisfied: six in /usr/local/lib/python3.7/dist-packages (from catboost) (1.15.0)\n",
      "Requirement already satisfied: plotly in /usr/local/lib/python3.7/dist-packages (from catboost) (5.5.0)\n",
      "Requirement already satisfied: scipy in /usr/local/lib/python3.7/dist-packages (from catboost) (1.4.1)\n",
      "Requirement already satisfied: pytz>=2017.3 in /usr/local/lib/python3.7/dist-packages (from pandas>=0.24.0->catboost) (2018.9)\n",
      "Requirement already satisfied: python-dateutil>=2.7.3 in /usr/local/lib/python3.7/dist-packages (from pandas>=0.24.0->catboost) (2.8.2)\n",
      "Requirement already satisfied: kiwisolver>=1.0.1 in /usr/local/lib/python3.7/dist-packages (from matplotlib->catboost) (1.4.0)\n",
      "Requirement already satisfied: cycler>=0.10 in /usr/local/lib/python3.7/dist-packages (from matplotlib->catboost) (0.11.0)\n",
      "Requirement already satisfied: pyparsing!=2.0.4,!=2.1.2,!=2.1.6,>=2.0.1 in /usr/local/lib/python3.7/dist-packages (from matplotlib->catboost) (3.0.7)\n",
      "Requirement already satisfied: typing-extensions in /usr/local/lib/python3.7/dist-packages (from kiwisolver>=1.0.1->matplotlib->catboost) (3.10.0.2)\n",
      "Requirement already satisfied: tenacity>=6.2.0 in /usr/local/lib/python3.7/dist-packages (from plotly->catboost) (8.0.1)\n",
      "Installing collected packages: catboost\n",
      "Successfully installed catboost-1.0.5\n"
     ]
    }
   ],
   "source": [
    "!pip install catboost"
   ]
  },
  {
   "cell_type": "code",
   "execution_count": 8,
   "metadata": {
    "id": "c7mz3yUB2NUE"
   },
   "outputs": [],
   "source": [
    "from catboost import CatBoostRegressor"
   ]
  },
  {
   "cell_type": "code",
   "execution_count": null,
   "metadata": {
    "id": "rSEgnp7T2Nbw"
   },
   "outputs": [],
   "source": [
    "def getInfo(file, ip_spks):\n",
    "\n",
    "    \"\"\"\n",
    "    Args:\n",
    "    file : Log files \n",
    "    ip_spks : Number of input neurons or pre-synaptic neurons\n",
    "\n",
    "    return :\n",
    "    df : Dataframe\n",
    "    \n",
    "    \"\"\"\n",
    "\n",
    "    with open(file) as f:\n",
    "        soup = BeautifulSoup(f.read(), \"html.parser\")\n",
    "\n",
    "    df = pd.DataFrame()\n",
    "\n",
    "    # Making column names\n",
    "    cols = [\"Time(s)\", \"Column Number\"]\n",
    "    for i in range(ip_spks):\n",
    "      cols.append(\"spk_ip_\" + str(i))\n",
    "      cols.append(\"#Spikes_\" + str(i))\n",
    "      cols.append(\"ISI_\" + str(i))\n",
    "\n",
    "    cols += [\"#Spikes_out\", \"ISI_out\"]\n",
    "\n",
    "    time = [int(i.split(\":\")[1]) for i in re.findall(r\"Time : \\d+\", soup.text)]\n",
    "\n",
    "    df[\"Time(s)\"] = time\n",
    "\n",
    "    # Column number info\n",
    "    col_num = [int(j.split(\":\")[1]) for j in re.findall(\"Column number: \\d+\",soup.text)]\n",
    "\n",
    "    df[\"Column Number\"] = col_num \n",
    "\n",
    "    # NeuronID info for each spike generating neuron\n",
    "    n_id_info = re.findall(\"NeuronID: (.+)\", soup.text)\n",
    "\n",
    "    spikes_info = [list(map(int,re.findall(r'(\\d+)', i))) for i in n_id_info]\n",
    "    \n",
    "    n_id_info_v1 = []\n",
    "\n",
    "    for idx in range(0, len(spikes_info), ip_spks):\n",
    "      \n",
    "      var = list(chain.from_iterable((x[0],len(x)-1, x[1:]) for x in spikes_info[idx: idx + ip_spks]))\n",
    "      \n",
    "      n_id_info_v1.append(var)\n",
    "  \n",
    "\n",
    "    df[cols[2:-2]] = n_id_info_v1\n",
    "\n",
    "\n",
    "    # Output column info\n",
    "    out = re.findall(\"Output Neuron at column (.+)\", soup.text)\n",
    "\n",
    "    spikes_info_out = [list(map(int, re.findall(r'(\\d+)', i))) for i in out]\n",
    "    # print(spikes_info_out)\n",
    "    out_info = []\n",
    "\n",
    "    for i_out in spikes_info_out:\n",
    "      out_info.append([len(i_out)-1, i_out[1:]])\n",
    "\n",
    "    # Checking #instances\n",
    "    assert len(out_info) == len(time) == len(col_num) == len(n_id_info_v1)\n",
    "    \n",
    "    df[cols[-2:]] = out_info\n",
    "\n",
    "\n",
    "    return df"
   ]
  },
  {
   "cell_type": "code",
   "execution_count": 9,
   "metadata": {
    "id": "1mV4_qvJ2Ned"
   },
   "outputs": [],
   "source": [
    "# To compute average ISI (Inter-spiking interval)\n",
    "def getAvgIsi(x):\n",
    "\n",
    "  if len(x) == 1:\n",
    "    return x[0]%1000\n",
    "\n",
    "  else:\n",
    "    return sum([(x[i+1]%1000)- (x[i]%1000) for i in range(len(x)-1)])/(len(x)-1)"
   ]
  },
  {
   "cell_type": "code",
   "execution_count": null,
   "metadata": {
    "id": "U_xl-KmO2Ngw"
   },
   "outputs": [],
   "source": [
    "# To make a directory to save all log files for each pre-synaptic neuron or input neuron\n",
    "os.mkdir(\"files_16_raw\")"
   ]
  },
  {
   "cell_type": "code",
   "execution_count": null,
   "metadata": {
    "id": "B4MVxTeX2Njb"
   },
   "outputs": [],
   "source": [
    "def SaveRawFile(dataframe, i, fol):\n",
    "  \"\"\"\n",
    "  Args :\n",
    "  dataframe: Dataframe\n",
    "  i : Post-synaptic neuron ID\n",
    "  fol : File name of post-synaptic neuron ID\n",
    "  \n",
    "  \"\"\"\n",
    "\n",
    "  columns = dataframe.columns\n",
    "  f = pd.DataFrame()\n",
    "\n",
    "  idx = 0\n",
    "  for e in columns:\n",
    "    \n",
    "    if e.startswith(\"ISI_\"):\n",
    "\n",
    "      if e == \"ISI_out\":\n",
    "          f[e] =  dataframe[e]\n",
    "          f['Avg_ISI_out'] =  dataframe['ISI_out'].apply(lambda x: getAvgIsi(x))\n",
    "        \n",
    "      else:\n",
    "        f[e] =  dataframe[e]\n",
    "        f['Avg_ISI_'+str(idx)] =  dataframe['ISI_' + str(idx)].apply(lambda x: getAvgIsi(x))\n",
    "        idx += 1\n",
    "\n",
    "    else:\n",
    "      f[e] = dataframe[e]\n",
    "\n",
    "  f.to_excel(\"files_16_raw/\" + fol + \"/\" + \"Column\" + str(i) + \".xlsx\", index = False)\n",
    "  "
   ]
  },
  {
   "cell_type": "code",
   "execution_count": null,
   "metadata": {
    "colab": {
     "base_uri": "https://localhost:8080/"
    },
    "id": "OiXb1EHY2NmS",
    "outputId": "479f816b-aa7a-46bc-c731-65651612ee8b"
   },
   "outputs": [
    {
     "name": "stdout",
     "output_type": "stream",
     "text": [
      "['Column_0', 'Column_2', 'Column_6', 'Column_9', 'Column_10', 'Column_14', 'Column_7', 'Column_12', 'Column_11', 'Column_1', 'Column_4', 'Column_8', 'Column_3', 'Column_5', 'Column_13', 'Column_15']\n"
     ]
    }
   ],
   "source": [
    "fol_name = os.listdir(\"logs/\")\n",
    "assert len(fol_name) == 16\n",
    "print(fol_name)"
   ]
  },
  {
   "cell_type": "markdown",
   "metadata": {
    "id": "f4RXs9QW4Tof"
   },
   "source": [
    "# Saving log files in the desirable and readable format"
   ]
  },
  {
   "cell_type": "code",
   "execution_count": null,
   "metadata": {
    "id": "-uG5abex2Nov"
   },
   "outputs": [],
   "source": [
    "for fol in fol_name:\n",
    "  logs_list = [i for i in os.listdir(\"logs/\"+ fol) if i.endswith(\".txt\")]\n",
    "\n",
    "  os.mkdir(\"files_16_raw/\"+ fol) \n",
    "\n",
    "  # Saving raw data in excel file\n",
    "  for file_name in logs_list:\n",
    "    print(f\"Folder Name : {fol} | Column name : {file_name}.\")\n",
    "    col_num = int(file_name.split(\".txt\")[0][10:])\n",
    "    df = getInfo(\"logs\"+ '/' + fol + \"/\" + file_name, 16)\n",
    "    SaveRawFile(df, col_num, fol)"
   ]
  },
  {
   "cell_type": "code",
   "execution_count": null,
   "metadata": {
    "id": "DwHPqUbL2NrW"
   },
   "outputs": [],
   "source": [
    "# Sort the name of file of post-synaptic neuron ID\n",
    "\n",
    "def atof(text):\n",
    "    try:\n",
    "        retval = float(text)\n",
    "    except ValueError:\n",
    "        retval = text\n",
    "    return retval\n",
    "\n",
    "def natural_keys(text):\n",
    "\n",
    "    return [ atof(c) for c in re.split(r'[+-]?([0-9]+(?:[.][0-9]*)?|[.][0-9]+)', text) ]"
   ]
  },
  {
   "cell_type": "code",
   "execution_count": null,
   "metadata": {
    "id": "M7sdcsgl2Nuf"
   },
   "outputs": [],
   "source": [
    "# To create a directory to save all features (Spike rate, Avg. ISI) and their ground truth (Observed ISI) \n",
    "os.mkdir(\"StackedFiles\")"
   ]
  },
  {
   "cell_type": "code",
   "execution_count": null,
   "metadata": {
    "id": "RRBTQEnz2Nwt"
   },
   "outputs": [],
   "source": [
    "\"\"\"\n",
    "Extracting features (Spike rate, Avg. ISI) and their ground truth (Observed ISI) and then\n",
    "apply breakout distribution and then data augmentation.\n",
    "\n",
    "\"\"\"\n",
    "\n",
    "def StackedFile(path, nG, fol):\n",
    "    \"\"\"\n",
    "    Args:\n",
    "    path : File name path for post-synaptic neuron ID\n",
    "    nG : Number of post-synaptic neurons\n",
    "    fol : post-synaptic neuron ID\n",
    "\n",
    "    \"\"\"\n",
    "    files = [i for i in os.listdir(path) if i.endswith(\".xlsx\")]\n",
    "    files.sort(key=natural_keys)  \n",
    "\n",
    "    # print(files)\n",
    "\n",
    "    increment = 0\n",
    "\n",
    "    for i,f in enumerate(files):\n",
    "\n",
    "        \"\"\"\n",
    "        Predicting only average ISI_out, not #Spikes_out\n",
    "        \"\"\"\n",
    "        \n",
    "        file = pd.read_excel(path + '/' + f)\n",
    "\n",
    "        cols_drop = []\n",
    "\n",
    "        for id in range(nG):\n",
    "          cols_drop.append(\"spk_ip_\" + str(id))\n",
    "          cols_drop.append(\"ISI_\" + str(id))\n",
    "\n",
    "        cols_drop.append(\"ISI_out\")\n",
    "\n",
    "        file.drop(cols_drop, axis=1, inplace=True)\n",
    "\n",
    "        file_v1 = file.reset_index(drop=True)\n",
    "\n",
    "\n",
    "        X_train  = file_v1.drop(labels = ['Time(s)', 'Column Number', '#Spikes_out','Avg_ISI_out'], axis=1).values\n",
    "        y_train =  file_v1['Avg_ISI_out'].values\n",
    "\n",
    "        increment += 1\n",
    "        X_train_v1 = np.concatenate([X_train[:, :increment*2], np.zeros((X_train.shape[0], X_train.shape[1] - (increment*2)))], axis =1)\n",
    "        \n",
    "        if i == 0:\n",
    "          X_tr, y_tr =  X_train_v1, y_train\n",
    " \n",
    "        else:\n",
    "          X_tr1, y_tr1 =  X_train_v1, y_train\n",
    "\n",
    "          X_tr = np.concatenate([X_tr, X_tr1])\n",
    "          y_tr = np.concatenate([y_tr, y_tr1])\n",
    "\n",
    "   \n",
    "    with open(\"StackedFiles/X_train_stacked_\" + fol + \".npy\", 'wb') as f:\n",
    "      np.save(f, X_tr)\n",
    "\n",
    "    with open(\"StackedFiles/y_train_stacked_\" + fol + \".npy\", 'wb') as f:\n",
    "      np.save(f, y_tr)\n"
   ]
  },
  {
   "cell_type": "code",
   "execution_count": null,
   "metadata": {
    "id": "LgfucFxO2Nz4"
   },
   "outputs": [],
   "source": [
    "# Saving the features and their ground truth for each column of crossbar array\n",
    "for fol in fol_name:\n",
    "  print(\"#\" * 25 + \" \" + fol + \" \" + \"#\"*25)\n",
    "  StackedFile(os.getcwd() + '/' + \"files_16_raw/\" + fol + \"/\", 16, fol)"
   ]
  },
  {
   "cell_type": "code",
   "execution_count": 10,
   "metadata": {
    "id": "Vr9LeJwK2N2A"
   },
   "outputs": [],
   "source": [
    "def getBinary(y_true, y_pred, margin):\n",
    "  \n",
    "  \"\"\"\n",
    "  It will binarize the continuous values which are y_true and y_pred with\n",
    "  the help of margin and threshold to plot ROC (Receiver operating characteristic).\n",
    "\n",
    "  Args:\n",
    "  y_true : Observed avg. ISI (continuous values)\n",
    "  y_pred : Predicted avg. ISI (continuous values)\n",
    "  margin : The margin is the obtained optimal MAE or a user can take loose margin as per his choice to incur more false alaram or false fault\n",
    "\n",
    "  return:\n",
    "  y_t : Binarized y_true\n",
    "  y_p : Binarized y_pred\n",
    "\n",
    "  The reason to opt for ROC curve because it offers an elegant way to\n",
    "  plot true fault detection rate versus false fault detection rate.\n",
    " \n",
    "  \"\"\"\n",
    "\n",
    "  thresh = pd.Series(y_true).median()   # We have taken median as a threshold because it is not impacted by the outliers\n",
    "  y_t = []\n",
    "  y_p = []\n",
    "\n",
    "  for t,p in zip(y_true, y_pred):\n",
    "    if np.abs(t - p) <= margin:\n",
    "      if t> thresh:\n",
    "        y_t.append(1)\n",
    "        y_p.append(1)\n",
    "      else:\n",
    "        y_t.append(0)\n",
    "        y_p.append(0)\n",
    "\n",
    "    else:\n",
    "      if (t > thresh) and (p > thresh):  # ex: t=60, p=80 but thresh = 55 --> t,p -> 1, therefore one of them has to be opposite to another because abs(t-p)>15.\n",
    "        y_t.append(1)\n",
    "        y_p.append(0)\n",
    "\n",
    "      elif (t > thresh) and (p <= thresh):  # ex: t=60, p=40 but thresh = 55 --> t->1,  p-> 0, which satisfies the condition, one has to be opposite of another.\n",
    "        y_t.append(1)\n",
    "        y_p.append(0)\n",
    "\n",
    "      elif (t <= thresh) and (p > thresh):  # ex: t=30, p=57 but thresh = 55 --> t->0,  p-> 1,\n",
    "        y_t.append(0)\n",
    "        y_p.append(1)\n",
    "\n",
    "      elif (t <= thresh) and (p <= thresh): # ex: t=25, p=45 but thresh = 55 --> t->0, p-> 1, therefore one of them has to be opposite to another.\n",
    "        y_t.append(0)\n",
    "        y_p.append(1)\n",
    "      \n",
    "\n",
    "  y_t = np.array(y_t)\n",
    "  y_p = np.array(y_p)\n",
    "\n",
    "  return y_t, y_p"
   ]
  },
  {
   "cell_type": "code",
   "execution_count": 11,
   "metadata": {
    "id": "1BpLwfl02N49"
   },
   "outputs": [],
   "source": [
    "def plotROC(y_true, y_pred, reg, margin, color):\n",
    "\n",
    "  \"\"\"\n",
    "  To plot ROC\n",
    "\n",
    "  Args: \n",
    "  y_true : Observed avg. ISI\n",
    "  y_pred : Predicted avg. ISI\n",
    "  reg :  Regressor Name\n",
    "  margin : The margin is the obtained optimal MAE or a user can take loose margin as per his choice to incur more false alaram or false fault\n",
    "  color : Color\n",
    "\n",
    "  return:\n",
    "  y_t : Binarized y_true\n",
    "  y_p : Binarized y_pred\n",
    "\n",
    "  \"\"\"\n",
    "\n",
    "  y_t, y_p = getBinary(y_true, y_pred, margin)\n",
    "\n",
    "  # print(\"y_true, y_pred\")\n",
    "  # print(y_true)\n",
    "  # print(y_pred)\n",
    "  \n",
    "  fpr, tpr, _ = roc_curve(y_t, y_p )\n",
    "  roc_auc = auc(fpr, tpr)\n",
    "\n",
    "  print()\n",
    "  print(\"False positive rate : \", fpr[1])\n",
    "  print(\"True positive rate : \", tpr[1])\n",
    "  print(\"ROC Area under curve : \", roc_auc)\n",
    "\n",
    "  plt.figure(figsize = (6,6))\n",
    "  lw = 2\n",
    "  plt.plot(fpr, tpr, color= color, lw=lw, label=f\"ROC curve (area = %0.2f) for {reg}.\" % roc_auc,linewidth=4)\n",
    "  plt.plot([0, 1], [0, 1], color=\"navy\", lw=lw, linestyle=\"--\")\n",
    "  plt.xlim([0.0, 1.0])\n",
    "  plt.ylim([0.0, 1.05])\n",
    "  plt.xlabel(\"False Positive Rate\", fontsize=15)\n",
    "  plt.ylabel(\"True Positive Rate\", fontsize=15)\n",
    "  plt.title(\"Receiver operating characteristic example\")\n",
    "  plt.legend(loc=\"lower right\")\n",
    "  plt.show()\n",
    "\n",
    "  return y_t, y_p"
   ]
  },
  {
   "cell_type": "code",
   "execution_count": null,
   "metadata": {
    "id": "UCezGNnv2N7b"
   },
   "outputs": [],
   "source": [
    "# To create a directory for saving scaler and model for each column\n",
    "os.mkdir('Scaler')\n",
    "os.mkdir('Models')"
   ]
  },
  {
   "cell_type": "code",
   "execution_count": 12,
   "metadata": {
    "id": "0w7daBJZ2N93"
   },
   "outputs": [],
   "source": [
    "def DeepNN(type, ip_shape = None):\n",
    "\n",
    "  \"\"\"\n",
    "  Args:\n",
    "  type : ANN or CNN\n",
    "\n",
    "  return:\n",
    "  ANN or CNN model\n",
    "\n",
    "  \"\"\"\n",
    "\n",
    "  \n",
    "  hidden_units = 256\n",
    "  n_filters = 16\n",
    "  learning_rate = 0.001 # 0.001\n",
    "\n",
    "  # Initialize the weights with He normalization\n",
    "  he_init = tf.keras.initializers.HeNormal()\n",
    "\n",
    "  if type == \"CNN\":\n",
    "\n",
    "    model = Sequential([\n",
    "        Conv2D(filters= n_filters, kernel_size=(3, 3), kernel_initializer=he_init, activation='relu', input_shape=ip_shape),BatchNormalization(),\n",
    "        MaxPooling2D((2, 2)),\n",
    "        Conv2D(filters= n_filters, kernel_size=(1, 1), kernel_initializer=he_init, activation= 'relu'),BatchNormalization(),\n",
    "        MaxPooling2D((1, 1)),\n",
    "        Flatten(),\n",
    "        Dense(hidden_units, kernel_initializer=he_init, activation='relu'),\n",
    "        Dropout(0.3),\n",
    "        Dense(1, kernel_initializer=he_init, activation='linear')\n",
    "        ])\n",
    "    \n",
    "    # Loss function\n",
    "    msle =  MeanSquaredError() \n",
    "    model.compile(loss=msle, optimizer=Adam(learning_rate=learning_rate), metrics=[MeanAbsoluteError()])\n",
    "\n",
    "    return model\n",
    "\n",
    "\n",
    "  elif type == \"ANN\":\n",
    "    model = Sequential([\n",
    "      Dense(hidden_units, kernel_initializer=he_init, activation='relu'),\n",
    "      Dropout(0.2),\n",
    "      Dense(hidden_units, kernel_initializer=he_init, activation='relu'),\n",
    "      Dropout(0.4),\n",
    "      Dense(1, kernel_initializer=he_init, activation='linear')])\n",
    "    \n",
    "    # Loss function\n",
    "    msle =  MeanSquaredError() \n",
    "    model.compile(loss=msle, optimizer=Adam(learning_rate=learning_rate), metrics=[MeanAbsoluteError()])\n",
    "\n",
    "    return model\n",
    "\n"
   ]
  },
  {
   "cell_type": "code",
   "execution_count": null,
   "metadata": {
    "id": "SIFSKgI52OAn"
   },
   "outputs": [],
   "source": [
    "\"\"\"\n",
    "To test which model is performing the best and then in the below cell. We will train that model for\n",
    "all columns of 16 by 16 crossbar array.\n",
    "\"\"\"\n",
    "\n",
    "def test(id, ip_shape, scaling_mode):\n",
    "    \"\"\"\n",
    "    Args:\n",
    "    id : Synaptic neuron id or column id\n",
    "    scaling_mode : Type of scaling technique\n",
    "    ip_shape : Dimension of an example (Mainly for CNN)\n",
    "\n",
    "    \"\"\"\n",
    "\n",
    "    row, col, chn = ip_shape\n",
    "    print(\"#\"*25 + \" \" + \"Column\" + str(id) +\" \" + \"#\"*25)\n",
    "    with open(\"StackedFiles/X_train_stacked_Column_\" + str(id) + \".npy\", 'rb') as f:\n",
    "      X = np.load(f)\n",
    "\n",
    "    with open(\"StackedFiles/y_train_stacked_Column_\" + str(id) + \".npy\", 'rb') as f:\n",
    "      y = np.load(f)\n",
    "\n",
    "    print()\n",
    "\n",
    "    # Splitting the dataset into training, validation, and test set in (4:0.5:0.5) ratio\n",
    "    X_train, X_val, y_train, y_val = train_test_split(X, y/10, test_size=0.20, random_state=42)   \n",
    "    X_val, X_test, y_val, y_test = train_test_split(X_val, y_val, test_size=0.50, random_state=42)\n",
    "\n",
    "    print(\"X_train : \", X_train.shape)\n",
    "    print(\"y_train : \", y_train.shape)\n",
    "    print(\"X_val : \", X_val.shape)\n",
    "    print(\"y_val : \", y_val.shape)\n",
    "    print(\"X_test : \", X_test.shape)\n",
    "    print(\"y_test : \", y_test.shape)\n",
    "    print()\n",
    "\n",
    "\n",
    "    # Standard Scaling\n",
    "    if scaling_mode == 'std':\n",
    "      print(\"Standard Scaling\",'\\n')\n",
    "      scaler = StandardScaler()\n",
    "      x_train_scaled = scaler.fit_transform(X_train)\n",
    "      x_test_scaled = scaler.transform(X_test)\n",
    "      x_val_scaled = scaler.transform(X_val)\n",
    "      \n",
    "\n",
    "    # Min-max Scaling\n",
    "    elif scaling_mode == \"minmax\":\n",
    "      print(\"Minmax Scaling \\n\")\n",
    "      scaler = MinMaxScaler()\n",
    "      x_train_scaled = scaler.fit_transform(X_train)\n",
    "      x_test_scaled = scaler.transform(X_test)\n",
    "      x_val_scaled = scaler.transform(X_val)\n",
    "\n",
    "\n",
    "    # Training model\n",
    "    model_name = [\"LinearRegression\", \"GradientBoostingRegressor\", \"RandomForestRegressor\", \"AdaBoostRegressor\", \"XGBRegressor\", \n",
    "                  \"LGBMRegressor\", \"CatBoostRegressor\", \"ANN\", \"CNN\"] # , \"SVR\"\n",
    "\n",
    "    reg1 = LinearRegression()\n",
    "    reg2 = GradientBoostingRegressor(learning_rate=0.15, n_estimators=200, min_samples_leaf=1, max_depth=3, random_state=0)\n",
    "    reg3 = RandomForestRegressor(n_estimators=300, criterion='squared_error', max_depth=7, random_state=0)\n",
    "    reg4 = AdaBoostRegressor(DecisionTreeRegressor(max_depth=7, random_state=42), n_estimators=100, learning_rate=0.01, loss='square')\n",
    "    reg5 = XGBRegressor(n_estimators = 200, max_depth = 5, learning_rate=0.03, booster = 'gbtree', tree_method = 'auto',random_state=42)\n",
    "    reg6 = LGBMRegressor(n_estimators = 200, boosting_type = 'dart',max_depth = 5, num_leaves = 25, learning_rate=0.25, random_state =42)\n",
    "    reg7 = CatBoostRegressor(learning_rate = 0.05, depth = 8,boosting_type = 'Ordered',loss_function = \"RMSE\",verbose = False)\n",
    "    #reg8 = SVR(kernel ='linear')\n",
    "    \n",
    "    early_stopping = tf.keras.callbacks.EarlyStopping(monitor = 'val_loss', verbose=1, patience=5, mode= 'min')\n",
    "    ann = DeepNN('ANN')\n",
    "    cnn = DeepNN('CNN', (row, col, chn))\n",
    "\n",
    "    # Mean absoluter error for each regressor model for training, validation, and test set\n",
    "    MAEs = []\n",
    "    \n",
    "    for ix,reg in enumerate([reg1, reg2, reg3, reg4, reg5, reg6, reg7, ann, cnn]): # reg8\n",
    "\n",
    "      if len(model_name) -1 == ix:\n",
    "        padding_tr = np.zeros((x_train_scaled.shape[0], 2))\n",
    "        padding_val = np.zeros((x_val_scaled.shape[0], 2))\n",
    "        padding_te = np.zeros((x_test_scaled.shape[0], 2))\n",
    "        x_tr = np.concatenate([padding_tr, x_train_scaled, padding_tr], axis=1).reshape((x_train_scaled.shape[0],row, col, chn))\n",
    "        x_val = np.concatenate([padding_val, x_val_scaled, padding_val], axis=1).reshape((x_val_scaled.shape[0],row, col, chn))\n",
    "        x_te = np.concatenate([padding_te, x_test_scaled, padding_te], axis=1).reshape((x_test_scaled.shape[0],row, col, chn))\n",
    "        reg.fit(x_tr, y_train, epochs=151, batch_size=128, callbacks=[early_stopping], \n",
    "                                                    validation_data=(x_val, y_val), verbose=0)\n",
    "      elif len(model_name)-2 == ix:\n",
    "        reg.fit(x_train_scaled, y_train, epochs=151, batch_size=128, callbacks=[early_stopping], validation_data=(x_val_scaled, y_val), verbose=0)\n",
    "\n",
    "      else:\n",
    "        reg.fit(x_train_scaled, y_train)\n",
    "\n",
    "      if len(model_name) -1 == ix:\n",
    "        tr_mae = np.round(mean_absolute_error(y_train, reg.predict(x_tr)), 5)\n",
    "        val_mae = np.round(mean_absolute_error(y_val, reg.predict(x_val)), 5)\n",
    "        test_mae = np.round(mean_absolute_error(y_test, reg.predict(x_te)), 5)\n",
    "\n",
    "      else:\n",
    "        tr_mae = np.round(mean_absolute_error(y_train, reg.predict(x_train_scaled)), 5)\n",
    "        val_mae = np.round(mean_absolute_error(y_val, reg.predict(x_val_scaled)), 5)\n",
    "        test_mae = np.round(mean_absolute_error(y_test, reg.predict(x_test_scaled)), 5)\n",
    "\n",
    "      reg_name = model_name[ix]\n",
    "\n",
    "      print(f\"MAE of {reg_name} on training set is {tr_mae}.\")\n",
    "      print(f\"MAE of {reg_name} on validation set is {val_mae}.\")\n",
    "      print(f\"MAE of {reg_name} on test set is {test_mae}.\")\n",
    "      print()\n",
    "      print(\"*\"*71)\n",
    "      print()\n",
    "\n",
    "      MAEs.append(reg_name + \" : | Training MAE : \" + str(tr_mae) + \" | Validation MAE : \" + str(val_mae) + \" | Test MAE : \" + str(test_mae))\n",
    "\n",
    "    print(\"Results :\\n\")\n",
    "    for result in MAEs:\n",
    "      print(result)"
   ]
  },
  {
   "cell_type": "code",
   "execution_count": null,
   "metadata": {
    "colab": {
     "base_uri": "https://localhost:8080/"
    },
    "id": "-HB0uwTw2OFZ",
    "outputId": "bfd26538-1fbf-4b76-ad5a-278efcb5e78b"
   },
   "outputs": [
    {
     "name": "stdout",
     "output_type": "stream",
     "text": [
      "######################### Column0 #########################\n",
      "\n",
      "X_train :  (64012, 32)\n",
      "y_train :  (64012,)\n",
      "X_val :  (8002, 32)\n",
      "y_val :  (8002,)\n",
      "X_test :  (8002, 32)\n",
      "y_test :  (8002,)\n",
      "\n",
      "Minmax Scaling \n",
      "\n",
      "MAE of LinearRegression on training set is 4.4653.\n",
      "MAE of LinearRegression on validation set is 4.30569.\n",
      "MAE of LinearRegression on test set is 4.4753.\n",
      "\n",
      "***********************************************************************\n",
      "\n",
      "MAE of GradientBoostingRegressor on training set is 3.47238.\n",
      "MAE of GradientBoostingRegressor on validation set is 3.4473.\n",
      "MAE of GradientBoostingRegressor on test set is 3.5823.\n",
      "\n",
      "***********************************************************************\n",
      "\n",
      "MAE of RandomForestRegressor on training set is 3.51627.\n",
      "MAE of RandomForestRegressor on validation set is 3.50781.\n",
      "MAE of RandomForestRegressor on test set is 3.62861.\n",
      "\n",
      "***********************************************************************\n",
      "\n",
      "MAE of AdaBoostRegressor on training set is 3.7016.\n",
      "MAE of AdaBoostRegressor on validation set is 3.68924.\n",
      "MAE of AdaBoostRegressor on test set is 3.77717.\n",
      "\n",
      "***********************************************************************\n",
      "\n",
      "[08:29:14] WARNING: /workspace/src/objective/regression_obj.cu:152: reg:linear is now deprecated in favor of reg:squarederror.\n",
      "MAE of XGBRegressor on training set is 3.40087.\n",
      "MAE of XGBRegressor on validation set is 3.40202.\n",
      "MAE of XGBRegressor on test set is 3.51631.\n",
      "\n",
      "***********************************************************************\n",
      "\n",
      "MAE of LGBMRegressor on training set is 3.32698.\n",
      "MAE of LGBMRegressor on validation set is 3.3366.\n",
      "MAE of LGBMRegressor on test set is 3.47014.\n",
      "\n",
      "***********************************************************************\n",
      "\n",
      "MAE of CatBoostRegressor on training set is 3.37796.\n",
      "MAE of CatBoostRegressor on validation set is 3.37318.\n",
      "MAE of CatBoostRegressor on test set is 3.47383.\n",
      "\n",
      "***********************************************************************\n",
      "\n",
      "Epoch 11: early stopping\n",
      "MAE of ANN on training set is 3.52036.\n",
      "MAE of ANN on validation set is 3.43236.\n",
      "MAE of ANN on test set is 3.55913.\n",
      "\n",
      "***********************************************************************\n",
      "\n",
      "Epoch 11: early stopping\n",
      "MAE of CNN on training set is 3.591.\n",
      "MAE of CNN on validation set is 3.5051.\n",
      "MAE of CNN on test set is 3.64045.\n",
      "\n",
      "***********************************************************************\n",
      "\n",
      "Results :\n",
      "\n",
      "LinearRegression : | Training MAE : 4.4653 | Validation MAE : 4.30569 | Test MAE : 4.4753\n",
      "GradientBoostingRegressor : | Training MAE : 3.47238 | Validation MAE : 3.4473 | Test MAE : 3.5823\n",
      "RandomForestRegressor : | Training MAE : 3.51627 | Validation MAE : 3.50781 | Test MAE : 3.62861\n",
      "AdaBoostRegressor : | Training MAE : 3.7016 | Validation MAE : 3.68924 | Test MAE : 3.77717\n",
      "XGBRegressor : | Training MAE : 3.40087 | Validation MAE : 3.40202 | Test MAE : 3.51631\n",
      "LGBMRegressor : | Training MAE : 3.32698 | Validation MAE : 3.3366 | Test MAE : 3.47014\n",
      "CatBoostRegressor : | Training MAE : 3.37796 | Validation MAE : 3.37318 | Test MAE : 3.47383\n",
      "ANN : | Training MAE : 3.52036 | Validation MAE : 3.43236 | Test MAE : 3.55913\n",
      "CNN : | Training MAE : 3.591 | Validation MAE : 3.5051 | Test MAE : 3.64045\n"
     ]
    }
   ],
   "source": [
    "seed_value= 42\n",
    "os.environ['PYTHONHASHSEED']=str(seed_value)\n",
    "random.seed(seed_value)\n",
    "np.random.seed(seed_value)\n",
    "tf.random.set_seed(seed_value)\n",
    "\n",
    "# Test run for Column_id : 0 to check which model is performing better\n",
    "test(0, ip_shape = (6,6,1), scaling_mode= \"minmax\")"
   ]
  },
  {
   "cell_type": "code",
   "execution_count": null,
   "metadata": {
    "id": "P7UMP9rN58ni"
   },
   "outputs": [],
   "source": [
    "def training(nG, ip_shape, scaling_mode):\n",
    "\n",
    "  \"\"\"\n",
    "  Args:\n",
    "  nG : NUmber of post-synaptic neurons\n",
    "  scaling_mode : Type of scaling technique\n",
    "  ip_shape : Dimension of an example (Mainly for CNN)\n",
    "\n",
    "  return :\n",
    "  MAE of each model that is trained for each post-synaptic neuron column\n",
    "\n",
    "  \"\"\"\n",
    "\n",
    "  MAEs = [[], [], [], [], []]\n",
    "  row, col, chn = ip_shape\n",
    "\n",
    "  for id in range(nG):\n",
    "\n",
    "    print(\"#\"*25 + \" \" + \"Column\" + str(id) +\" \" + \"#\"*25)\n",
    "    with open(\"StackedFiles/X_train_stacked_Column_\" + str(id) + \".npy\", 'rb') as f:\n",
    "      X = np.load(f)\n",
    "\n",
    "    with open(\"StackedFiles/y_train_stacked_Column_\" + str(id) + \".npy\", 'rb') as f:\n",
    "      y = np.load(f)\n",
    "\n",
    "    print()\n",
    "\n",
    "    # Splitting the dataset into training, validation, and test set in (4:0.5:0.5) ratio\n",
    "    X_train, X_val, y_train, y_val = train_test_split(X, y/10, test_size=0.20, random_state=42)   # y = y/10 (To convert into decisecond window for better fit)\n",
    "    X_val, X_test, y_val, y_test = train_test_split(X_val, y_val, test_size=0.50, random_state=42)\n",
    "\n",
    "    print(\"X_train : \", X_train.shape)\n",
    "    print(\"y_train : \", y_train.shape)\n",
    "    print(\"X_val : \", X_val.shape)\n",
    "    print(\"y_val : \", y_val.shape)\n",
    "    print(\"X_test : \", X_test.shape)\n",
    "    print(\"y_test : \", y_test.shape)\n",
    "    print()\n",
    "\n",
    "\n",
    "    # Standard Scaling\n",
    "    if scaling_mode == 'std':\n",
    "      print(\"Standard Scaling\",'\\n')\n",
    "      scaler = StandardScaler()\n",
    "      x_train_scaled = scaler.fit_transform(X_train)\n",
    "      x_test_scaled = scaler.transform(X_test)\n",
    "      x_val_scaled = scaler.transform(X_val)\n",
    "\n",
    "      # Saving scaler for each column\n",
    "      with open(os.getcwd() + \"/Scaler/\" + \"std_Column_\" + str(id) + \".pkl\" , 'wb') as file:  \n",
    "        pickle.dump(scaler, file)\n",
    "      \n",
    "\n",
    "    # Min-max Scaling\n",
    "    elif scaling_mode == \"minmax\":\n",
    "      print(\"Minmax Scaling \\n\")\n",
    "      scaler = MinMaxScaler()\n",
    "      x_train_scaled = scaler.fit_transform(X_train)\n",
    "      x_test_scaled = scaler.transform(X_test)\n",
    "      x_val_scaled = scaler.transform(X_val)\n",
    "\n",
    "      # Saving scaler for each column\n",
    "      with open(os.getcwd() + \"/Scaler/\" + \"minmax_Column_\" + str(id) + \".pkl\" , 'wb') as file:  \n",
    "        pickle.dump(scaler, file)\n",
    "\n",
    "\n",
    "    # Training model\n",
    "    model_name = [\"XGBRegressor\", \"LGBMRegressor\", \"CatBoostRegressor\", \"ANN\", \"CNN\"]\n",
    "\n",
    "    reg1 = XGBRegressor(n_estimators = 200, max_depth = 5, learning_rate=0.03, booster = 'gbtree', tree_method = 'auto',random_state=42)\n",
    "    reg2 = LGBMRegressor(n_estimators = 200, boosting_type = 'dart',max_depth = 5, num_leaves = 25, learning_rate=0.25, random_state =42)\n",
    "    reg3 = CatBoostRegressor(learning_rate = 0.05, depth = 8,boosting_type = 'Ordered',loss_function = \"RMSE\",verbose = False)\n",
    "    \n",
    "    early_stopping = tf.keras.callbacks.EarlyStopping(monitor = 'val_loss', verbose=1, patience=5, mode= 'min')\n",
    "    ann = DeepNN('ANN')\n",
    "    cnn = DeepNN('CNN', (row, col, chn))\n",
    "\n",
    "\n",
    "    for ix,reg in enumerate([reg1, reg2, reg3, ann, cnn]): \n",
    "\n",
    "      if len(model_name) -1 == ix:\n",
    "        padding_tr = np.zeros((x_train_scaled.shape[0], 2))\n",
    "        padding_val = np.zeros((x_val_scaled.shape[0], 2))\n",
    "        padding_te = np.zeros((x_test_scaled.shape[0], 2))\n",
    "        x_tr = np.concatenate([padding_tr, x_train_scaled, padding_tr], axis=1).reshape((x_train_scaled.shape[0],row, col, chn))\n",
    "        x_val = np.concatenate([padding_val, x_val_scaled, padding_val], axis=1).reshape((x_val_scaled.shape[0],row, col, chn))\n",
    "        x_te = np.concatenate([padding_te, x_test_scaled, padding_te], axis=1).reshape((x_test_scaled.shape[0],row, col, chn))\n",
    "        reg.fit(x_tr, y_train, epochs=151, batch_size=128, callbacks=[early_stopping], validation_data=(x_val, y_val), verbose=0)\n",
    "        \n",
    "      elif len(model_name)-2 == ix:\n",
    "        reg.fit(x_train_scaled, y_train, epochs=151, batch_size=128, callbacks=[early_stopping], validation_data=(x_val_scaled, y_val), verbose=0)\n",
    "\n",
    "      else:\n",
    "        reg.fit(x_train_scaled, y_train)\n",
    "\n",
    "      if len(model_name) -1 == ix:\n",
    "        tr_mae = np.round(mean_absolute_error(y_train, reg.predict(x_tr)), 5)\n",
    "        val_mae = np.round(mean_absolute_error(y_val, reg.predict(x_val)), 5)\n",
    "        test_mae = np.round(mean_absolute_error(y_test, reg.predict(x_te)), 5)\n",
    "\n",
    "      else:\n",
    "        tr_mae = np.round(mean_absolute_error(y_train, reg.predict(x_train_scaled)), 5)\n",
    "        val_mae = np.round(mean_absolute_error(y_val, reg.predict(x_val_scaled)), 5)\n",
    "        test_mae = np.round(mean_absolute_error(y_test, reg.predict(x_test_scaled)), 5)\n",
    "\n",
    "      reg_name = model_name[ix]\n",
    "\n",
    "      print(f\"MAE of {reg_name} on training set is {tr_mae}.\")\n",
    "      print(f\"MAE of {reg_name} on validation set is {val_mae}.\")\n",
    "      print(f\"MAE of {reg_name} on test set is {test_mae}.\")\n",
    "      print()\n",
    "      print(\"*\"*71)\n",
    "      print()\n",
    "\n",
    "      if reg_name == \"XGBRegressor\":\n",
    "        MAEs[0].append((tr_mae, val_mae, test_mae))\n",
    "\n",
    "      elif reg_name == \"LGBMRegressor\":\n",
    "        MAEs[1].append((tr_mae, val_mae, test_mae))\n",
    "\n",
    "      elif reg_name == \"CatBoostRegressor\":\n",
    "        MAEs[2].append((tr_mae, val_mae, test_mae))\n",
    "\n",
    "      elif reg_name == \"ANN\":\n",
    "        MAEs[3].append((tr_mae, val_mae, test_mae))\n",
    "\n",
    "      elif reg_name == \"CNN\":\n",
    "        MAEs[4].append((tr_mae, val_mae, test_mae))\n",
    "\n",
    "\n",
    "      if reg_name in [\"XGBRegressor\", \"LGBMRegressor\", \"CatBoostRegressor\"]:\n",
    "        # Saving regressor model for each column\n",
    "        with open(os.getcwd() + \"/Models/\" + reg_name + \"_column_\" + str(id) + \".pkl\" , 'wb') as file:  \n",
    "          pickle.dump(reg, file)\n",
    "\n",
    "      else:\n",
    "        reg.save(os.getcwd() + \"/Models/\" + reg_name + \"_column_\" + str(id) +\".h5\")\n",
    "\n",
    "  print()\n",
    "  print(\"Results :\\n\")\n",
    "  for ix1,result in enumerate(MAEs):\n",
    "    print(\"*\"*25 + \" \" + model_name[ix1] + \" \" + \"*\"*25)\n",
    "    for col_res in result:\n",
    "      tr_mae, val_mae, test_mae = col_res\n",
    "      print(model_name[ix1] + \" : | Training MAE : \" + str(tr_mae) + \" | Validation MAE : \" + str(val_mae) + \" | Test MAE : \" + str(test_mae))\n",
    "\n",
    "    print()\n",
    "    print()\n",
    "\n",
    "    \n",
    "  return MAEs\n",
    "    "
   ]
  },
  {
   "cell_type": "code",
   "execution_count": null,
   "metadata": {
    "colab": {
     "base_uri": "https://localhost:8080/"
    },
    "id": "IEBAu51u58qF",
    "outputId": "b1219066-a79c-41b0-d264-dd9db9171cfe"
   },
   "outputs": [
    {
     "name": "stdout",
     "output_type": "stream",
     "text": [
      "######################### Column0 #########################\n",
      "\n",
      "X_train :  (64012, 32)\n",
      "y_train :  (64012,)\n",
      "X_val :  (8002, 32)\n",
      "y_val :  (8002,)\n",
      "X_test :  (8002, 32)\n",
      "y_test :  (8002,)\n",
      "\n",
      "Minmax Scaling \n",
      "\n",
      "[10:01:34] WARNING: /workspace/src/objective/regression_obj.cu:152: reg:linear is now deprecated in favor of reg:squarederror.\n",
      "MAE of XGBRegressor on training set is 3.40087.\n",
      "MAE of XGBRegressor on validation set is 3.40202.\n",
      "MAE of XGBRegressor on test set is 3.51631.\n",
      "\n",
      "***********************************************************************\n",
      "\n",
      "MAE of LGBMRegressor on training set is 3.32698.\n",
      "MAE of LGBMRegressor on validation set is 3.3366.\n",
      "MAE of LGBMRegressor on test set is 3.47014.\n",
      "\n",
      "***********************************************************************\n",
      "\n",
      "MAE of CatBoostRegressor on training set is 3.37796.\n",
      "MAE of CatBoostRegressor on validation set is 3.37318.\n",
      "MAE of CatBoostRegressor on test set is 3.47383.\n",
      "\n",
      "***********************************************************************\n",
      "\n",
      "Epoch 11: early stopping\n",
      "MAE of ANN on training set is 3.49597.\n",
      "MAE of ANN on validation set is 3.40855.\n",
      "MAE of ANN on test set is 3.53443.\n",
      "\n",
      "***********************************************************************\n",
      "\n",
      "Epoch 11: early stopping\n",
      "MAE of CNN on training set is 3.5893.\n",
      "MAE of CNN on validation set is 3.50242.\n",
      "MAE of CNN on test set is 3.63774.\n",
      "\n",
      "***********************************************************************\n",
      "\n",
      "######################### Column1 #########################\n",
      "\n",
      "X_train :  (64012, 32)\n",
      "y_train :  (64012,)\n",
      "X_val :  (8002, 32)\n",
      "y_val :  (8002,)\n",
      "X_test :  (8002, 32)\n",
      "y_test :  (8002,)\n",
      "\n",
      "Minmax Scaling \n",
      "\n",
      "[10:05:57] WARNING: /workspace/src/objective/regression_obj.cu:152: reg:linear is now deprecated in favor of reg:squarederror.\n",
      "MAE of XGBRegressor on training set is 3.38229.\n",
      "MAE of XGBRegressor on validation set is 3.37057.\n",
      "MAE of XGBRegressor on test set is 3.51452.\n",
      "\n",
      "***********************************************************************\n",
      "\n",
      "MAE of LGBMRegressor on training set is 3.30855.\n",
      "MAE of LGBMRegressor on validation set is 3.32618.\n",
      "MAE of LGBMRegressor on test set is 3.4692.\n",
      "\n",
      "***********************************************************************\n",
      "\n",
      "MAE of CatBoostRegressor on training set is 3.38259.\n",
      "MAE of CatBoostRegressor on validation set is 3.34152.\n",
      "MAE of CatBoostRegressor on test set is 3.48501.\n",
      "\n",
      "***********************************************************************\n",
      "\n",
      "Epoch 12: early stopping\n",
      "MAE of ANN on training set is 3.53547.\n",
      "MAE of ANN on validation set is 3.43502.\n",
      "MAE of ANN on test set is 3.59951.\n",
      "\n",
      "***********************************************************************\n",
      "\n",
      "Epoch 25: early stopping\n",
      "MAE of CNN on training set is 3.57036.\n",
      "MAE of CNN on validation set is 3.50123.\n",
      "MAE of CNN on test set is 3.65966.\n",
      "\n",
      "***********************************************************************\n",
      "\n",
      "######################### Column2 #########################\n",
      "\n",
      "X_train :  (64012, 32)\n",
      "y_train :  (64012,)\n",
      "X_val :  (8002, 32)\n",
      "y_val :  (8002,)\n",
      "X_test :  (8002, 32)\n",
      "y_test :  (8002,)\n",
      "\n",
      "Minmax Scaling \n",
      "\n",
      "[10:10:17] WARNING: /workspace/src/objective/regression_obj.cu:152: reg:linear is now deprecated in favor of reg:squarederror.\n",
      "MAE of XGBRegressor on training set is 3.38863.\n",
      "MAE of XGBRegressor on validation set is 3.38108.\n",
      "MAE of XGBRegressor on test set is 3.52443.\n",
      "\n",
      "***********************************************************************\n",
      "\n",
      "MAE of LGBMRegressor on training set is 3.30379.\n",
      "MAE of LGBMRegressor on validation set is 3.3546.\n",
      "MAE of LGBMRegressor on test set is 3.49645.\n",
      "\n",
      "***********************************************************************\n",
      "\n",
      "MAE of CatBoostRegressor on training set is 3.37904.\n",
      "MAE of CatBoostRegressor on validation set is 3.3586.\n",
      "MAE of CatBoostRegressor on test set is 3.50911.\n",
      "\n",
      "***********************************************************************\n",
      "\n",
      "Epoch 23: early stopping\n",
      "MAE of ANN on training set is 3.44294.\n",
      "MAE of ANN on validation set is 3.35547.\n",
      "MAE of ANN on test set is 3.52739.\n",
      "\n",
      "***********************************************************************\n",
      "\n",
      "Epoch 12: early stopping\n",
      "MAE of CNN on training set is 3.48583.\n",
      "MAE of CNN on validation set is 3.40359.\n",
      "MAE of CNN on test set is 3.57028.\n",
      "\n",
      "***********************************************************************\n",
      "\n",
      "######################### Column3 #########################\n",
      "\n",
      "X_train :  (64012, 32)\n",
      "y_train :  (64012,)\n",
      "X_val :  (8002, 32)\n",
      "y_val :  (8002,)\n",
      "X_test :  (8002, 32)\n",
      "y_test :  (8002,)\n",
      "\n",
      "Minmax Scaling \n",
      "\n",
      "[10:14:28] WARNING: /workspace/src/objective/regression_obj.cu:152: reg:linear is now deprecated in favor of reg:squarederror.\n",
      "MAE of XGBRegressor on training set is 3.36528.\n",
      "MAE of XGBRegressor on validation set is 3.27066.\n",
      "MAE of XGBRegressor on test set is 3.32407.\n",
      "\n",
      "***********************************************************************\n",
      "\n",
      "MAE of LGBMRegressor on training set is 3.28956.\n",
      "MAE of LGBMRegressor on validation set is 3.24874.\n",
      "MAE of LGBMRegressor on test set is 3.28617.\n",
      "\n",
      "***********************************************************************\n",
      "\n",
      "MAE of CatBoostRegressor on training set is 3.35363.\n",
      "MAE of CatBoostRegressor on validation set is 3.2259.\n",
      "MAE of CatBoostRegressor on test set is 3.30255.\n",
      "\n",
      "***********************************************************************\n",
      "\n",
      "Epoch 32: early stopping\n",
      "MAE of ANN on training set is 3.4502.\n",
      "MAE of ANN on validation set is 3.28939.\n",
      "MAE of ANN on test set is 3.35562.\n",
      "\n",
      "***********************************************************************\n",
      "\n",
      "Epoch 26: early stopping\n",
      "MAE of CNN on training set is 3.4489.\n",
      "MAE of CNN on validation set is 3.28275.\n",
      "MAE of CNN on test set is 3.33169.\n",
      "\n",
      "***********************************************************************\n",
      "\n",
      "######################### Column4 #########################\n",
      "\n",
      "X_train :  (64012, 32)\n",
      "y_train :  (64012,)\n",
      "X_val :  (8002, 32)\n",
      "y_val :  (8002,)\n",
      "X_test :  (8002, 32)\n",
      "y_test :  (8002,)\n",
      "\n",
      "Minmax Scaling \n",
      "\n",
      "[10:19:00] WARNING: /workspace/src/objective/regression_obj.cu:152: reg:linear is now deprecated in favor of reg:squarederror.\n",
      "MAE of XGBRegressor on training set is 3.38497.\n",
      "MAE of XGBRegressor on validation set is 3.15285.\n",
      "MAE of XGBRegressor on test set is 3.50186.\n",
      "\n",
      "***********************************************************************\n",
      "\n",
      "MAE of LGBMRegressor on training set is 3.31147.\n",
      "MAE of LGBMRegressor on validation set is 3.11697.\n",
      "MAE of LGBMRegressor on test set is 3.44841.\n",
      "\n",
      "***********************************************************************\n",
      "\n",
      "MAE of CatBoostRegressor on training set is 3.33577.\n",
      "MAE of CatBoostRegressor on validation set is 3.10979.\n",
      "MAE of CatBoostRegressor on test set is 3.46414.\n",
      "\n",
      "***********************************************************************\n",
      "\n",
      "Epoch 20: early stopping\n",
      "MAE of ANN on training set is 3.51702.\n",
      "MAE of ANN on validation set is 3.20852.\n",
      "MAE of ANN on test set is 3.54782.\n",
      "\n",
      "***********************************************************************\n",
      "\n",
      "Epoch 20: early stopping\n",
      "MAE of CNN on training set is 3.55555.\n",
      "MAE of CNN on validation set is 3.22812.\n",
      "MAE of CNN on test set is 3.57964.\n",
      "\n",
      "***********************************************************************\n",
      "\n",
      "######################### Column5 #########################\n",
      "\n",
      "X_train :  (64012, 32)\n",
      "y_train :  (64012,)\n",
      "X_val :  (8002, 32)\n",
      "y_val :  (8002,)\n",
      "X_test :  (8002, 32)\n",
      "y_test :  (8002,)\n",
      "\n",
      "Minmax Scaling \n",
      "\n",
      "[10:23:43] WARNING: /workspace/src/objective/regression_obj.cu:152: reg:linear is now deprecated in favor of reg:squarederror.\n",
      "MAE of XGBRegressor on training set is 3.38833.\n",
      "MAE of XGBRegressor on validation set is 3.37521.\n",
      "MAE of XGBRegressor on test set is 3.30276.\n",
      "\n",
      "***********************************************************************\n",
      "\n",
      "MAE of LGBMRegressor on training set is 3.31925.\n",
      "MAE of LGBMRegressor on validation set is 3.31799.\n",
      "MAE of LGBMRegressor on test set is 3.23894.\n",
      "\n",
      "***********************************************************************\n",
      "\n",
      "MAE of CatBoostRegressor on training set is 3.38761.\n",
      "MAE of CatBoostRegressor on validation set is 3.33518.\n",
      "MAE of CatBoostRegressor on test set is 3.26328.\n",
      "\n",
      "***********************************************************************\n",
      "\n",
      "Epoch 16: early stopping\n",
      "MAE of ANN on training set is 3.40355.\n",
      "MAE of ANN on validation set is 3.30649.\n",
      "MAE of ANN on test set is 3.21791.\n",
      "\n",
      "***********************************************************************\n",
      "\n",
      "Epoch 10: early stopping\n",
      "MAE of CNN on training set is 3.485.\n",
      "MAE of CNN on validation set is 3.40317.\n",
      "MAE of CNN on test set is 3.29504.\n",
      "\n",
      "***********************************************************************\n",
      "\n",
      "######################### Column6 #########################\n",
      "\n",
      "X_train :  (64012, 32)\n",
      "y_train :  (64012,)\n",
      "X_val :  (8002, 32)\n",
      "y_val :  (8002,)\n",
      "X_test :  (8002, 32)\n",
      "y_test :  (8002,)\n",
      "\n",
      "Minmax Scaling \n",
      "\n",
      "[10:27:32] WARNING: /workspace/src/objective/regression_obj.cu:152: reg:linear is now deprecated in favor of reg:squarederror.\n",
      "MAE of XGBRegressor on training set is 3.39164.\n",
      "MAE of XGBRegressor on validation set is 3.38757.\n",
      "MAE of XGBRegressor on test set is 3.51094.\n",
      "\n",
      "***********************************************************************\n",
      "\n",
      "MAE of LGBMRegressor on training set is 3.32112.\n",
      "MAE of LGBMRegressor on validation set is 3.35289.\n",
      "MAE of LGBMRegressor on test set is 3.46649.\n",
      "\n",
      "***********************************************************************\n",
      "\n",
      "MAE of CatBoostRegressor on training set is 3.40906.\n",
      "MAE of CatBoostRegressor on validation set is 3.37206.\n",
      "MAE of CatBoostRegressor on test set is 3.49083.\n",
      "\n",
      "***********************************************************************\n",
      "\n",
      "Epoch 11: early stopping\n",
      "MAE of ANN on training set is 3.41302.\n",
      "MAE of ANN on validation set is 3.34724.\n",
      "MAE of ANN on test set is 3.46412.\n",
      "\n",
      "***********************************************************************\n",
      "\n",
      "Epoch 10: early stopping\n",
      "MAE of CNN on training set is 3.55152.\n",
      "MAE of CNN on validation set is 3.47994.\n",
      "MAE of CNN on test set is 3.59517.\n",
      "\n",
      "***********************************************************************\n",
      "\n",
      "######################### Column7 #########################\n",
      "\n",
      "X_train :  (64012, 32)\n",
      "y_train :  (64012,)\n",
      "X_val :  (8002, 32)\n",
      "y_val :  (8002,)\n",
      "X_test :  (8002, 32)\n",
      "y_test :  (8002,)\n",
      "\n",
      "Minmax Scaling \n",
      "\n",
      "[10:31:17] WARNING: /workspace/src/objective/regression_obj.cu:152: reg:linear is now deprecated in favor of reg:squarederror.\n",
      "MAE of XGBRegressor on training set is 3.38512.\n",
      "MAE of XGBRegressor on validation set is 3.23441.\n",
      "MAE of XGBRegressor on test set is 3.46753.\n",
      "\n",
      "***********************************************************************\n",
      "\n",
      "MAE of LGBMRegressor on training set is 3.3142.\n",
      "MAE of LGBMRegressor on validation set is 3.19993.\n",
      "MAE of LGBMRegressor on test set is 3.41538.\n",
      "\n",
      "***********************************************************************\n",
      "\n",
      "MAE of CatBoostRegressor on training set is 3.39546.\n",
      "MAE of CatBoostRegressor on validation set is 3.20656.\n",
      "MAE of CatBoostRegressor on test set is 3.44372.\n",
      "\n",
      "***********************************************************************\n",
      "\n",
      "Epoch 20: early stopping\n",
      "MAE of ANN on training set is 3.44422.\n",
      "MAE of ANN on validation set is 3.20656.\n",
      "MAE of ANN on test set is 3.45342.\n",
      "\n",
      "***********************************************************************\n",
      "\n",
      "Epoch 22: early stopping\n",
      "MAE of CNN on training set is 3.81821.\n",
      "MAE of CNN on validation set is 3.6111.\n",
      "MAE of CNN on test set is 3.79533.\n",
      "\n",
      "***********************************************************************\n",
      "\n",
      "######################### Column8 #########################\n",
      "\n",
      "X_train :  (64012, 32)\n",
      "y_train :  (64012,)\n",
      "X_val :  (8002, 32)\n",
      "y_val :  (8002,)\n",
      "X_test :  (8002, 32)\n",
      "y_test :  (8002,)\n",
      "\n",
      "Minmax Scaling \n",
      "\n",
      "[10:35:54] WARNING: /workspace/src/objective/regression_obj.cu:152: reg:linear is now deprecated in favor of reg:squarederror.\n",
      "MAE of XGBRegressor on training set is 3.35083.\n",
      "MAE of XGBRegressor on validation set is 3.3576.\n",
      "MAE of XGBRegressor on test set is 3.4097.\n",
      "\n",
      "***********************************************************************\n",
      "\n",
      "MAE of LGBMRegressor on training set is 3.27292.\n",
      "MAE of LGBMRegressor on validation set is 3.32994.\n",
      "MAE of LGBMRegressor on test set is 3.35888.\n",
      "\n",
      "***********************************************************************\n",
      "\n",
      "MAE of CatBoostRegressor on training set is 3.32845.\n",
      "MAE of CatBoostRegressor on validation set is 3.30664.\n",
      "MAE of CatBoostRegressor on test set is 3.36686.\n",
      "\n",
      "***********************************************************************\n",
      "\n",
      "Epoch 11: early stopping\n",
      "MAE of ANN on training set is 3.70789.\n",
      "MAE of ANN on validation set is 3.62209.\n",
      "MAE of ANN on test set is 3.68834.\n",
      "\n",
      "***********************************************************************\n",
      "\n",
      "Epoch 11: early stopping\n",
      "MAE of CNN on training set is 3.63182.\n",
      "MAE of CNN on validation set is 3.55459.\n",
      "MAE of CNN on test set is 3.61821.\n",
      "\n",
      "***********************************************************************\n",
      "\n",
      "######################### Column9 #########################\n",
      "\n",
      "X_train :  (64012, 32)\n",
      "y_train :  (64012,)\n",
      "X_val :  (8002, 32)\n",
      "y_val :  (8002,)\n",
      "X_test :  (8002, 32)\n",
      "y_test :  (8002,)\n",
      "\n",
      "Minmax Scaling \n",
      "\n",
      "[10:39:51] WARNING: /workspace/src/objective/regression_obj.cu:152: reg:linear is now deprecated in favor of reg:squarederror.\n",
      "MAE of XGBRegressor on training set is 3.42112.\n",
      "MAE of XGBRegressor on validation set is 3.42161.\n",
      "MAE of XGBRegressor on test set is 3.50824.\n",
      "\n",
      "***********************************************************************\n",
      "\n",
      "MAE of LGBMRegressor on training set is 3.34005.\n",
      "MAE of LGBMRegressor on validation set is 3.37932.\n",
      "MAE of LGBMRegressor on test set is 3.45138.\n",
      "\n",
      "***********************************************************************\n",
      "\n",
      "MAE of CatBoostRegressor on training set is 3.41667.\n",
      "MAE of CatBoostRegressor on validation set is 3.37333.\n",
      "MAE of CatBoostRegressor on test set is 3.47591.\n",
      "\n",
      "***********************************************************************\n",
      "\n",
      "Epoch 10: early stopping\n",
      "MAE of ANN on training set is 3.48866.\n",
      "MAE of ANN on validation set is 3.43282.\n",
      "MAE of ANN on test set is 3.51767.\n",
      "\n",
      "***********************************************************************\n",
      "\n",
      "Epoch 10: early stopping\n",
      "MAE of CNN on training set is 3.53494.\n",
      "MAE of CNN on validation set is 3.4798.\n",
      "MAE of CNN on test set is 3.56614.\n",
      "\n",
      "***********************************************************************\n",
      "\n",
      "######################### Column10 #########################\n",
      "\n",
      "X_train :  (64012, 32)\n",
      "y_train :  (64012,)\n",
      "X_val :  (8002, 32)\n",
      "y_val :  (8002,)\n",
      "X_test :  (8002, 32)\n",
      "y_test :  (8002,)\n",
      "\n",
      "Minmax Scaling \n",
      "\n",
      "[10:43:35] WARNING: /workspace/src/objective/regression_obj.cu:152: reg:linear is now deprecated in favor of reg:squarederror.\n",
      "MAE of XGBRegressor on training set is 3.35928.\n",
      "MAE of XGBRegressor on validation set is 3.49243.\n",
      "MAE of XGBRegressor on test set is 3.39289.\n",
      "\n",
      "***********************************************************************\n",
      "\n",
      "MAE of LGBMRegressor on training set is 3.29027.\n",
      "MAE of LGBMRegressor on validation set is 3.4539.\n",
      "MAE of LGBMRegressor on test set is 3.3455.\n",
      "\n",
      "***********************************************************************\n",
      "\n",
      "MAE of CatBoostRegressor on training set is 3.35974.\n",
      "MAE of CatBoostRegressor on validation set is 3.46291.\n",
      "MAE of CatBoostRegressor on test set is 3.35317.\n",
      "\n",
      "***********************************************************************\n",
      "\n",
      "Epoch 24: early stopping\n",
      "MAE of ANN on training set is 3.36682.\n",
      "MAE of ANN on validation set is 3.4382.\n",
      "MAE of ANN on test set is 3.32203.\n",
      "\n",
      "***********************************************************************\n",
      "\n",
      "Epoch 26: early stopping\n",
      "MAE of CNN on training set is 3.39929.\n",
      "MAE of CNN on validation set is 3.47593.\n",
      "MAE of CNN on test set is 3.33613.\n",
      "\n",
      "***********************************************************************\n",
      "\n",
      "######################### Column11 #########################\n",
      "\n",
      "X_train :  (64012, 32)\n",
      "y_train :  (64012,)\n",
      "X_val :  (8002, 32)\n",
      "y_val :  (8002,)\n",
      "X_test :  (8002, 32)\n",
      "y_test :  (8002,)\n",
      "\n",
      "Minmax Scaling \n",
      "\n",
      "[10:48:14] WARNING: /workspace/src/objective/regression_obj.cu:152: reg:linear is now deprecated in favor of reg:squarederror.\n",
      "MAE of XGBRegressor on training set is 3.3876.\n",
      "MAE of XGBRegressor on validation set is 3.34605.\n",
      "MAE of XGBRegressor on test set is 3.3325.\n",
      "\n",
      "***********************************************************************\n",
      "\n",
      "MAE of LGBMRegressor on training set is 3.30851.\n",
      "MAE of LGBMRegressor on validation set is 3.29445.\n",
      "MAE of LGBMRegressor on test set is 3.27264.\n",
      "\n",
      "***********************************************************************\n",
      "\n",
      "MAE of CatBoostRegressor on training set is 3.39869.\n",
      "MAE of CatBoostRegressor on validation set is 3.31916.\n",
      "MAE of CatBoostRegressor on test set is 3.30346.\n",
      "\n",
      "***********************************************************************\n",
      "\n",
      "Epoch 11: early stopping\n",
      "MAE of ANN on training set is 3.50962.\n",
      "MAE of ANN on validation set is 3.38946.\n",
      "MAE of ANN on test set is 3.3835.\n",
      "\n",
      "***********************************************************************\n",
      "\n",
      "Epoch 8: early stopping\n",
      "MAE of CNN on training set is 3.60413.\n",
      "MAE of CNN on validation set is 3.477.\n",
      "MAE of CNN on test set is 3.49106.\n",
      "\n",
      "***********************************************************************\n",
      "\n",
      "######################### Column12 #########################\n",
      "\n",
      "X_train :  (64012, 32)\n",
      "y_train :  (64012,)\n",
      "X_val :  (8002, 32)\n",
      "y_val :  (8002,)\n",
      "X_test :  (8002, 32)\n",
      "y_test :  (8002,)\n",
      "\n",
      "Minmax Scaling \n",
      "\n",
      "[10:51:57] WARNING: /workspace/src/objective/regression_obj.cu:152: reg:linear is now deprecated in favor of reg:squarederror.\n",
      "MAE of XGBRegressor on training set is 3.36827.\n",
      "MAE of XGBRegressor on validation set is 3.43477.\n",
      "MAE of XGBRegressor on test set is 3.40825.\n",
      "\n",
      "***********************************************************************\n",
      "\n",
      "MAE of LGBMRegressor on training set is 3.28513.\n",
      "MAE of LGBMRegressor on validation set is 3.40039.\n",
      "MAE of LGBMRegressor on test set is 3.35972.\n",
      "\n",
      "***********************************************************************\n",
      "\n",
      "MAE of CatBoostRegressor on training set is 3.37048.\n",
      "MAE of CatBoostRegressor on validation set is 3.42325.\n",
      "MAE of CatBoostRegressor on test set is 3.37832.\n",
      "\n",
      "***********************************************************************\n",
      "\n",
      "Epoch 11: early stopping\n",
      "MAE of ANN on training set is 3.43352.\n",
      "MAE of ANN on validation set is 3.4829.\n",
      "MAE of ANN on test set is 3.42277.\n",
      "\n",
      "***********************************************************************\n",
      "\n",
      "Epoch 11: early stopping\n",
      "MAE of CNN on training set is 3.56187.\n",
      "MAE of CNN on validation set is 3.59697.\n",
      "MAE of CNN on test set is 3.54191.\n",
      "\n",
      "***********************************************************************\n",
      "\n",
      "######################### Column13 #########################\n",
      "\n",
      "X_train :  (64012, 32)\n",
      "y_train :  (64012,)\n",
      "X_val :  (8002, 32)\n",
      "y_val :  (8002,)\n",
      "X_test :  (8002, 32)\n",
      "y_test :  (8002,)\n",
      "\n",
      "Minmax Scaling \n",
      "\n",
      "[10:55:49] WARNING: /workspace/src/objective/regression_obj.cu:152: reg:linear is now deprecated in favor of reg:squarederror.\n",
      "MAE of XGBRegressor on training set is 3.40732.\n",
      "MAE of XGBRegressor on validation set is 3.24611.\n",
      "MAE of XGBRegressor on test set is 3.43286.\n",
      "\n",
      "***********************************************************************\n",
      "\n",
      "MAE of LGBMRegressor on training set is 3.3353.\n",
      "MAE of LGBMRegressor on validation set is 3.18831.\n",
      "MAE of LGBMRegressor on test set is 3.38619.\n",
      "\n",
      "***********************************************************************\n",
      "\n",
      "MAE of CatBoostRegressor on training set is 3.43946.\n",
      "MAE of CatBoostRegressor on validation set is 3.23347.\n",
      "MAE of CatBoostRegressor on test set is 3.42763.\n",
      "\n",
      "***********************************************************************\n",
      "\n",
      "Epoch 13: early stopping\n",
      "MAE of ANN on training set is 3.47445.\n",
      "MAE of ANN on validation set is 3.24002.\n",
      "MAE of ANN on test set is 3.44354.\n",
      "\n",
      "***********************************************************************\n",
      "\n",
      "Epoch 14: early stopping\n",
      "MAE of CNN on training set is 3.52429.\n",
      "MAE of CNN on validation set is 3.29548.\n",
      "MAE of CNN on test set is 3.49404.\n",
      "\n",
      "***********************************************************************\n",
      "\n",
      "######################### Column14 #########################\n",
      "\n",
      "X_train :  (64012, 32)\n",
      "y_train :  (64012,)\n",
      "X_val :  (8002, 32)\n",
      "y_val :  (8002,)\n",
      "X_test :  (8002, 32)\n",
      "y_test :  (8002,)\n",
      "\n",
      "Minmax Scaling \n",
      "\n",
      "[10:59:58] WARNING: /workspace/src/objective/regression_obj.cu:152: reg:linear is now deprecated in favor of reg:squarederror.\n",
      "MAE of XGBRegressor on training set is 3.4106.\n",
      "MAE of XGBRegressor on validation set is 3.26606.\n",
      "MAE of XGBRegressor on test set is 3.56761.\n",
      "\n",
      "***********************************************************************\n",
      "\n",
      "MAE of LGBMRegressor on training set is 3.33029.\n",
      "MAE of LGBMRegressor on validation set is 3.23273.\n",
      "MAE of LGBMRegressor on test set is 3.52491.\n",
      "\n",
      "***********************************************************************\n",
      "\n",
      "MAE of CatBoostRegressor on training set is 3.42147.\n",
      "MAE of CatBoostRegressor on validation set is 3.24342.\n",
      "MAE of CatBoostRegressor on test set is 3.52655.\n",
      "\n",
      "***********************************************************************\n",
      "\n",
      "Epoch 21: early stopping\n",
      "MAE of ANN on training set is 3.47954.\n",
      "MAE of ANN on validation set is 3.27708.\n",
      "MAE of ANN on test set is 3.55575.\n",
      "\n",
      "***********************************************************************\n",
      "\n",
      "Epoch 21: early stopping\n",
      "MAE of CNN on training set is 3.49601.\n",
      "MAE of CNN on validation set is 3.28538.\n",
      "MAE of CNN on test set is 3.56399.\n",
      "\n",
      "***********************************************************************\n",
      "\n",
      "######################### Column15 #########################\n",
      "\n",
      "X_train :  (64012, 32)\n",
      "y_train :  (64012,)\n",
      "X_val :  (8002, 32)\n",
      "y_val :  (8002,)\n",
      "X_test :  (8002, 32)\n",
      "y_test :  (8002,)\n",
      "\n",
      "Minmax Scaling \n",
      "\n",
      "[11:04:18] WARNING: /workspace/src/objective/regression_obj.cu:152: reg:linear is now deprecated in favor of reg:squarederror.\n",
      "MAE of XGBRegressor on training set is 3.38603.\n",
      "MAE of XGBRegressor on validation set is 3.22724.\n",
      "MAE of XGBRegressor on test set is 3.5998.\n",
      "\n",
      "***********************************************************************\n",
      "\n",
      "MAE of LGBMRegressor on training set is 3.30548.\n",
      "MAE of LGBMRegressor on validation set is 3.18359.\n",
      "MAE of LGBMRegressor on test set is 3.56046.\n",
      "\n",
      "***********************************************************************\n",
      "\n",
      "MAE of CatBoostRegressor on training set is 3.39692.\n",
      "MAE of CatBoostRegressor on validation set is 3.18501.\n",
      "MAE of CatBoostRegressor on test set is 3.5573.\n",
      "\n",
      "***********************************************************************\n",
      "\n",
      "Epoch 22: early stopping\n",
      "MAE of ANN on training set is 3.54259.\n",
      "MAE of ANN on validation set is 3.34017.\n",
      "MAE of ANN on test set is 3.67779.\n",
      "\n",
      "***********************************************************************\n",
      "\n",
      "Epoch 22: early stopping\n",
      "MAE of CNN on training set is 3.5806.\n",
      "MAE of CNN on validation set is 3.36059.\n",
      "MAE of CNN on test set is 3.70851.\n",
      "\n",
      "***********************************************************************\n",
      "\n",
      "\n",
      "Results :\n",
      "\n",
      "************************* XGBRegressor *************************\n",
      "XGBRegressor : | Training MAE : 3.40087 | Validation MAE : 3.40202 | Test MAE : 3.51631\n",
      "XGBRegressor : | Training MAE : 3.38229 | Validation MAE : 3.37057 | Test MAE : 3.51452\n",
      "XGBRegressor : | Training MAE : 3.38863 | Validation MAE : 3.38108 | Test MAE : 3.52443\n",
      "XGBRegressor : | Training MAE : 3.36528 | Validation MAE : 3.27066 | Test MAE : 3.32407\n",
      "XGBRegressor : | Training MAE : 3.38497 | Validation MAE : 3.15285 | Test MAE : 3.50186\n",
      "XGBRegressor : | Training MAE : 3.38833 | Validation MAE : 3.37521 | Test MAE : 3.30276\n",
      "XGBRegressor : | Training MAE : 3.39164 | Validation MAE : 3.38757 | Test MAE : 3.51094\n",
      "XGBRegressor : | Training MAE : 3.38512 | Validation MAE : 3.23441 | Test MAE : 3.46753\n",
      "XGBRegressor : | Training MAE : 3.35083 | Validation MAE : 3.3576 | Test MAE : 3.4097\n",
      "XGBRegressor : | Training MAE : 3.42112 | Validation MAE : 3.42161 | Test MAE : 3.50824\n",
      "XGBRegressor : | Training MAE : 3.35928 | Validation MAE : 3.49243 | Test MAE : 3.39289\n",
      "XGBRegressor : | Training MAE : 3.3876 | Validation MAE : 3.34605 | Test MAE : 3.3325\n",
      "XGBRegressor : | Training MAE : 3.36827 | Validation MAE : 3.43477 | Test MAE : 3.40825\n",
      "XGBRegressor : | Training MAE : 3.40732 | Validation MAE : 3.24611 | Test MAE : 3.43286\n",
      "XGBRegressor : | Training MAE : 3.4106 | Validation MAE : 3.26606 | Test MAE : 3.56761\n",
      "XGBRegressor : | Training MAE : 3.38603 | Validation MAE : 3.22724 | Test MAE : 3.5998\n",
      "\n",
      "\n",
      "************************* LGBMRegressor *************************\n",
      "LGBMRegressor : | Training MAE : 3.32698 | Validation MAE : 3.3366 | Test MAE : 3.47014\n",
      "LGBMRegressor : | Training MAE : 3.30855 | Validation MAE : 3.32618 | Test MAE : 3.4692\n",
      "LGBMRegressor : | Training MAE : 3.30379 | Validation MAE : 3.3546 | Test MAE : 3.49645\n",
      "LGBMRegressor : | Training MAE : 3.28956 | Validation MAE : 3.24874 | Test MAE : 3.28617\n",
      "LGBMRegressor : | Training MAE : 3.31147 | Validation MAE : 3.11697 | Test MAE : 3.44841\n",
      "LGBMRegressor : | Training MAE : 3.31925 | Validation MAE : 3.31799 | Test MAE : 3.23894\n",
      "LGBMRegressor : | Training MAE : 3.32112 | Validation MAE : 3.35289 | Test MAE : 3.46649\n",
      "LGBMRegressor : | Training MAE : 3.3142 | Validation MAE : 3.19993 | Test MAE : 3.41538\n",
      "LGBMRegressor : | Training MAE : 3.27292 | Validation MAE : 3.32994 | Test MAE : 3.35888\n",
      "LGBMRegressor : | Training MAE : 3.34005 | Validation MAE : 3.37932 | Test MAE : 3.45138\n",
      "LGBMRegressor : | Training MAE : 3.29027 | Validation MAE : 3.4539 | Test MAE : 3.3455\n",
      "LGBMRegressor : | Training MAE : 3.30851 | Validation MAE : 3.29445 | Test MAE : 3.27264\n",
      "LGBMRegressor : | Training MAE : 3.28513 | Validation MAE : 3.40039 | Test MAE : 3.35972\n",
      "LGBMRegressor : | Training MAE : 3.3353 | Validation MAE : 3.18831 | Test MAE : 3.38619\n",
      "LGBMRegressor : | Training MAE : 3.33029 | Validation MAE : 3.23273 | Test MAE : 3.52491\n",
      "LGBMRegressor : | Training MAE : 3.30548 | Validation MAE : 3.18359 | Test MAE : 3.56046\n",
      "\n",
      "\n",
      "************************* CatBoostRegressor *************************\n",
      "CatBoostRegressor : | Training MAE : 3.37796 | Validation MAE : 3.37318 | Test MAE : 3.47383\n",
      "CatBoostRegressor : | Training MAE : 3.38259 | Validation MAE : 3.34152 | Test MAE : 3.48501\n",
      "CatBoostRegressor : | Training MAE : 3.37904 | Validation MAE : 3.3586 | Test MAE : 3.50911\n",
      "CatBoostRegressor : | Training MAE : 3.35363 | Validation MAE : 3.2259 | Test MAE : 3.30255\n",
      "CatBoostRegressor : | Training MAE : 3.33577 | Validation MAE : 3.10979 | Test MAE : 3.46414\n",
      "CatBoostRegressor : | Training MAE : 3.38761 | Validation MAE : 3.33518 | Test MAE : 3.26328\n",
      "CatBoostRegressor : | Training MAE : 3.40906 | Validation MAE : 3.37206 | Test MAE : 3.49083\n",
      "CatBoostRegressor : | Training MAE : 3.39546 | Validation MAE : 3.20656 | Test MAE : 3.44372\n",
      "CatBoostRegressor : | Training MAE : 3.32845 | Validation MAE : 3.30664 | Test MAE : 3.36686\n",
      "CatBoostRegressor : | Training MAE : 3.41667 | Validation MAE : 3.37333 | Test MAE : 3.47591\n",
      "CatBoostRegressor : | Training MAE : 3.35974 | Validation MAE : 3.46291 | Test MAE : 3.35317\n",
      "CatBoostRegressor : | Training MAE : 3.39869 | Validation MAE : 3.31916 | Test MAE : 3.30346\n",
      "CatBoostRegressor : | Training MAE : 3.37048 | Validation MAE : 3.42325 | Test MAE : 3.37832\n",
      "CatBoostRegressor : | Training MAE : 3.43946 | Validation MAE : 3.23347 | Test MAE : 3.42763\n",
      "CatBoostRegressor : | Training MAE : 3.42147 | Validation MAE : 3.24342 | Test MAE : 3.52655\n",
      "CatBoostRegressor : | Training MAE : 3.39692 | Validation MAE : 3.18501 | Test MAE : 3.5573\n",
      "\n",
      "\n",
      "************************* ANN *************************\n",
      "ANN : | Training MAE : 3.49597 | Validation MAE : 3.40855 | Test MAE : 3.53443\n",
      "ANN : | Training MAE : 3.53547 | Validation MAE : 3.43502 | Test MAE : 3.59951\n",
      "ANN : | Training MAE : 3.44294 | Validation MAE : 3.35547 | Test MAE : 3.52739\n",
      "ANN : | Training MAE : 3.4502 | Validation MAE : 3.28939 | Test MAE : 3.35562\n",
      "ANN : | Training MAE : 3.51702 | Validation MAE : 3.20852 | Test MAE : 3.54782\n",
      "ANN : | Training MAE : 3.40355 | Validation MAE : 3.30649 | Test MAE : 3.21791\n",
      "ANN : | Training MAE : 3.41302 | Validation MAE : 3.34724 | Test MAE : 3.46412\n",
      "ANN : | Training MAE : 3.44422 | Validation MAE : 3.20656 | Test MAE : 3.45342\n",
      "ANN : | Training MAE : 3.70789 | Validation MAE : 3.62209 | Test MAE : 3.68834\n",
      "ANN : | Training MAE : 3.48866 | Validation MAE : 3.43282 | Test MAE : 3.51767\n",
      "ANN : | Training MAE : 3.36682 | Validation MAE : 3.4382 | Test MAE : 3.32203\n",
      "ANN : | Training MAE : 3.50962 | Validation MAE : 3.38946 | Test MAE : 3.3835\n",
      "ANN : | Training MAE : 3.43352 | Validation MAE : 3.4829 | Test MAE : 3.42277\n",
      "ANN : | Training MAE : 3.47445 | Validation MAE : 3.24002 | Test MAE : 3.44354\n",
      "ANN : | Training MAE : 3.47954 | Validation MAE : 3.27708 | Test MAE : 3.55575\n",
      "ANN : | Training MAE : 3.54259 | Validation MAE : 3.34017 | Test MAE : 3.67779\n",
      "\n",
      "\n",
      "************************* CNN *************************\n",
      "CNN : | Training MAE : 3.5893 | Validation MAE : 3.50242 | Test MAE : 3.63774\n",
      "CNN : | Training MAE : 3.57036 | Validation MAE : 3.50123 | Test MAE : 3.65966\n",
      "CNN : | Training MAE : 3.48583 | Validation MAE : 3.40359 | Test MAE : 3.57028\n",
      "CNN : | Training MAE : 3.4489 | Validation MAE : 3.28275 | Test MAE : 3.33169\n",
      "CNN : | Training MAE : 3.55555 | Validation MAE : 3.22812 | Test MAE : 3.57964\n",
      "CNN : | Training MAE : 3.485 | Validation MAE : 3.40317 | Test MAE : 3.29504\n",
      "CNN : | Training MAE : 3.55152 | Validation MAE : 3.47994 | Test MAE : 3.59517\n",
      "CNN : | Training MAE : 3.81821 | Validation MAE : 3.6111 | Test MAE : 3.79533\n",
      "CNN : | Training MAE : 3.63182 | Validation MAE : 3.55459 | Test MAE : 3.61821\n",
      "CNN : | Training MAE : 3.53494 | Validation MAE : 3.4798 | Test MAE : 3.56614\n",
      "CNN : | Training MAE : 3.39929 | Validation MAE : 3.47593 | Test MAE : 3.33613\n",
      "CNN : | Training MAE : 3.60413 | Validation MAE : 3.477 | Test MAE : 3.49106\n",
      "CNN : | Training MAE : 3.56187 | Validation MAE : 3.59697 | Test MAE : 3.54191\n",
      "CNN : | Training MAE : 3.52429 | Validation MAE : 3.29548 | Test MAE : 3.49404\n",
      "CNN : | Training MAE : 3.49601 | Validation MAE : 3.28538 | Test MAE : 3.56399\n",
      "CNN : | Training MAE : 3.5806 | Validation MAE : 3.36059 | Test MAE : 3.70851\n",
      "\n",
      "\n"
     ]
    }
   ],
   "source": [
    "seed_value= 42\n",
    "os.environ['PYTHONHASHSEED']=str(seed_value)\n",
    "random.seed(seed_value)\n",
    "np.random.seed(seed_value)\n",
    "tf.random.set_seed(seed_value)\n",
    "\n",
    "MAEs = training(nG = 16, ip_shape = (6,6,1), scaling_mode = \"minmax\")"
   ]
  },
  {
   "cell_type": "code",
   "execution_count": null,
   "metadata": {
    "id": "nlG6m3GVlfpY"
   },
   "outputs": [],
   "source": [
    "# Saving MAEs to numpy array\n",
    "with open('MAEs.npy', 'wb') as f:\n",
    "    np.save(f, np.array(MAEs))"
   ]
  },
  {
   "cell_type": "code",
   "execution_count": null,
   "metadata": {
    "id": "l7veg0fhmMiw"
   },
   "outputs": [],
   "source": [
    "# Loading MAEs to numpy array\n",
    "with open('MAEs.npy', 'rb') as f:\n",
    "    MAEs = np.load(f)"
   ]
  },
  {
   "cell_type": "code",
   "execution_count": null,
   "metadata": {
    "colab": {
     "base_uri": "https://localhost:8080/"
    },
    "id": "Q3HMvx6umMrC",
    "outputId": "f9abd76c-4dce-4dd4-8242-68ae02dffd66"
   },
   "outputs": [
    {
     "data": {
      "text/plain": [
       "(5, 16, 3)"
      ]
     },
     "execution_count": 66,
     "metadata": {},
     "output_type": "execute_result"
    }
   ],
   "source": [
    "MAEs.shape"
   ]
  },
  {
   "cell_type": "code",
   "execution_count": null,
   "metadata": {
    "id": "xCP-St2gQbMM"
   },
   "outputs": [],
   "source": [
    "def getMu_Std(maes):\n",
    "  \"\"\"\n",
    "  Args:\n",
    "  maes :  Mean absolute error for all columns for each model\n",
    "\n",
    "  return :\n",
    "  mu, std : Mean and Standard deviation of performance of each model\n",
    "\n",
    "  \"\"\"\n",
    "\n",
    "  # Fetching MAE of test set across each column for each model\n",
    "  mae_te = [[j[-1] for j in i] for i in maes]\n",
    "\n",
    "  # Mean of MAE of test set\n",
    "  mu = np.mean(mae_te, axis=1)\n",
    "\n",
    "  # Standard deviation of MAE of test set\n",
    "  std = np.sqrt(np.var(mae_te, axis=1))\n",
    "\n",
    "  return mu, std"
   ]
  },
  {
   "cell_type": "code",
   "execution_count": null,
   "metadata": {
    "id": "UhESntmw-6GV"
   },
   "outputs": [],
   "source": [
    "mu, std = getMu_Std(MAEs)"
   ]
  },
  {
   "cell_type": "code",
   "execution_count": null,
   "metadata": {
    "colab": {
     "base_uri": "https://localhost:8080/"
    },
    "id": "PNeGjEJmS9vL",
    "outputId": "5c575e46-e7e1-4eb6-d2ca-c1ef3b406ece"
   },
   "outputs": [
    {
     "data": {
      "text/plain": [
       "array([3.45714188, 3.40942875, 3.42635437, 3.48197563, 3.54903375])"
      ]
     },
     "execution_count": 46,
     "metadata": {},
     "output_type": "execute_result"
    }
   ],
   "source": [
    "# [\"XGBRegressor\", \"LGBMRegressor\", \"CatBoostRegressor\", \"ANN\", \"CNN\"]\n",
    "mu"
   ]
  },
  {
   "cell_type": "code",
   "execution_count": null,
   "metadata": {
    "colab": {
     "base_uri": "https://localhost:8080/"
    },
    "id": "nstHo5z-TB0g",
    "outputId": "89c6b224-d8b8-4d8a-d76d-98862f0066bc"
   },
   "outputs": [
    {
     "data": {
      "text/plain": [
       "array([0.08585044, 0.09019829, 0.0852567 , 0.12188707, 0.13194104])"
      ]
     },
     "execution_count": 47,
     "metadata": {},
     "output_type": "execute_result"
    }
   ],
   "source": [
    "# [\"XGBRegressor\", \"LGBMRegressor\", \"CatBoostRegressor\", \"ANN\", \"CNN\"]\n",
    "std"
   ]
  },
  {
   "cell_type": "code",
   "execution_count": 13,
   "metadata": {
    "id": "cdmJJlPd58vz"
   },
   "outputs": [],
   "source": [
    "def getPrediction(id, model_name, scaling_mode, ip_shape):\n",
    "  \n",
    "    \"\"\"\n",
    "    Args:\n",
    "    id : Synaptic neuron id or column id\n",
    "    model_name : Name of the regressor model\n",
    "    scaling_mode : Type of scaling technique\n",
    "    ip_shape : Dimension of an example (Mainly for CNN)\n",
    "\n",
    "    return:\n",
    "    pred : Prediction\n",
    "    y_test : Ground truth of test set\n",
    "\n",
    "    \"\"\"\n",
    "\n",
    "    row, col, chn = ip_shape\n",
    "    print(\"#\"*25 + \" \" + \"Column\" + str(id) +\" \" + \"#\"*25)\n",
    "\n",
    "    with open(\"StackedFiles/X_train_stacked_Column_\" + str(id) + \".npy\", 'rb') as f:\n",
    "      X = np.load(f)\n",
    "\n",
    "    with open(\"StackedFiles/y_train_stacked_Column_\" + str(id) + \".npy\", 'rb') as f:\n",
    "      y = np.load(f)\n",
    "\n",
    "    print()\n",
    "\n",
    "    # Splitting the dataset into training, validation, and test set in (4:0.5:0.5) ratio\n",
    "    X_train, X_val, y_train, y_val = train_test_split(X, y/10, test_size=0.20, random_state=42)  \n",
    "    X_val, X_test, y_val, y_test = train_test_split(X_val, y_val, test_size=0.50, random_state=42)\n",
    "\n",
    "    print(\"X_test : \", X_test.shape)\n",
    "    print(\"y_test : \", y_test.shape)\n",
    "    print()\n",
    "\n",
    "\n",
    "    # Standard Scaling\n",
    "    if scaling_mode == 'std':\n",
    "      print(\"Using Standard Scaling\",'\\n')\n",
    "\n",
    "      # Loading the scaler for each column\n",
    "      with open(os.getcwd() + \"/Scaler/\" + \"std_Column_\" + str(id) + \".pkl\", 'rb') as file:  \n",
    "          scaler = pickle.load(file)\n",
    "    \n",
    "      X_test = scaler.transform(X_test)\n",
    "      \n",
    "\n",
    "    # Min-max Scaling\n",
    "    elif scaling_mode == \"minmax\":\n",
    "      print(\"Using Minmax Scaling \\n\")\n",
    "\n",
    "      # Loading the scaler for each column\n",
    "      with open(os.getcwd() + \"/Scaler/\" + \"minmax_Column_\" + str(id) + \".pkl\", 'rb') as file:  \n",
    "          scaler = pickle.load(file)\n",
    "\n",
    "      X_test = scaler.transform(X_test)\n",
    "      \n",
    "\n",
    "    if model_name in [\"XGBRegressor\", \"LGBMRegressor\", \"CatBoostRegressor\"]:\n",
    "      # Loading the regressor model for each column\n",
    "      with open(os.getcwd() + \"/Models/\" + model_name + \"_column_\" + str(id) + \".pkl\", 'rb') as file:  \n",
    "        regressor = pickle.load(file)\n",
    "        pred = regressor.predict(X_test)\n",
    "\n",
    "    else:\n",
    "      regressor = tf.keras.models.load_model(os.getcwd() +  \"/Models/\" + model_name + \"_column_\" + str(id) +\".h5\", compile=False)\n",
    "\n",
    "      if model_name == \"CNN\":\n",
    "        padding_te = np.zeros((X_test.shape[0], 2))\n",
    "        X_test = np.concatenate([padding_te, X_test, padding_te], axis=1).reshape((X_test.shape[0],row, col, chn))\n",
    "        pred = regressor.predict(X_test)\n",
    "      else:\n",
    "        pred = regressor.predict(X_test)\n",
    "  \n",
    "    return pred, y_test, X_test, regressor"
   ]
  },
  {
   "cell_type": "code",
   "execution_count": 14,
   "metadata": {
    "colab": {
     "base_uri": "https://localhost:8080/",
     "height": 642
    },
    "id": "g0PB9Cpi58yh",
    "outputId": "0fc69a5f-6c92-4be9-e582-2745bae26d4e"
   },
   "outputs": [
    {
     "name": "stdout",
     "output_type": "stream",
     "text": [
      "######################### Column0 #########################\n",
      "\n",
      "X_test :  (8002, 32)\n",
      "y_test :  (8002,)\n",
      "\n",
      "Using Minmax Scaling \n",
      "\n",
      "\n",
      "False positive rate :  0.07442557442557443\n",
      "True positive rate :  0.7178589294647324\n",
      "ROC Area under curve :  0.821716677519579\n"
     ]
    },
    {
     "name": "stderr",
     "output_type": "stream",
     "text": [
      "/usr/local/lib/python3.7/dist-packages/ipykernel_launcher.py:35: MatplotlibDeprecationWarning: Saw kwargs ['lw', 'linewidth'] which are all aliases for 'linewidth'.  Kept value from 'linewidth'.  Passing multiple aliases for the same property will raise a TypeError in 3.3.\n"
     ]
    },
    {
     "data": {
      "image/png": "[encoded data removed]",
      "text/plain": [
       "<Figure size 432x432 with 1 Axes>"
      ]
     },
     "metadata": {
      "needs_background": "light"
     },
     "output_type": "display_data"
    }
   ],
   "source": [
    "models_name = [\"XGBRegressor\", \"LGBMRegressor\", \"CatBoostRegressor\", \"ANN\", \"CNN\"]\n",
    "margin = 3\n",
    "reg_name = models_name[2]\n",
    "\n",
    "# For column id 0 for CatBoostRegressor with Minmax scaling\n",
    "y_pred, y_test, X_test_reg, regressor_catboost = getPrediction(id= 0 , model_name = reg_name, scaling_mode = \"minmax\", ip_shape=(6,6,1))\n",
    "y_t, y_p = plotROC(y_test, y_pred, reg_name, margin, 'orange') # \"lightgreen\", 'deeppink'"
   ]
  },
  {
   "cell_type": "code",
   "execution_count": 15,
   "metadata": {
    "colab": {
     "base_uri": "https://localhost:8080/",
     "height": 642
    },
    "id": "WtIP-2tRfNCu",
    "outputId": "459508c5-0bee-4fd1-d32c-c663d00e1a43"
   },
   "outputs": [
    {
     "name": "stdout",
     "output_type": "stream",
     "text": [
      "######################### Column0 #########################\n",
      "\n",
      "X_test :  (8002, 32)\n",
      "y_test :  (8002,)\n",
      "\n",
      "Using Minmax Scaling \n",
      "\n",
      "\n",
      "False positive rate :  0.07092907092907093\n",
      "True positive rate :  0.7853926963481741\n",
      "ROC Area under curve :  0.8572318127095515\n"
     ]
    },
    {
     "name": "stderr",
     "output_type": "stream",
     "text": [
      "/usr/local/lib/python3.7/dist-packages/ipykernel_launcher.py:35: MatplotlibDeprecationWarning: Saw kwargs ['lw', 'linewidth'] which are all aliases for 'linewidth'.  Kept value from 'linewidth'.  Passing multiple aliases for the same property will raise a TypeError in 3.3.\n"
     ]
    },
    {
     "data": {
      "image/png": "[encoded data removed]",
      "text/plain": [
       "<Figure size 432x432 with 1 Axes>"
      ]
     },
     "metadata": {
      "needs_background": "light"
     },
     "output_type": "display_data"
    }
   ],
   "source": [
    "models_name = [\"XGBRegressor\", \"LGBMRegressor\", \"CatBoostRegressor\", \"ANN\", \"CNN\"]\n",
    "margin = 5\n",
    "reg_name = models_name[2]\n",
    "\n",
    "# For column id 0 for CatBoostRegressor with Minmax scaling\n",
    "y_pred, y_test,_,_ = getPrediction(id= 0 , model_name = reg_name, scaling_mode = \"minmax\", ip_shape=(6,6,1))\n",
    "y_t, y_p = plotROC(y_test, y_pred, reg_name, margin, 'deeppink') # \"lightgreen\", 'deeppink'"
   ]
  },
  {
   "cell_type": "code",
   "execution_count": 16,
   "metadata": {
    "colab": {
     "base_uri": "https://localhost:8080/",
     "height": 642
    },
    "id": "8tMwJ2M4lFRO",
    "outputId": "887b9470-3a12-4994-ab81-fd85dd53ea2f"
   },
   "outputs": [
    {
     "name": "stdout",
     "output_type": "stream",
     "text": [
      "######################### Column0 #########################\n",
      "\n",
      "X_test :  (8002, 32)\n",
      "y_test :  (8002,)\n",
      "\n",
      "Using Minmax Scaling \n",
      "\n",
      "\n",
      "False positive rate :  0.07317682317682318\n",
      "True positive rate :  0.7341170585292647\n",
      "ROC Area under curve :  0.8304701176762207\n"
     ]
    },
    {
     "name": "stderr",
     "output_type": "stream",
     "text": [
      "/usr/local/lib/python3.7/dist-packages/ipykernel_launcher.py:35: MatplotlibDeprecationWarning: Saw kwargs ['lw', 'linewidth'] which are all aliases for 'linewidth'.  Kept value from 'linewidth'.  Passing multiple aliases for the same property will raise a TypeError in 3.3.\n"
     ]
    },
    {
     "data": {
      "image/png": "[encoded data removed]",
      "text/plain": [
       "<Figure size 432x432 with 1 Axes>"
      ]
     },
     "metadata": {
      "needs_background": "light"
     },
     "output_type": "display_data"
    }
   ],
   "source": [
    "models_name = [\"XGBRegressor\", \"LGBMRegressor\", \"CatBoostRegressor\", \"ANN\", \"CNN\"]\n",
    "margin = 3.4\n",
    "reg_name = models_name[2]\n",
    "\n",
    "# For column id 0 for CatBoostRegressor with Minmax scaling\n",
    "y_pred, y_test,_,_ = getPrediction(id= 0 , model_name = reg_name, scaling_mode = \"minmax\", ip_shape=(6,6,1))\n",
    "y_t, y_p = plotROC(y_test, y_pred, reg_name, margin, \"lightgreen\") # \"lightgreen\", 'deeppink'"
   ]
  },
  {
   "cell_type": "markdown",
   "metadata": {
    "id": "uGdVXo4Agtvf"
   },
   "source": [
    "# Prediction versus ground truth"
   ]
  },
  {
   "cell_type": "code",
   "execution_count": 17,
   "metadata": {
    "colab": {
     "base_uri": "https://localhost:8080/",
     "height": 474
    },
    "id": "XyWEC5ZQfPn2",
    "outputId": "70995dfd-9a30-4347-a3aa-e6a52dfbb98f"
   },
   "outputs": [
    {
     "data": {
      "text/plain": [
       "<matplotlib.legend.Legend at 0x7f5e74de7bd0>"
      ]
     },
     "execution_count": 17,
     "metadata": {},
     "output_type": "execute_result"
    },
    {
     "data": {
      "image/png": "[encoded data removed]",
      "text/plain": [
       "<Figure size 720x504 with 1 Axes>"
      ]
     },
     "metadata": {
      "needs_background": "light"
     },
     "output_type": "display_data"
    }
   ],
   "source": [
    "# Prediction versus ground truth\n",
    "\n",
    "plt.figure(figsize = (10,7))\n",
    "plt.plot(y_pred[:100],linewidth=2, )\n",
    "plt.plot(y_test[:100],linewidth=2, )\n",
    "plt.ylabel(\"Prediction / ground truth values\", fontsize=14)\n",
    "plt.xlabel(\"#Test examples\", fontsize=14)\n",
    "plt.legend(['Prediction','Ground Truth' ])"
   ]
  },
  {
   "cell_type": "markdown",
   "metadata": {
    "id": "tLdGwJwK4Cis"
   },
   "source": [
    "# Detecting missing and spurious spikes"
   ]
  },
  {
   "cell_type": "code",
   "execution_count": 10,
   "metadata": {
    "id": "IGNq5WGJqZDH"
   },
   "outputs": [],
   "source": [
    "def getOutput_spikes_with_some_missing(output_spikes, seed_num, percent_num):\n",
    "\n",
    "  \"\"\"\n",
    "  Args:\n",
    "  output_spikes : Output spikes for an example\n",
    "  seed_num :  Seed number\n",
    "  percent_num : Number of spikes to be removed  based on percentage\n",
    "\n",
    "  return:\n",
    "  Output spikes with aribitarily removing some spikes based on given percentage\n",
    "\n",
    "  \"\"\"\n",
    "  output_spikes = np.array(output_spikes)\n",
    "  np.random.seed(seed_num)\n",
    "  idx = np.random.permutation(len(output_spikes))\n",
    "  choose_idx = np.sort(idx[:-percent_num])\n",
    "  out_spikes = output_spikes[choose_idx]\n",
    "\n",
    "  return getAvgIsi(out_spikes)"
   ]
  },
  {
   "cell_type": "code",
   "execution_count": 11,
   "metadata": {
    "id": "1I-XKeKLsKrG"
   },
   "outputs": [],
   "source": [
    "def getOutput_spikes_with_some_Spurious_spikes(output_spikes, seed_num, percent_num):\n",
    "\n",
    "  \"\"\"\n",
    "  Args:\n",
    "  output_spikes : Output spikes for an example\n",
    "  seed_num :  Seed number\n",
    "  percent_num : Number of spikes to be introduced as spurious ones based on percentage\n",
    "\n",
    "  return:\n",
    "  Output spikes with an introduction of aribitarily spurious spikes based on given percentage\n",
    "\n",
    "  \"\"\"\n",
    "\n",
    "  output_spikes = np.array(output_spikes)\n",
    "  idx = np.random.randint(1, len(output_spikes), percent_num )\n",
    "\n",
    "  for choose_idx in idx:\n",
    "\n",
    "      while True:\n",
    "\n",
    "        spike_t_minus_1 = output_spikes[choose_idx-1]\n",
    "        spike_t = output_spikes[choose_idx]\n",
    "        difference = spike_t - spike_t_minus_1\n",
    "\n",
    "        if difference//2 > 8:\n",
    "          output_spikes =  np.insert(output_spikes, choose_idx, output_spikes[choose_idx-1] + difference//2)\n",
    "          break\n",
    "        \n",
    "        elif difference//2 > 6:\n",
    "          output_spikes =  np.insert(output_spikes, choose_idx, output_spikes[choose_idx-1] + difference//2)\n",
    "          break\n",
    "\n",
    "        elif difference//2 > 4:\n",
    "          output_spikes =  np.insert(output_spikes, choose_idx, output_spikes[choose_idx-1] + difference//2)\n",
    "          break\n",
    "\n",
    "        elif difference//2 > 2:\n",
    "          output_spikes =  np.insert(output_spikes, choose_idx, output_spikes[choose_idx-1] + difference//2)\n",
    "          break\n",
    "\n",
    "        elif difference//2 > 1:\n",
    "          output_spikes =  np.insert(output_spikes, choose_idx, output_spikes[choose_idx-1] + difference//2)\n",
    "          break\n",
    "\n",
    "        else:\n",
    "          while True:\n",
    "            choose_idx = np.random.randint(1, len(output_spikes))\n",
    "            if choose_idx not in idx:\n",
    "              break\n",
    "        \n",
    "  return getAvgIsi(output_spikes)"
   ]
  },
  {
   "cell_type": "code",
   "execution_count": 12,
   "metadata": {
    "id": "5FThVFny4K_-"
   },
   "outputs": [],
   "source": [
    "def getData(id, mode, percent = None):\n",
    "  \n",
    "    \"\"\"\n",
    "    Args:\n",
    "    id : Synaptic neuron id or column id\n",
    "    mode : Unseen nominal test samples or missing\n",
    "    percent : Only for missing mode (either 15% or 20% or 25%)\n",
    "\n",
    "    return:\n",
    "    X,y \n",
    "\n",
    "    \"\"\"\n",
    "\n",
    "    with open(\"StackedFiles_nominal/X_unseen_stacked_Column_\" + str(id) + \".npy\", 'rb') as f:\n",
    "        X = np.load(f)\n",
    "\n",
    "    with open(\"StackedFiles_nominal/y_unseen_stacked_Column_\" + str(id) + \".npy\", 'rb') as f:\n",
    "        y = np.load(f, allow_pickle=True)\n",
    "\n",
    "\n",
    "    if mode == \"missing\":\n",
    "\n",
    "      if percent == 15:\n",
    "        y = np.array([getOutput_spikes_with_some_missing(eval(i), 44, percent_num= int(np.ceil(len(eval(i))* (5/100)))*3 ) for i in y])\n",
    "\n",
    "      elif percent == 20:\n",
    "        y = np.array([getOutput_spikes_with_some_missing(eval(i), 45, percent_num= int(np.ceil(len(eval(i))* (5/100)))*4 ) for i in y])\n",
    "\n",
    "      elif percent == 25:\n",
    "        y = np.array([getOutput_spikes_with_some_missing(eval(i), 45, percent_num= int(np.ceil(len(eval(i))* (5/100)))*5 ) for i in y])\n",
    "\n",
    "\n",
    "    elif mode == \"spurious\":\n",
    "\n",
    "      if percent == 15:\n",
    "        y = np.array([getOutput_spikes_with_some_Spurious_spikes(eval(i), 42, percent_num= int(np.ceil(len(eval(i))* (5/100)))*3 ) for i in y])\n",
    "\n",
    "      elif percent == 20:\n",
    "        y = np.array([getOutput_spikes_with_some_Spurious_spikes(eval(i), 42, percent_num= int(np.ceil(len(eval(i))* (5/100)))*4 ) for i in y])\n",
    "\n",
    "      elif percent == 25:\n",
    "        y = np.array([getOutput_spikes_with_some_Spurious_spikes(eval(i), 42, percent_num= int(np.ceil(len(eval(i))* (5/100)))*5 ) for i in y])\n",
    "\n",
    "    else:\n",
    "      y = np.array([getAvgIsi(eval(i)) for i in y])\n",
    "\n",
    "    # print(\"getData:\",y)\n",
    "    return X, y  \n",
    "\n",
    "    "
   ]
  },
  {
   "cell_type": "code",
   "execution_count": 13,
   "metadata": {
    "id": "zEVmdszli8So"
   },
   "outputs": [],
   "source": [
    "def getResult(id, scaling_mode, X, model_name, ip_shape = None):\n",
    "\n",
    "    row, col, chn = ip_shape\n",
    "\n",
    "    # Standard Scaling\n",
    "    if scaling_mode == 'std':\n",
    "      print(\"Using Standard Scaling\",'\\n')\n",
    "\n",
    "      # Loading the scaler for each column\n",
    "      with open(os.getcwd() + \"/Scaler/\" + \"std_Column_\" + str(id) + \".pkl\", 'rb') as file:  \n",
    "          scaler = pickle.load(file)\n",
    "    \n",
    "      X_test_scaled = scaler.transform(X)\n",
    "      \n",
    "\n",
    "    # Min-max Scaling\n",
    "    elif scaling_mode == \"minmax\":\n",
    "\n",
    "      # Loading the scaler for each column\n",
    "      with open(os.getcwd() + \"/Scaler/\" + \"minmax_Column_\" + str(id) + \".pkl\", 'rb') as file:  \n",
    "          scaler = pickle.load(file)\n",
    "\n",
    "      X_test_scaled = scaler.transform(X)\n",
    "\n",
    "    \n",
    " \n",
    "    if model_name in [\"XGBRegressor\", \"LGBMRegressor\", \"CatBoostRegressor\"]:\n",
    "      # Loading the regressor model for a column\n",
    "      with open(os.getcwd() + \"/Models/\" + model_name + \"_column_\" + str(id) + \".pkl\", 'rb') as file:  \n",
    "        regressor = pickle.load(file)\n",
    "        pred = regressor.predict(X_test_scaled)\n",
    "\n",
    "    else:\n",
    "      regressor = tf.keras.models.load_model(os.getcwd() +  \"/Models/\" + model_name + \"_column_\" + str(id) +\".h5\", compile=False)\n",
    "\n",
    "      if model_name == \"CNN\":\n",
    "        padding_te = np.zeros((X_test_scaled.shape[0], 2))\n",
    "        X_test_scaled = np.concatenate([padding_te, X_test_scaled, padding_te], axis=1).reshape((X_test_scaled.shape[0],row, col, chn))\n",
    "        pred = regressor.predict(X_test_scaled)\n",
    "      else:\n",
    "        pred = regressor.predict(X_test_scaled)\n",
    "\n",
    "    return pred\n"
   ]
  },
  {
   "cell_type": "code",
   "execution_count": 14,
   "metadata": {
    "id": "b23o3R5YPw7O"
   },
   "outputs": [],
   "source": [
    "model_name = \"CatBoostRegressor\"\n",
    "ip_shape = (6,6,1)\n",
    "scaling_mode = \"minmax\"\n",
    "optimal_mae = 3.42635437 "
   ]
  },
  {
   "cell_type": "code",
   "execution_count": 15,
   "metadata": {
    "id": "X0uLORkjfaNA"
   },
   "outputs": [],
   "source": [
    "def getSpuriousSpikesResults(nG, model_name, scaling_mode, ip_shape):\n",
    "\n",
    "  y_nominal = []\n",
    "  pred = []\n",
    "  y_spurious_15 = []  \n",
    "  y_spurious_20 = []  \n",
    "  y_spurious_25 = []  \n",
    "\n",
    "  # Nominal and spurious case\n",
    "\n",
    "  for id in range(nG):\n",
    "\n",
    "      X, y = getData(id =id, mode = \"Nominal\", percent = None)\n",
    "      _, y_spur_15 = getData(id =id, mode = \"spurious\", percent = 15)\n",
    "      _, y_spur_20 = getData(id =id, mode = \"spurious\", percent = 20)\n",
    "      _, y_spur_25 = getData(id =id, mode = \"spurious\", percent = 25)\n",
    "      pred_nom = getResult(id, scaling_mode, X, model_name, ip_shape)\n",
    "      pred.append(pred_nom)\n",
    "      y_nominal.append(y/10)\n",
    "      y_spurious_15.append(y_spur_15/10)\n",
    "      y_spurious_20.append(y_spur_20/10)\n",
    "      y_spurious_25.append(y_spur_25/10)\n",
    "        \n",
    "  if model_name in [\"ANN\", \"CNN\"]:\n",
    "    y_nominal = np.hstack([yn.flatten() for yn in y_nominal])\n",
    "    pred = np.hstack([p.flatten() for p in pred])\n",
    "    y_spurious_15 = np.hstack([ys.flatten() for ys in y_spurious_15])\n",
    "    y_spurious_20 = np.hstack([ys.flatten() for ys in y_spurious_20])\n",
    "    y_spurious_25 = np.hstack([ys.flatten() for ys in y_spurious_25])\n",
    "\n",
    "  else:\n",
    "    y_nominal = np.hstack(y_nominal)\n",
    "    pred = np.hstack(pred)\n",
    "    y_spurious_15 = np.hstack(y_spurious_15)\n",
    "    y_spurious_20 = np.hstack(y_spurious_20)\n",
    "    y_spurious_25 = np.hstack(y_spurious_25)\n",
    "\n",
    "\n",
    "  return y_nominal, pred, y_spurious_15, y_spurious_20, y_spurious_25\n"
   ]
  },
  {
   "cell_type": "code",
   "execution_count": 16,
   "metadata": {
    "id": "SYp3bLsZKRsw"
   },
   "outputs": [],
   "source": [
    "# CatBoost\n",
    "y_nominal, pred, y_spurious_15, y_spurious_20, y_spurious_25=getSpuriousSpikesResults(16, model_name=model_name, scaling_mode=scaling_mode, ip_shape= ip_shape)"
   ]
  },
  {
   "cell_type": "code",
   "execution_count": 17,
   "metadata": {
    "colab": {
     "base_uri": "https://localhost:8080/"
    },
    "id": "psZkeOtmp0iv",
    "outputId": "883733cb-8062-4c3f-b7cb-3dd9d95500ef"
   },
   "outputs": [
    {
     "name": "stdout",
     "output_type": "stream",
     "text": [
      "0.2426470588235294\n"
     ]
    }
   ],
   "source": [
    "# Mapping only 37.65% crosspoints of (16 by 16) crossbar array for unseen logs that are mentioned in the .cpp file\n",
    "\n",
    "# 15% Spurious spikes\n",
    "detected_spur_15 =  (np.abs(pred - y_spurious_15) > optimal_mae).sum()\n",
    "print(detected_spur_15/len(pred))"
   ]
  },
  {
   "cell_type": "code",
   "execution_count": 18,
   "metadata": {
    "colab": {
     "base_uri": "https://localhost:8080/"
    },
    "id": "t8oaSt50rqzh",
    "outputId": "a36e55c3-f83d-4418-8bc7-a3cc8d6367fe"
   },
   "outputs": [
    {
     "name": "stdout",
     "output_type": "stream",
     "text": [
      "0.5\n"
     ]
    }
   ],
   "source": [
    "# 20% Spurious spikes\n",
    "detected_spur_20 =  (np.abs(pred - y_spurious_20) > optimal_mae).sum()\n",
    "print(detected_spur_20/len(pred))"
   ]
  },
  {
   "cell_type": "code",
   "execution_count": 19,
   "metadata": {
    "colab": {
     "base_uri": "https://localhost:8080/"
    },
    "id": "CShk9FfLrq2j",
    "outputId": "a77f17bc-260a-491f-cee1-9cc2d285922a"
   },
   "outputs": [
    {
     "name": "stdout",
     "output_type": "stream",
     "text": [
      "0.7426470588235294\n"
     ]
    }
   ],
   "source": [
    "# 25% Spurious spikes\n",
    "detected_spur_25 =  (np.abs(pred - y_spurious_25) > optimal_mae).sum()\n",
    "print(detected_spur_25/len(pred))"
   ]
  },
  {
   "cell_type": "code",
   "execution_count": 20,
   "metadata": {
    "id": "5aOWMf1avtzg"
   },
   "outputs": [],
   "source": [
    "def getPred_missing(nG, percent_num, modelName):\n",
    "\n",
    "  y_miss = []\n",
    "  pred_miss = []\n",
    "\n",
    "  # For missing spikes\n",
    "\n",
    "  for id in range(nG):\n",
    "\n",
    "      X, y = getData(id =id, mode = \"missing\", percent = percent_num)\n",
    "      pred_miss.append(getResult(id, scaling_mode, X, modelName, ip_shape))\n",
    "      \n",
    "      y_miss.append(y/10)\n",
    "        \n",
    "  y_miss = np.hstack(y_miss)\n",
    "\n",
    "  if modelName in [\"ANN\", \"CNN\"]:\n",
    "    pred_miss = np.hstack([p.flatten() for p in pred_miss])\n",
    "  else:\n",
    "    pred_miss = np.hstack(pred_miss)\n",
    "  \n",
    "  return y_miss, pred_miss"
   ]
  },
  {
   "cell_type": "code",
   "execution_count": 21,
   "metadata": {
    "colab": {
     "base_uri": "https://localhost:8080/"
    },
    "id": "VBFQTf8_zE0o",
    "outputId": "bde4e639-96b4-4f14-ed9e-a84ca92c9919"
   },
   "outputs": [
    {
     "name": "stdout",
     "output_type": "stream",
     "text": [
      "0.7941176470588235\n"
     ]
    }
   ],
   "source": [
    "# For 15% missing spikes\n",
    "y_miss_15, pred_miss_15 = getPred_missing(nG = 16, percent_num = 15, modelName = model_name)\n",
    "detected_missed_15 =  (np.abs(y_miss_15 - pred_miss_15) > optimal_mae).sum()\n",
    "print(detected_missed_15/len(y_miss_15))"
   ]
  },
  {
   "cell_type": "code",
   "execution_count": 22,
   "metadata": {
    "colab": {
     "base_uri": "https://localhost:8080/"
    },
    "id": "7XhUL3ACSNcl",
    "outputId": "bbef6cf8-ba25-445f-a1cd-3f4069d953a0"
   },
   "outputs": [
    {
     "name": "stdout",
     "output_type": "stream",
     "text": [
      "0.7573529411764706\n"
     ]
    }
   ],
   "source": [
    "# For 20% missing spikes\n",
    "y_miss_20, pred_miss_20 = getPred_missing(nG = 16, percent_num = 20, modelName = model_name)\n",
    "detected_missed_20 =  (np.abs(y_miss_20 - pred_miss_20) > optimal_mae).sum()\n",
    "print(detected_missed_20/len(y_miss_20))"
   ]
  },
  {
   "cell_type": "code",
   "execution_count": 23,
   "metadata": {
    "colab": {
     "base_uri": "https://localhost:8080/"
    },
    "id": "3LXSy-LtYqPq",
    "outputId": "f9cd93fd-2af4-4f62-fc72-af10cd3bd76a"
   },
   "outputs": [
    {
     "name": "stdout",
     "output_type": "stream",
     "text": [
      "0.9044117647058824\n"
     ]
    }
   ],
   "source": [
    "# For 25% missing spikes\n",
    "y_miss_25, pred_miss_25 = getPred_missing(nG = 16, percent_num = 25, modelName = model_name)\n",
    "detected_missed_25 =  (np.abs(y_miss_25 - pred_miss_25) > optimal_mae).sum()\n",
    "print(detected_missed_25/len(y_miss_25))"
   ]
  },
  {
   "cell_type": "code",
   "execution_count": 24,
   "metadata": {
    "id": "trlHQFlf5YAA"
   },
   "outputs": [],
   "source": [
    "optimal_mae = 3.48197563 # For ANN"
   ]
  },
  {
   "cell_type": "code",
   "execution_count": 25,
   "metadata": {
    "colab": {
     "base_uri": "https://localhost:8080/"
    },
    "id": "9tGg5HeaKjRO",
    "outputId": "1df91ebb-2a5e-4c8e-8974-5e7836506cd2"
   },
   "outputs": [
    {
     "name": "stdout",
     "output_type": "stream",
     "text": [
      "WARNING:tensorflow:5 out of the last 5 calls to <function Model.make_predict_function.<locals>.predict_function at 0x7f80681eb0e0> triggered tf.function retracing. Tracing is expensive and the excessive number of tracings could be due to (1) creating @tf.function repeatedly in a loop, (2) passing tensors with different shapes, (3) passing Python objects instead of tensors. For (1), please define your @tf.function outside of the loop. For (2), @tf.function has experimental_relax_shapes=True option that relaxes argument shapes that can avoid unnecessary retracing. For (3), please refer to https://www.tensorflow.org/guide/function#controlling_retracing and https://www.tensorflow.org/api_docs/python/tf/function for  more details.\n",
      "WARNING:tensorflow:6 out of the last 6 calls to <function Model.make_predict_function.<locals>.predict_function at 0x7f806dcb1560> triggered tf.function retracing. Tracing is expensive and the excessive number of tracings could be due to (1) creating @tf.function repeatedly in a loop, (2) passing tensors with different shapes, (3) passing Python objects instead of tensors. For (1), please define your @tf.function outside of the loop. For (2), @tf.function has experimental_relax_shapes=True option that relaxes argument shapes that can avoid unnecessary retracing. For (3), please refer to https://www.tensorflow.org/guide/function#controlling_retracing and https://www.tensorflow.org/api_docs/python/tf/function for  more details.\n",
      "15% Spurious spikes :  0.3161764705882353\n",
      "20% Spurious spikes :  0.5073529411764706\n",
      "25% Spurious spikes :  0.6911764705882353\n"
     ]
    }
   ],
   "source": [
    "# ANN\n",
    "y_nominal, pred, y_spurious_15, y_spurious_20, y_spurious_25=getSpuriousSpikesResults(16, model_name=\"ANN\", scaling_mode=scaling_mode, ip_shape= ip_shape)\n",
    "\n",
    "# 15% Spurious spikes\n",
    "detected_spur_15 =  (np.abs(pred - y_spurious_15) > optimal_mae).sum()\n",
    "print(\"15% Spurious spikes : \", detected_spur_15/len(pred))\n",
    "\n",
    "# 20% Spurious spikes\n",
    "detected_spur_20 =  (np.abs(pred - y_spurious_20) > optimal_mae).sum()\n",
    "print(\"20% Spurious spikes : \", detected_spur_20/len(pred))\n",
    "\n",
    "# 25% Spurious spikes\n",
    "detected_spur_25 =  (np.abs(pred - y_spurious_25) > optimal_mae).sum()\n",
    "print(\"25% Spurious spikes : \", detected_spur_25/len(pred))"
   ]
  },
  {
   "cell_type": "code",
   "execution_count": 26,
   "metadata": {
    "colab": {
     "base_uri": "https://localhost:8080/"
    },
    "id": "nVMldH0LAfd-",
    "outputId": "2d337615-8d8d-4fbf-f38a-c4ac458df087"
   },
   "outputs": [
    {
     "name": "stdout",
     "output_type": "stream",
     "text": [
      "0.7647058823529411\n"
     ]
    }
   ],
   "source": [
    "# For 15% missing spikes\n",
    "y_miss_15, pred_miss_15 = getPred_missing(nG = 16, percent_num = 15, modelName = \"ANN\")\n",
    "detected_missed_15 =  (np.abs(y_miss_15 - pred_miss_15) > optimal_mae).sum()\n",
    "print(detected_missed_15/len(y_miss_15))"
   ]
  },
  {
   "cell_type": "code",
   "execution_count": 27,
   "metadata": {
    "colab": {
     "base_uri": "https://localhost:8080/"
    },
    "id": "8QmZS76rAfkQ",
    "outputId": "64762203-f2e1-4497-abb3-2cc122c9f079"
   },
   "outputs": [
    {
     "name": "stdout",
     "output_type": "stream",
     "text": [
      "0.7647058823529411\n"
     ]
    }
   ],
   "source": [
    "# For 20% missing spikes\n",
    "y_miss_20, pred_miss_20 = getPred_missing(nG = 16, percent_num = 20, modelName = \"ANN\")\n",
    "detected_missed_20 =  (np.abs(y_miss_20 - pred_miss_20) > optimal_mae).sum()\n",
    "print(detected_missed_20/len(y_miss_20))"
   ]
  },
  {
   "cell_type": "code",
   "execution_count": 28,
   "metadata": {
    "colab": {
     "base_uri": "https://localhost:8080/"
    },
    "id": "WNClDD8-AfpW",
    "outputId": "bfa8efe2-67eb-4a66-81cc-e2f66458377a"
   },
   "outputs": [
    {
     "name": "stdout",
     "output_type": "stream",
     "text": [
      "0.8823529411764706\n"
     ]
    }
   ],
   "source": [
    "# For 25% missing spikes\n",
    "y_miss_25, pred_miss_25 = getPred_missing(nG = 16, percent_num = 25, modelName = \"ANN\")\n",
    "detected_missed_25 =  (np.abs(y_miss_25 - pred_miss_25) > optimal_mae).sum()\n",
    "print(detected_missed_25/len(y_miss_25))"
   ]
  },
  {
   "cell_type": "code",
   "execution_count": 36,
   "metadata": {
    "colab": {
     "base_uri": "https://localhost:8080/"
    },
    "id": "0XYX8CKvAgCy",
    "outputId": "31b77913-6082-4ec2-854d-658775904ca3"
   },
   "outputs": [
    {
     "name": "stdout",
     "output_type": "stream",
     "text": [
      "Total size of 16 CatBoost models is 60.21588897705078 MB\n"
     ]
    }
   ],
   "source": [
    "# Total size of all 16 CatBoost models\n",
    "catBoost_mem_total = 0\n",
    "\n",
    "for i in range(16):\n",
    "  # Size in MB\n",
    "  catBoost_mem_total += os.stat(os.getcwd() + \"/Models/\" + \"CatBoostRegressor\" + \"_column_\" + str(i) + \".pkl\").st_size/(1024*1024)\n",
    "print(f\"Total size of 16 CatBoost models is {catBoost_mem_total} MB\")"
   ]
  },
  {
   "cell_type": "code",
   "execution_count": 37,
   "metadata": {
    "colab": {
     "base_uri": "https://localhost:8080/"
    },
    "id": "3SmAg1E9MzoK",
    "outputId": "2190b182-2222-473d-c203-a9205f72a53b"
   },
   "outputs": [
    {
     "name": "stdout",
     "output_type": "stream",
     "text": [
      "Total size of 16 ANN models is 14.180328369140625 MB\n"
     ]
    }
   ],
   "source": [
    "# Total size of all 16 ANN models\n",
    "ann_mem_total = 0\n",
    "\n",
    "for i in range(16):\n",
    "  # Size in MB\n",
    "  ann_mem_total += os.stat(os.getcwd() + \"/Models/\" + \"ANN\" + \"_column_\" + str(i) + \".h5\").st_size/(1024*1024)\n",
    "print(f\"Total size of 16 ANN models is {ann_mem_total} MB\")"
   ]
  },
  {
   "cell_type": "markdown",
   "metadata": {
    "id": "jphSqI7SO11I"
   },
   "source": [
    "# Plotting nominal, missing, and spurious avg. ISI for unseen logs"
   ]
  },
  {
   "cell_type": "code",
   "execution_count": 38,
   "metadata": {
    "id": "9wUYdP0SMzsX"
   },
   "outputs": [],
   "source": [
    "matplotlib.rc('xtick', labelsize=30) \n",
    "matplotlib.rc('ytick', labelsize=30) "
   ]
  },
  {
   "cell_type": "code",
   "execution_count": 44,
   "metadata": {
    "colab": {
     "base_uri": "https://localhost:8080/",
     "height": 583
    },
    "id": "Dt-nahfDMzwZ",
    "outputId": "bdbfa8c9-c389-4394-ea6b-848d44123ceb"
   },
   "outputs": [
    {
     "data": {
      "image/png": "[encoded data removed]",
      "text/plain": [
       "<Figure size 1152x576 with 1 Axes>"
      ]
     },
     "metadata": {
      "needs_background": "light"
     },
     "output_type": "display_data"
    }
   ],
   "source": [
    "# y_nominal\n",
    "# y_spurious_15 \n",
    "# y_miss_15\n",
    "num =200\n",
    "plt.figure(figsize = (16,8))\n",
    "plt.plot(y_nominal,linewidth=2, color = 'salmon')\n",
    "plt.plot(y_spurious_15,linewidth=2, color = 'cornflowerblue')\n",
    "plt.plot(y_miss_15,linewidth=2, color = 'gray')\n",
    "plt.ylabel(\"Avg. ISI\", fontsize=38)\n",
    "plt.xlabel(\"#Test examples\", fontsize=38)\n",
    "\n",
    "plt.plot([], [], linestyle='-',linewidth=4, color ='salmon',label= 'Nominal')\n",
    "plt.plot([], [], linestyle='-',linewidth=4, color ='cornflowerblue',label=\"Missing\")\n",
    "plt.plot([], [], linestyle='-',linewidth=4, color ='gray',label=\"Spurious\")\n",
    "plt.legend(bbox_to_anchor=(0.5, 1.17), loc='upper center', fontsize=30, ncol=3)\n",
    "plt.tight_layout()\n",
    "plt.savefig('nom_miss_spur_16.pdf',bbox_inches='tight')\n",
    "plt.show()"
   ]
  },
  {
   "cell_type": "code",
   "execution_count": null,
   "metadata": {
    "id": "KsWI-mzvMzz0"
   },
   "outputs": [],
   "source": []
  }
 ],
 "metadata": {
  "colab": {
   "collapsed_sections": [],
   "name": "Main_16by16.ipynb",
   "provenance": []
  },
  "kernelspec": {
   "display_name": "Python 3",
   "language": "python",
   "name": "python3"
  },
  "language_info": {
   "codemirror_mode": {
    "name": "ipython",
    "version": 3
   },
   "file_extension": ".py",
   "mimetype": "text/x-python",
   "name": "python",
   "nbconvert_exporter": "python",
   "pygments_lexer": "ipython3",
   "version": "3.7.3"
  }
 },
 "nbformat": 4,
 "nbformat_minor": 1
}
