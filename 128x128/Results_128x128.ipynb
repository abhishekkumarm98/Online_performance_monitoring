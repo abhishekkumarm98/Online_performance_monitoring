{
  "cells": [
    {
      "cell_type": "code",
      "execution_count": null,
      "metadata": {
        "id": "3_tArxWR2NO4"
      },
      "outputs": [],
      "source": [
        "import os,re, pickle, random\n",
        "import numpy as np\n",
        "import pandas as pd\n",
        "from itertools import chain\n",
        "from bs4 import BeautifulSoup\n",
        "from xgboost import XGBRegressor\n",
        "from sklearn.svm import SVR\n",
        "from lightgbm import LGBMRegressor\n",
        "from catboost import CatBoostRegressor\n",
        "from sklearn.tree import DecisionTreeRegressor\n",
        "from sklearn.linear_model import LinearRegression\n",
        "from sklearn.ensemble import GradientBoostingRegressor, AdaBoostRegressor, RandomForestRegressor\n",
        "from sklearn.model_selection import train_test_split\n",
        "from sklearn.preprocessing import MinMaxScaler, StandardScaler\n",
        "\n",
        "import keras\n",
        "import tensorflow as tf\n",
        "from tensorflow.keras import Model\n",
        "from tensorflow.keras import Sequential\n",
        "from tensorflow.keras.optimizers import Adam\n",
        "from tensorflow.keras.layers import Dense, Dropout, BatchNormalization\n",
        "from tensorflow.keras.losses import MeanSquaredError\n",
        "from tensorflow.keras.layers import Conv2D, MaxPooling2D, Flatten\n",
        "from tensorflow.keras.optimizers import Adam, SGD\n",
        "from tensorflow.keras.losses import MeanAbsoluteError\n",
        "\n",
        "import matplotlib\n",
        "from matplotlib import pyplot as plt\n",
        "from sklearn.metrics import mean_absolute_error, roc_curve, auc\n",
        "matplotlib.rc('xtick', labelsize=16) \n",
        "matplotlib.rc('ytick', labelsize=16) "
      ]
    },
    {
      "cell_type": "code",
      "execution_count": null,
      "metadata": {
        "id": "c7mz3yUB2NUE"
      },
      "outputs": [],
      "source": [
        "# Go to that directory where log files (single stuck at fault manifest as Missing/Delayed and Spurious) are saved\n",
        "cd 128x128/ "
      ]
    },
    {
      "cell_type": "code",
      "execution_count": null,
      "metadata": {
        "id": "rSEgnp7T2Nbw"
      },
      "outputs": [],
      "source": [
        "def getInfo(file, ip_spks):\n",
        "\n",
        "    \"\"\"\n",
        "    Args:\n",
        "    file : Log files \n",
        "    ip_spks : Number of input neurons or pre-synaptic neurons\n",
        "\n",
        "    return :\n",
        "    df : Dataframe\n",
        "    \n",
        "    \"\"\"\n",
        "\n",
        "    with open(file) as f:\n",
        "        soup = BeautifulSoup(f.read(), \"html.parser\")\n",
        "\n",
        "    df = pd.DataFrame()\n",
        "\n",
        "    # Making column names\n",
        "    cols = [\"Time(s)\"]\n",
        "    for i in range(ip_spks):\n",
        "      cols.append(\"spk_ip_\" + str(i))\n",
        "      cols.append(\"#Spikes_\" + str(i))\n",
        "      cols.append(\"ISI_\" + str(i))\n",
        "\n",
        "    for i in range(ip_spks):\n",
        "      cols += [\"spk_out_\" + str(i), \"#Spikes_out_\"+str(i), \"ISI_out_\"+str(i)]\n",
        "\n",
        "    time = [int(i.split(\":\")[1]) for i in re.findall(r\"Time : \\d+\", soup.text)]\n",
        "\n",
        "    df[\"Time(s)\"] = time\n",
        "\n",
        "    # NeuronID info for each spike generating neuron\n",
        "    n_id_info = re.findall(\"NeuronID: (.+)\", soup.text)\n",
        "\n",
        "    spikes_info = [list(map(int,re.findall(r'(\\d+)', i))) for i in n_id_info]\n",
        "    \n",
        "    n_id_info_v1 = []\n",
        "\n",
        "    for idx in range(0, len(spikes_info), ip_spks):\n",
        "      var = list(chain.from_iterable((x[0],len(x)-1, x[1:]) for x in spikes_info[idx: idx + ip_spks]))\n",
        "      n_id_info_v1.append(var)\n",
        "  \n",
        "    df[cols[1:-3 *ip_spks]] = n_id_info_v1\n",
        "\n",
        "    # Output column info\n",
        "    out = re.findall(\"Output Neuron at column (.+)\", soup.text)\n",
        "\n",
        "    spikes_info_out = [list(map(int, re.findall(r'(\\d+)', i))) for i in out]\n",
        "    out_info = []\n",
        "\n",
        "    for idx in range(0, len(spikes_info_out), ip_spks):\n",
        "      var1 = list(chain.from_iterable((x[0],len(x)-1, x[1:]) for x in spikes_info_out[idx: idx + ip_spks]))\n",
        "      out_info.append(var1)\n",
        "\n",
        "    # Checking #instances\n",
        "    assert len(out_info) == len(time) == len(n_id_info_v1)\n",
        "\n",
        "    df[cols[-3*ip_spks:]] = out_info\n",
        "\n",
        "\n",
        "    return df"
      ]
    },
    {
      "cell_type": "code",
      "execution_count": null,
      "metadata": {
        "id": "1mV4_qvJ2Ned"
      },
      "outputs": [],
      "source": [
        "# To compute average ISI (Inter-spiking interval)\n",
        "def getAvgIsi(x):\n",
        "\n",
        "  if len(x) == 0:\n",
        "    return 0\n",
        "\n",
        "  elif len(x) == 1:\n",
        "    return x[0]%1000\n",
        "\n",
        "  else:\n",
        "    x = [i%1000 for i in x]\n",
        "    if x[0] == 0:\n",
        "      x[0] = 1\n",
        "    return sum([(x[i+1])- (x[i]) for i in range(len(x)-1)])/(len(x)-1)"
      ]
    },
    {
      "cell_type": "code",
      "execution_count": null,
      "metadata": {
        "id": "-hsMpZnIkuZ3"
      },
      "outputs": [],
      "source": [
        "# To compute COV (coefficient of variation) or Variance\n",
        "def cov_or_variance(x, type_metric = \"cov\"):\n",
        "\n",
        "  if len(x) == 0:\n",
        "    return 0\n",
        "\n",
        "  elif len(x) == 1:\n",
        "    return x[0]%1000\n",
        "\n",
        "  else:\n",
        "    x = [i%1000 for i in x]\n",
        "    if x[0] == 0:\n",
        "      x[0] = 1\n",
        "    imd = np.array([x[i]%1000 for i in range(len(x))])\n",
        "    mu = np.mean(imd)\n",
        "    \n",
        "    if type_metric == \"cov\": \n",
        "      # coefficient of variation\n",
        "      cov = np.sqrt(np.sum(np.square(imd - mu))/ (len(imd) - 1))/mu\n",
        "      return cov\n",
        "    else:\n",
        "      # Variance of spikes\n",
        "      var_spk = np.sum(np.square(imd - mu))/ (len(imd) - 1)\n",
        "      return var_spk"
      ]
    },
    {
      "cell_type": "code",
      "execution_count": null,
      "metadata": {
        "id": "U_xl-KmO2Ngw"
      },
      "outputs": [],
      "source": [
        "# # To make a directory to save all log files (Missing/Delayed and Spurious) with different utilizations for each pre-synaptic neuron or input neuron\n",
        "utilization = range(10,51,10) \n",
        "\n",
        "for ut in utilization:\n",
        "  os.mkdir(\"128x128/\"+ str(ut) + \"_percent/files_128_raw\")"
      ]
    },
    {
      "cell_type": "code",
      "execution_count": null,
      "metadata": {
        "id": "B4MVxTeX2Njb"
      },
      "outputs": [],
      "source": [
        "def SaveRawFile(dataframe, fol, savePath, cp):\n",
        "  \"\"\"\n",
        "  Args :\n",
        "  dataframe: Dataframe\n",
        "  fol : File name of post-synaptic neuron ID\n",
        "  savePath : The path to save .xlsx file \n",
        "  cp :  Crosspoint\n",
        "  \n",
        "  \"\"\"\n",
        "\n",
        "  columns = dataframe.columns\n",
        "  f = pd.DataFrame()\n",
        "\n",
        "  idx = 0\n",
        "  for e in columns:\n",
        "    \n",
        "    if e.startswith(\"ISI_\"):\n",
        "\n",
        "      if e.startswith(\"ISI_out_\"):\n",
        "          f[e] =  dataframe[e]\n",
        "          f['Avg_ISI_out_'+e.split(\"ISI_out_\")[-1]] =  dataframe[e].apply(lambda x: getAvgIsi(x))\n",
        "          f['Cov_spk_out_'+e.split(\"ISI_out_\")[-1]] =  dataframe[e].apply(lambda x: cov_or_variance(x, type_metric = \"cov\"))\n",
        "          f['Var_spk_out_'+e.split(\"ISI_out_\")[-1]] =  dataframe[e].apply(lambda x: cov_or_variance(x, type_metric = \"var\"))\n",
        "        \n",
        "      else:\n",
        "        f[e] =  dataframe[e]\n",
        "        f['Avg_ISI_'+str(idx)] =  dataframe['ISI_' + str(idx)].apply(lambda x: getAvgIsi(x))\n",
        "        f['Cov_spk_ip_'+str(idx)] =  dataframe['ISI_' + str(idx)].apply(lambda x: cov_or_variance(x, type_metric = \"cov\"))\n",
        "        f['Var_spk_ip_'+str(idx)] =  dataframe['ISI_' + str(idx)].apply(lambda x: cov_or_variance(x, type_metric = \"var\"))\n",
        "        idx += 1\n",
        "\n",
        "    else:\n",
        "      f[e] = dataframe[e]\n",
        "\n",
        "  f.to_excel(savePath + fol + \"_\" + str(cp) + \".xlsx\", index = False)\n",
        "  "
      ]
    },
    {
      "cell_type": "markdown",
      "metadata": {
        "id": "f4RXs9QW4Tof"
      },
      "source": [
        "# Saving log files in the desirable and readable format"
      ]
    },
    {
      "cell_type": "code",
      "execution_count": 1,
      "metadata": {
        "colab": {
          "base_uri": "https://localhost:8080/"
        },
        "id": "2XQ1uoEVArjF",
        "outputId": "498d3876-84a3-43da-b049-a08420ea1071"
      },
      "outputs": [
        {
          "output_type": "stream",
          "name": "stdout",
          "text": [
            "10% utilization (13 crosspoints) for Output_Missing.\n",
            "10% utilization (13 crosspoints) for Output_Spurious.\n",
            "20% utilization (26 crosspoints) for Output_Missing.\n",
            "20% utilization (26 crosspoints) for Output_Spurious.\n",
            "30% utilization (39 crosspoints) for Output_Missing.\n",
            "30% utilization (39 crosspoints) for Output_Spurious.\n",
            "40% utilization (52 crosspoints) for Output_Missing.\n",
            "40% utilization (52 crosspoints) for Output_Spurious.\n",
            "50% utilization (64 crosspoints) for Output_Missing.\n",
            "50% utilization (64 crosspoints) for Output_Spurious.\n"
          ]
        }
      ],
      "source": [
        "\"\"\"\n",
        "cp : Crosspoints\n",
        "util : Utilization (10% or 20% or 30% or 40% or 50% of the crossbar array (in terms of the crosspoints))\n",
        "log_path : The path from where the log file will be read.\n",
        "save_path : The path where the log file will be saved.\n",
        "\n",
        "\"\"\"\n",
        "\n",
        "cp_util = [(13,10), (26,20), (39,30), (52,40), (64,50)]\n",
        "type_fol = [\"Output_Missing\", \"Output_Spurious\"] \n",
        "\n",
        "for params in cp_util:\n",
        "  cp,util = params\n",
        "\n",
        "  for fol in type_fol:\n",
        "    logs_path = \"128x128/\" + str(util) + \"_percent/\" + fol + \"/log_weight.txt\"\n",
        "    savePath = \"128x128/\" + str(util) + \"_percent/\" + \"files_128_raw/\"\n",
        "\n",
        "    ## Saving raw data in excel file\n",
        "    print(f\"{util}% utilization ({cp} crosspoints) for {fol}.\")\n",
        "    df = getInfo(logs_path, 128)\n",
        "    SaveRawFile(df, fol, savePath, cp)\n"
      ]
    },
    {
      "cell_type": "code",
      "execution_count": null,
      "metadata": {
        "id": "DwHPqUbL2NrW"
      },
      "outputs": [],
      "source": [
        "# Sort the name of file of post-synaptic neuron ID\n",
        "\n",
        "def atof(text):\n",
        "    try:\n",
        "        retval = float(text)\n",
        "    except ValueError:\n",
        "        retval = text\n",
        "    return retval\n",
        "\n",
        "def natural_keys(text):\n",
        "\n",
        "    return [ atof(c) for c in re.split(r'[+-]?([0-9]+(?:[.][0-9]*)?|[.][0-9]+)', text) ]"
      ]
    },
    {
      "cell_type": "code",
      "execution_count": null,
      "metadata": {
        "id": "M7sdcsgl2Nuf"
      },
      "outputs": [],
      "source": [
        "# # To create a directory to save all features (Spike rate, Avg. ISI/COV/Variance) and their ground truth (Observed ISI) \n",
        "utilization = range(10,51,10) \n",
        "crossbarName = \"128x128\"\n",
        "\n",
        "for ut in utilization:\n",
        "  os.mkdir(crossbarName + \"/\"+ str(ut) + \"_percent/StackedFiles_avg_ISI\")\n",
        "  # os.mkdir(crossbarName + \"/\"+ str(ut) + \"_percent/StackedFiles_cov_spk\")\n",
        "  # os.mkdir(crossbarName + \"/\"+ str(ut) + \"_percent/StackedFiles_var_spk\")"
      ]
    },
    {
      "cell_type": "code",
      "source": [
        "type_fol = [\"Output_Missing\", \"Output_Spurious\"]\n",
        "\n",
        "for ut in utilization:\n",
        "  for fol in type_fol:\n",
        "    os.mkdir(crossbarName + \"/\" + str(ut) + \"_percent/StackedFiles_avg_ISI/\"+fol)\n",
        "    # os.mkdir(crossbarName + \"/\" + str(ut) + \"_percent/StackedFiles_cov_spk/\"+fol)\n",
        "    # os.mkdir(crossbarName + \"/\" + str(ut) + \"_percent/StackedFiles_var_spk/\"+fol)"
      ],
      "metadata": {
        "id": "WTjC3jhb7CK2"
      },
      "execution_count": null,
      "outputs": []
    },
    {
      "cell_type": "code",
      "execution_count": null,
      "metadata": {
        "id": "RRBTQEnz2Nwt"
      },
      "outputs": [],
      "source": [
        "\"\"\"\n",
        "Extracting features (Spike rate, Avg. ISI/COV/Variance) and their ground truth (Observed ISI) and then\n",
        "save in .npy format.\n",
        "\n",
        "\"\"\"\n",
        "\n",
        "def StackedFile(path, fileName, nG, savePath, variance_feat = False):\n",
        "    \"\"\"\n",
        "    Args: \n",
        "    path : The path to read excel files\n",
        "    nG : Number of post-synaptic neurons\n",
        "    variance_feat : Avg. ISI/COV/Variance as features included or not\n",
        "    fileName : An excel file (Output_Spurious, Output_Missing)\n",
        "    savePath : The path where the excel files will be saved in a numpy format in a parsed version based on cp.\n",
        "\n",
        "    \"\"\"\n",
        "\n",
        "    \"\"\"\n",
        "    Predicting only average ISI_out, not #Spikes_out\n",
        "    \"\"\"\n",
        "    \n",
        "\n",
        "    # Number of crosspoints (numCp)\n",
        "    numCp = int(fileName.split(\"_\")[-1][:-5]) \n",
        "    print(f\"File Name : {fileName} | Number of crosspoints : {numCp}\")\n",
        "\n",
        "    file = pd.read_excel(path + fileName)\n",
        "\n",
        "    cols_drop = []\n",
        "\n",
        "    for id in range(nG):\n",
        "      cols_drop.append(\"spk_ip_\" + str(id))\n",
        "      cols_drop.append(\"spk_out_\" + str(id))\n",
        "      cols_drop.append(\"ISI_\" + str(id))\n",
        "      cols_drop.append(\"ISI_out_\" + str(id))\n",
        "      cols_drop.append(\"#Spikes_out_\" + str(id))\n",
        "\n",
        "      if variance_feat == \"var\":\n",
        "        cols_drop.append(\"Cov_spk_ip_\" + str(id))\n",
        "        cols_drop.append(\"Cov_spk_out_\" + str(id))\n",
        "        cols_drop.append(\"Avg_ISI_\" + str(id))\n",
        "        cols_drop.append(\"Avg_ISI_out_\" + str(id))\n",
        "\n",
        "      elif not variance_feat: \n",
        "        cols_drop.append(\"Cov_spk_ip_\" + str(id))\n",
        "        cols_drop.append(\"Cov_spk_out_\" + str(id))\n",
        "        cols_drop.append(\"Var_spk_ip_\" + str(id))\n",
        "        cols_drop.append(\"Var_spk_out_\" + str(id))\n",
        "      else:\n",
        "        cols_drop.append(\"Avg_ISI_\" + str(id))\n",
        "        cols_drop.append(\"Avg_ISI_out_\" + str(id))\n",
        "        cols_drop.append(\"Var_spk_ip_\" + str(id))\n",
        "        cols_drop.append(\"Var_spk_out_\" + str(id))\n",
        "        \n",
        "\n",
        "    cols_drop.extend(['Time(s)'])\n",
        "\n",
        "    file.drop(cols_drop, axis=1, inplace=True)\n",
        "\n",
        "    file_v1 = file.reset_index(drop=True)\n",
        "\n",
        "    if variance_feat == \"var\":\n",
        "        y_cols = [\"Var_spk_out_\" + str(idx) for idx in range(nG)]\n",
        "    elif not variance_feat: \n",
        "        y_cols = [\"Avg_ISI_out_\" + str(idx) for idx in range(nG)]\n",
        "    else:\n",
        "        y_cols = [\"Cov_spk_out_\" + str(idx) for idx in range(nG)]\n",
        "        \n",
        "\n",
        "    X_train  = file_v1.drop(y_cols, axis=1).values\n",
        "    y_train =  file_v1[y_cols].values\n",
        "    \n",
        "    X_train_v1 = np.concatenate([X_train[:, :numCp*2], np.zeros((X_train.shape[0], X_train.shape[1] - (numCp*2)))], axis =1)\n",
        "\n",
        "    \n",
        "    X_tr, y_tr =  X_train_v1, y_train\n",
        "\n",
        "      \n",
        "    with open(savePath + \"/X_train_stacked.npy\", 'wb') as f:\n",
        "      np.save(f, X_tr)\n",
        "\n",
        "    for col in range(nG):\n",
        "      with open(savePath +\"/y_train_stacked_\" + str(col) + \".npy\", 'wb') as f:\n",
        "        np.save(f, y_tr[:,col])\n"
      ]
    },
    {
      "cell_type": "code",
      "source": [
        "def run(utilization, variance_feat, nG, crossbarName):\n",
        "\n",
        "  for ut in utilization:\n",
        "    type_files = [i for i in os.listdir(crossbarName + \"/\"+ str(ut) + \"_percent/files_\"+str(nG)+\"_raw/\") if i.endswith(\"xlsx\")]\n",
        "    for file in type_files:\n",
        "      fol = \"_\".join(file.split(\"_\")[:-1])\n",
        "      if variance_feat == \"var\":\n",
        "        savePath = crossbarName + \"/\"+ str(ut) + \"_percent/StackedFiles_var_spk/\"+fol\n",
        "      elif not variance_feat:\n",
        "        savePath = crossbarName + \"/\"+ str(ut) + \"_percent/StackedFiles_avg_ISI/\"+fol\n",
        "      else:\n",
        "        savePath = crossbarName + \"/\"+ str(ut) + \"_percent/StackedFiles_var_spk/\"+fol\n",
        "\n",
        "      StackedFile(crossbarName + \"/\"+ str(ut) + \"_percent/files_\"+str(nG)+\"_raw/\", file, nG, savePath, variance_feat = variance_feat)"
      ],
      "metadata": {
        "id": "bzx-tTjx7RYB"
      },
      "execution_count": null,
      "outputs": []
    },
    {
      "cell_type": "code",
      "execution_count": 2,
      "metadata": {
        "colab": {
          "base_uri": "https://localhost:8080/"
        },
        "id": "E49dr_tm_1L4",
        "outputId": "3a370d7f-3813-4415-a346-78a32ce96dba"
      },
      "outputs": [
        {
          "output_type": "stream",
          "name": "stdout",
          "text": [
            "File Name : Output_Missing_13.xlsx | Number of crosspoints : 13\n",
            "File Name : Output_Spurious_13.xlsx | Number of crosspoints : 13\n",
            "File Name : Output_Missing_26.xlsx | Number of crosspoints : 26\n",
            "File Name : Output_Spurious_26.xlsx | Number of crosspoints : 26\n",
            "File Name : Output_Missing_39.xlsx | Number of crosspoints : 39\n",
            "File Name : Output_Spurious_39.xlsx | Number of crosspoints : 39\n",
            "File Name : Output_Missing_52.xlsx | Number of crosspoints : 52\n",
            "File Name : Output_Spurious_52.xlsx | Number of crosspoints : 52\n",
            "File Name : Output_Missing_64.xlsx | Number of crosspoints : 64\n",
            "File Name : Output_Spurious_64.xlsx | Number of crosspoints : 64\n"
          ]
        }
      ],
      "source": [
        "# Considering #Spikes & Avg ISI as features\n",
        "\n",
        "variance_feat = False # avg_ISI\n",
        "crossbarName = \"128x128\"\n",
        "utilization = range(10,51,10)\n",
        "nG = 128\n",
        "\n",
        "run(utilization, variance_feat, nG, crossbarName)"
      ]
    },
    {
      "cell_type": "code",
      "source": [
        "# Considering #Spikes & Variance as features\n",
        "\n",
        "# variance_feat = \"var\" # Variance\n",
        "# crossbarName = \"128x128\"\n",
        "# utilization = range(10,51,10)\n",
        "# nG = 128\n",
        "\n",
        "# run(utilization, variance_feat, nG, crossbarName)"
      ],
      "metadata": {
        "colab": {
          "base_uri": "https://localhost:8080/"
        },
        "id": "EoLYWLWls2E_",
        "outputId": "f957db4d-4ec4-4663-a8c8-54c33b31e6a1"
      },
      "execution_count": 3,
      "outputs": [
        {
          "output_type": "stream",
          "name": "stdout",
          "text": [
            "File Name : Output_Missing_13.xlsx | Number of crosspoints : 13\n",
            "File Name : Output_Spurious_13.xlsx | Number of crosspoints : 13\n",
            "File Name : Output_Missing_26.xlsx | Number of crosspoints : 26\n",
            "File Name : Output_Spurious_26.xlsx | Number of crosspoints : 26\n",
            "File Name : Output_Missing_39.xlsx | Number of crosspoints : 39\n",
            "File Name : Output_Spurious_39.xlsx | Number of crosspoints : 39\n",
            "File Name : Output_Missing_52.xlsx | Number of crosspoints : 52\n",
            "File Name : Output_Spurious_52.xlsx | Number of crosspoints : 52\n",
            "File Name : Output_Missing_64.xlsx | Number of crosspoints : 64\n",
            "File Name : Output_Spurious_64.xlsx | Number of crosspoints : 64\n"
          ]
        }
      ]
    },
    {
      "cell_type": "code",
      "execution_count": 4,
      "metadata": {
        "colab": {
          "base_uri": "https://localhost:8080/"
        },
        "id": "xkJwvO4z_1O4",
        "outputId": "294396d6-cfe2-4adf-9d05-7c7845091370"
      },
      "outputs": [
        {
          "output_type": "stream",
          "name": "stdout",
          "text": [
            "File Name : Output_Missing_13.xlsx | Number of crosspoints : 13\n",
            "File Name : Output_Spurious_13.xlsx | Number of crosspoints : 13\n",
            "File Name : Output_Missing_26.xlsx | Number of crosspoints : 26\n",
            "File Name : Output_Spurious_26.xlsx | Number of crosspoints : 26\n",
            "File Name : Output_Missing_39.xlsx | Number of crosspoints : 39\n",
            "File Name : Output_Spurious_39.xlsx | Number of crosspoints : 39\n",
            "File Name : Output_Missing_52.xlsx | Number of crosspoints : 52\n",
            "File Name : Output_Spurious_52.xlsx | Number of crosspoints : 52\n",
            "File Name : Output_Missing_64.xlsx | Number of crosspoints : 64\n",
            "File Name : Output_Spurious_64.xlsx | Number of crosspoints : 64\n"
          ]
        }
      ],
      "source": [
        "# Considering #Spikes & COV as features\n",
        "\n",
        "# variance_feat = True # COV\n",
        "# crossbarName = \"128x128\"\n",
        "# utilization = range(10,51,10)\n",
        "# nG = 128\n",
        "# run(utilization, variance_feat, nG, crossbarName)"
      ]
    },
    {
      "cell_type": "code",
      "execution_count": null,
      "metadata": {
        "id": "Vr9LeJwK2N2A"
      },
      "outputs": [],
      "source": [
        "def getBinary(y_true, y_pred, margin):\n",
        "  \n",
        "  \"\"\"\n",
        "  It will binarize the continuous values which are y_true and y_pred with\n",
        "  the help of margin and threshold to plot ROC (Receiver operating characteristic).\n",
        "\n",
        "  Args:\n",
        "  y_true : Observed avg. ISI (continuous values)\n",
        "  y_pred : Predicted avg. ISI (continuous values)\n",
        "  margin : The margin is the obtained optimal MAE or a user can take loose margin as per his choice to incur more false alaram or false fault\n",
        "\n",
        "  return:\n",
        "  y_t : Binarized y_true\n",
        "  y_p : Binarized y_pred\n",
        "\n",
        "  The reason to opt for ROC curve because it offers an elegant way to\n",
        "  plot true fault detection rate versus false fault detection rate.\n",
        " \n",
        "  \"\"\"\n",
        "\n",
        "  thresh = pd.Series(y_true).median()   # We have taken median as a threshold because it is not impacted by the outliers\n",
        "  y_t = []\n",
        "  y_p = []\n",
        "\n",
        "  for t,p in zip(y_true, y_pred):\n",
        "    if np.abs(t - p) <= margin:\n",
        "      if t> thresh:\n",
        "        y_t.append(1)\n",
        "        y_p.append(1)\n",
        "      else:\n",
        "        y_t.append(0)\n",
        "        y_p.append(0)\n",
        "\n",
        "    else:\n",
        "      if (t > thresh) and (p > thresh):  # ex: t=60, p=80 but thresh = 55 --> t,p -> 1, therefore one of them has to be opposite to another because abs(t-p)>15.\n",
        "        y_t.append(1)\n",
        "        y_p.append(0)\n",
        "\n",
        "      elif (t > thresh) and (p <= thresh):  # ex: t=60, p=40 but thresh = 55 --> t->1,  p-> 0, which satisfies the condition, one has to be opposite of another.\n",
        "        y_t.append(1)\n",
        "        y_p.append(0)\n",
        "\n",
        "      elif (t <= thresh) and (p > thresh):  # ex: t=30, p=57 but thresh = 55 --> t->0,  p-> 1,\n",
        "        y_t.append(0)\n",
        "        y_p.append(1)\n",
        "\n",
        "      elif (t <= thresh) and (p <= thresh): # ex: t=25, p=45 but thresh = 55 --> t->0, p-> 1, therefore one of them has to be opposite to another.\n",
        "        y_t.append(0)\n",
        "        y_p.append(1)\n",
        "      \n",
        "\n",
        "  y_t = np.array(y_t)\n",
        "  y_p = np.array(y_p)\n",
        "\n",
        "  return y_t, y_p"
      ]
    },
    {
      "cell_type": "code",
      "execution_count": null,
      "metadata": {
        "id": "1BpLwfl02N49"
      },
      "outputs": [],
      "source": [
        "def plotROC(y_true, y_pred, reg, margin, color):\n",
        "\n",
        "  \"\"\"\n",
        "  To plot ROC\n",
        "\n",
        "  Args: \n",
        "  y_true : Observed avg. ISI\n",
        "  y_pred : Predicted avg. ISI\n",
        "  reg :  Regressor Name\n",
        "  margin : The margin is the obtained optimal MAE or a user can take loose margin as per his choice to incur more false alaram or false fault\n",
        "  color : Color\n",
        "\n",
        "  return:\n",
        "  y_t : Binarized y_true\n",
        "  y_p : Binarized y_pred\n",
        "\n",
        "  \"\"\"\n",
        "\n",
        "  y_t, y_p = getBinary(y_true, y_pred, margin)\n",
        "  \n",
        "  fpr, tpr, _ = roc_curve(y_t, y_p )\n",
        "  roc_auc = auc(fpr, tpr)\n",
        "\n",
        "  print()\n",
        "  print(\"False positive rate : \", fpr[1])\n",
        "  print(\"True positive rate : \", tpr[1])\n",
        "  print(\"ROC Area under curve : \", roc_auc)\n",
        "\n",
        "  plt.figure(figsize = (6,6))\n",
        "  lw = 2\n",
        "  plt.plot(fpr, tpr, color= color, lw=lw, label=f\"ROC curve (area = %0.2f) for {reg}.\" % roc_auc,linewidth=4)\n",
        "  plt.plot([0, 1], [0, 1], color=\"navy\", lw=lw, linestyle=\"--\")\n",
        "  plt.xlim([0.0, 1.0])\n",
        "  plt.ylim([0.0, 1.05])\n",
        "  plt.xlabel(\"False Positive Rate\", fontsize=15)\n",
        "  plt.ylabel(\"True Positive Rate\", fontsize=15)\n",
        "  plt.title(\"Receiver operating characteristic example\")\n",
        "  plt.legend(loc=\"lower right\")\n",
        "  plt.show()\n",
        "\n",
        "  return y_t, y_p"
      ]
    },
    {
      "cell_type": "code",
      "source": [
        "def getPrediction(nG, ip_shape, scaling_mode, file_Type, crossbarName, model_type, model_name, optimal_maes, models_list, variance_feat =False):\n",
        "\n",
        "  \"\"\"\n",
        "  Args:\n",
        "  nG : Number of post-synaptic neurons\n",
        "  scaling_mode : Type of scaling technique\n",
        "  file_type : \"Missing/Delayed\" file or \"Spurious\" file\n",
        "  crossbarName : Crossbar type 32x32 or 64x64 or 128x128\n",
        "  model_type : \"Tree\" based or \"NN\" based\n",
        "  model_name : which model to run\n",
        "  models_list : List of model names\n",
        "  optimal_maes : Obtained optimal MAEs for all columns\n",
        "  ip_shape : Dimension of an example (Mainly for CNN)\n",
        "  variance_feat : Coefficient of variation/Variance/Avg ISI as features included or not\n",
        "\n",
        "  print : \n",
        "  Fault detection rate\n",
        "\n",
        "  \"\"\"\n",
        "\n",
        "  row, col, chn = ip_shape\n",
        "  utilization = range(10,51,10)\n",
        "\n",
        "  print(\"*\"*25 + \" \"+ file_Type.split(\"_\")[-1] +\" Spikes \" + \"*\"*25)\n",
        "\n",
        "  for util in utilization:\n",
        "    print(\"*\"*25 + \" Utilization : \" + str(util) + \"% \" + \"*\"*25)\n",
        "    print()\n",
        "    print(\"Scaling Mode : \", scaling_mode)\n",
        "    print(\"Model Name : \", model_name, \"\\n\")\n",
        "\n",
        "    if variance_feat == \"var\":\n",
        "      with open(crossbarName+ \"/\"+ str(util) + \"_percent/StackedFiles_var_spk/\" + file_Type + \"/X_train_stacked.npy\", 'rb') as f:\n",
        "        X = np.load(f)\n",
        "    elif not variance_feat:\n",
        "      with open(crossbarName+ \"/\"+ str(util) + \"_percent/StackedFiles_avg_ISI/\" + file_Type + \"/X_train_stacked.npy\", 'rb') as f:\n",
        "        X = np.load(f)\n",
        "    else:\n",
        "      with open(crossbarName+ \"/\"+ str(util) + \"_percent/StackedFiles_cov_spk/\" + file_Type + \"/X_train_stacked.npy\", 'rb') as f:\n",
        "        X = np.load(f)\n",
        "\n",
        "    prediction_wrt_column = []\n",
        "\n",
        "    for id in range(nG):\n",
        "\n",
        "      if variance_feat == \"var\":\n",
        "        with open(crossbarName+ \"/\"+ str(util) + \"_percent/StackedFiles_var_spk/\" + file_Type +\"/y_train_stacked_\" + str(id) + \".npy\", 'rb') as f:\n",
        "          y = np.load(f)\n",
        "          y = y/10000  # (for better fit)\n",
        "      elif not variance_feat:\n",
        "        with open(crossbarName+ \"/\"+ str(util) + \"_percent/StackedFiles_avg_ISI/\" + file_Type +\"/y_train_stacked_\" + str(id) + \".npy\", 'rb') as f:\n",
        "          y = np.load(f)\n",
        "          y = y/10  # (for better fit)\n",
        "      else:\n",
        "        with open(crossbarName+ \"/\"+ str(util) + \"_percent/StackedFiles_cov_spk/\" + file_Type +\"/y_train_stacked_\" + str(id) + \".npy\", 'rb') as f:\n",
        "          y = np.load(f)\n",
        "      \n",
        "      X_test, y_test = X[:5000], y[:5000] \n",
        "\n",
        "      # Standard Scaling\n",
        "      if scaling_mode == 'std':\n",
        "        # print(\"Standard Scaling\",'\\n')\n",
        "        if variance_feat == \"var\":\n",
        "          with open(os.getcwd() + \"/Scaler_var_spk/\" + \"std_Column_\" + str(0) + \".pkl\", 'rb') as file:  \n",
        "            scaler = pickle.load(file)\n",
        "        elif not variance_feat:\n",
        "          with open(os.getcwd() + \"/Scaler_avg_ISI/\" + \"std_Column_\" + str(0) + \".pkl\", 'rb') as file:  \n",
        "            scaler = pickle.load(file)\n",
        "        else:\n",
        "          with open(os.getcwd() + \"/Scaler_cov_spk/\" + \"std_Column_\" + str(0) + \".pkl\", 'rb') as file:  \n",
        "            scaler = pickle.load(file)\n",
        "        \n",
        "        x_test_scaled = scaler.transform(X_test)\n",
        "\n",
        "\n",
        "      # Min-max Scaling\n",
        "      elif scaling_mode == \"minmax\":\n",
        "        # print(\"Minmax Scaling \\n\")\n",
        "        if variance_feat == \"var\":\n",
        "          with open(os.getcwd() + \"/Scaler_var_spk/\" + \"minmax_Column_\" + str(0) + \".pkl\", 'rb') as file:  \n",
        "            scaler = pickle.load(file)\n",
        "        elif not variance_feat:\n",
        "          with open(os.getcwd() + \"/Scaler_avg_ISI/\" + \"minmax_Column_\" + str(0) + \".pkl\", 'rb') as file:  \n",
        "            scaler = pickle.load(file)\n",
        "        else:\n",
        "          with open(os.getcwd() + \"/Scaler_cov_spk/\" + \"minmax_Column_\" + str(0) + \".pkl\", 'rb') as file:  \n",
        "            scaler = pickle.load(file)\n",
        "\n",
        "        x_test_scaled = scaler.transform(X_test)\n",
        "\n",
        "\n",
        "      if variance_feat == \"var\":\n",
        "        if model_type == \"Tree\":\n",
        "          with open(os.getcwd() + \"/Models_var_spk/\" + model_name + \"_column_\" + str(id) + \".pkl\", 'rb') as file:  \n",
        "            reg = pickle.load(file)\n",
        "        else:\n",
        "          if model_name == \"ANN\":\n",
        "            reg = tf.keras.models.load_model(os.getcwd() +  \"/Models_var_spk/\" + model_name + \"_column_\" + str(id) +\".h5\", compile=False)\n",
        "          else:\n",
        "            reg = tf.keras.models.load_model(os.getcwd() +  \"/Models_var_spk/\" + model_name + \"_column_\" + str(id) +\".h5\", compile=False)\n",
        "\n",
        "      elif not variance_feat:\n",
        "        if model_type == \"Tree\":\n",
        "          with open(os.getcwd() + \"/Models_avg_ISI/\" + model_name + \"_column_\" + str(id) + \".pkl\", 'rb') as file:  \n",
        "            reg = pickle.load(file)\n",
        "        else:\n",
        "          if model_name == \"ANN\":\n",
        "            reg = tf.keras.models.load_model(os.getcwd() +  \"/Models_avg_ISI/\" + model_name + \"_column_\" + str(id) +\".h5\", compile=False)\n",
        "          else:\n",
        "            reg = tf.keras.models.load_model(os.getcwd() +  \"/Models_avg_ISI/\" + model_name + \"_column_\" + str(id) +\".h5\", compile=False)        \n",
        "\n",
        "      else:\n",
        "        if model_type == \"Tree\":\n",
        "          with open(os.getcwd() + \"/Models_var_spk/\" + model_name + \"_column_\" + str(id) + \".pkl\", 'rb') as file:  \n",
        "            reg = pickle.load(file)\n",
        "        else:\n",
        "          if model_name == \"ANN\":\n",
        "            reg = tf.keras.models.load_model(os.getcwd() +  \"/Models_cov_spk/\" + model_name + \"_column_\" + str(id) +\".h5\", compile=False)\n",
        "          else:\n",
        "            reg = tf.keras.models.load_model(os.getcwd() +  \"/Models_cov_spk/\" + model_name + \"_column_\" + str(id) +\".h5\", compile=False)\n",
        "\n",
        "\n",
        "    \n",
        "      if model_name == \"CNN\":\n",
        "        test_pred = reg.predict(x_test_scaled.reshape((x_test_scaled.shape[0],row, col, chn)), verbose=0).flatten()\n",
        "      elif model_name == \"ANN\":\n",
        "        test_pred = reg.predict(x_test_scaled, verbose=0).flatten()\n",
        "      else:\n",
        "        test_pred = reg.predict(x_test_scaled)\n",
        "\n",
        "      margin = optimal_maes[models_list.index(model_name)][id][-1] \n",
        "        \n",
        "      y_t, y_p = getBinary(y_test, test_pred, margin=margin)\n",
        "\n",
        "      detectecd = (sum(y_t!= y_p))/(len(y_t))\n",
        "      prediction_wrt_column.append(detectecd)\n",
        "\n",
        "    print(prediction_wrt_column)\n",
        "    print(np.mean(prediction_wrt_column))\n",
        "    print()"
      ],
      "metadata": {
        "id": "rkLS1DV99n6s"
      },
      "execution_count": null,
      "outputs": []
    },
    {
      "cell_type": "code",
      "source": [
        "# Loading MAEs_ISI to numpy array\n",
        "with open('MAEs_ISI.npy', 'rb') as f:\n",
        "    MAEs_ISI = np.load(f)\n",
        "\n",
        "MAEs_ISI.shape"
      ],
      "metadata": {
        "id": "HLsR6u0i9n9W",
        "colab": {
          "base_uri": "https://localhost:8080/"
        },
        "outputId": "f7ac63e6-8003-40c2-af00-275addeff51b"
      },
      "execution_count": null,
      "outputs": [
        {
          "output_type": "execute_result",
          "data": {
            "text/plain": [
              "(4, 128, 3)"
            ]
          },
          "metadata": {},
          "execution_count": 11
        }
      ]
    },
    {
      "cell_type": "code",
      "source": [
        "# Trained models list\n",
        "models_list = [\"LGBMRegressor\", \"CatBoostRegressor\", \"ANN\", \"CNN\"]\n",
        "nG = 128\n",
        "ip_shape = (16,16,1)\n",
        "scaling_mode = \"std\"\n",
        "fol_Type = \"Output_Missing\"\n",
        "crossbarName = \"128x128\"\n",
        "model_type = \"NN\"\n",
        "model_name = models_list[-2]\n",
        "\n",
        "\n",
        "getPrediction(nG, ip_shape, scaling_mode, fol_Type, crossbarName, model_type, model_name, MAEs_ISI, models_list, variance_feat =False)"
      ],
      "metadata": {
        "id": "iQiol1kj9oC9",
        "colab": {
          "base_uri": "https://localhost:8080/"
        },
        "outputId": "382313ac-82a2-4313-a417-5fef77eaf53a"
      },
      "execution_count": null,
      "outputs": [
        {
          "output_type": "stream",
          "name": "stdout",
          "text": [
            "************************* Missing Spikes *************************\n",
            "************************* Utilization : 10% *************************\n",
            "\n",
            "Scaling Mode :  std\n",
            "Model Name :  ANN \n",
            "\n",
            "[0.6582, 0.639, 0.7034, 0.7472, 0.848, 0.6782, 0.7252, 0.6978, 0.6802, 0.8196, 0.7824, 0.69, 0.832, 0.6254, 0.7468, 0.7412, 0.7678, 0.6246, 0.6358, 0.6438, 0.6264, 0.664, 0.7124, 0.672, 0.7342, 0.6856, 0.6496, 0.6446, 0.6446, 0.6582, 0.603, 0.7298, 0.7508, 0.6232, 0.6602, 0.6476, 0.6712, 0.6686, 0.7008, 0.677, 0.6886, 0.8338, 0.7826, 0.5504, 0.758, 0.8516, 0.6412, 0.7572, 0.708, 0.7806, 0.8002, 0.786, 0.7826, 0.7512, 0.7234, 0.7782, 0.7106, 0.81, 0.8196, 0.6538, 0.7252, 0.7268, 0.5426, 0.566, 0.8502, 0.7074, 0.9438, 0.8092, 0.6176, 0.7666, 0.5818, 0.557, 0.7232, 0.7306, 0.7802, 0.6806, 0.7182, 0.756, 0.6484, 0.738, 0.8188, 0.7148, 0.7822, 0.7274, 0.7424, 0.7972, 0.7868, 0.8746, 0.7294, 0.6998, 0.7138, 0.6486, 0.786, 0.7068, 0.545, 0.641, 0.839, 0.8972, 0.6622, 0.9574, 0.8496, 0.621, 0.8366, 0.804, 0.6222, 0.6392, 0.721, 0.837, 0.686, 0.8298, 0.5488, 0.6016, 0.877, 0.6868, 0.8556, 0.7322, 0.6418, 0.558, 0.654, 0.5486, 0.575, 0.5602, 0.8036, 0.5328, 0.7156, 0.7468, 0.5988, 0.825]\n",
            "0.71426875\n",
            "\n",
            "************************* Utilization : 20% *************************\n",
            "\n",
            "Scaling Mode :  std\n",
            "Model Name :  ANN \n",
            "\n",
            "[0.6672, 0.58, 0.591, 0.5048, 0.5068, 0.6142, 0.6944, 0.477, 0.59, 0.5882, 0.495, 0.4588, 0.6284, 0.6856, 0.4444, 0.593, 0.4876, 0.584, 0.61, 0.4478, 0.4718, 0.4856, 0.497, 0.515, 0.6466, 0.7154, 0.4856, 0.4506, 0.5292, 0.5126, 0.5082, 0.4414, 0.7588, 0.6998, 0.5586, 0.4724, 0.4374, 0.6408, 0.6344, 0.49, 0.5486, 0.6036, 0.5186, 0.542, 0.4598, 0.517, 0.6062, 0.726, 0.449, 0.4694, 0.6842, 0.7116, 0.5422, 0.4448, 0.5396, 0.5418, 0.681, 0.5358, 0.465, 0.6034, 0.4632, 0.4778, 0.421, 0.42, 0.5862, 0.5868, 0.7934, 0.5364, 0.5096, 0.7024, 0.5012, 0.5778, 0.693, 0.5936, 0.5386, 0.4964, 0.5066, 0.4472, 0.5294, 0.8102, 0.5966, 0.4924, 0.527, 0.5364, 0.5158, 0.5134, 0.5748, 0.6894, 0.5102, 0.5478, 0.4296, 0.6788, 0.5914, 0.6548, 0.4328, 0.5116, 0.587, 0.5364, 0.4366, 0.7478, 0.7496, 0.4986, 0.4796, 0.5522, 0.5296, 0.5838, 0.4522, 0.7154, 0.5806, 0.4756, 0.4624, 0.4262, 0.5226, 0.4714, 0.5524, 0.4408, 0.4244, 0.471, 0.4642, 0.5572, 0.4544, 0.5612, 0.461, 0.3798, 0.4284, 0.4858, 0.5286, 0.4474]\n",
            "0.545678125\n",
            "\n",
            "************************* Utilization : 30% *************************\n",
            "\n",
            "Scaling Mode :  std\n",
            "Model Name :  ANN \n",
            "\n",
            "[0.2972, 0.3598, 0.5204, 0.3196, 0.2628, 0.2924, 0.5044, 0.264, 0.4512, 0.3186, 0.3204, 0.3442, 0.4282, 0.6482, 0.2876, 0.277, 0.2964, 0.3978, 0.448, 0.4546, 0.303, 0.2906, 0.3256, 0.3142, 0.4046, 0.3446, 0.3096, 0.559, 0.348, 0.2804, 0.3472, 0.306, 0.4426, 0.6212, 0.3086, 0.4508, 0.2814, 0.2868, 0.4342, 0.31, 0.5744, 0.362, 0.3856, 0.4294, 0.2912, 0.3114, 0.3596, 0.4022, 0.2688, 0.2608, 0.3018, 0.2788, 0.3818, 0.3408, 0.3182, 0.3128, 0.4042, 0.4802, 0.3594, 0.462, 0.3082, 0.3236, 0.2376, 0.3096, 0.383, 0.4104, 0.6504, 0.3724, 0.4058, 0.4864, 0.3116, 0.5668, 0.3146, 0.3656, 0.394, 0.3464, 0.3258, 0.307, 0.4734, 0.8428, 0.3292, 0.3348, 0.4422, 0.3402, 0.4002, 0.3296, 0.4526, 0.4358, 0.3542, 0.33, 0.3388, 0.3838, 0.322, 0.423, 0.3866, 0.3692, 0.382, 0.2846, 0.3332, 0.4384, 0.4506, 0.4226, 0.3572, 0.309, 0.407, 0.3904, 0.326, 0.4102, 0.3386, 0.3894, 0.3334, 0.3266, 0.3666, 0.356, 0.3354, 0.2808, 0.3698, 0.3414, 0.402, 0.3848, 0.3806, 0.4212, 0.3978, 0.3184, 0.3092, 0.3608, 0.337, 0.2938]\n",
            "0.3727265625\n",
            "\n",
            "************************* Utilization : 40% *************************\n",
            "\n",
            "Scaling Mode :  std\n",
            "Model Name :  ANN \n",
            "\n",
            "[0.1594, 0.175, 0.2504, 0.1496, 0.2278, 0.1732, 0.1882, 0.164, 0.3312, 0.3662, 0.175, 0.2352, 0.3934, 0.3516, 0.187, 0.1752, 0.1624, 0.17, 0.1666, 0.3506, 0.177, 0.1608, 0.3278, 0.1886, 0.2192, 0.277, 0.2004, 0.373, 0.2848, 0.1594, 0.1936, 0.152, 0.1468, 0.5362, 0.2066, 0.3106, 0.189, 0.1958, 0.2466, 0.1742, 0.1934, 0.1748, 0.2748, 0.3276, 0.183, 0.2126, 0.3078, 0.2774, 0.1648, 0.1732, 0.3984, 0.2078, 0.2276, 0.2636, 0.1924, 0.2972, 0.2306, 0.2762, 0.1996, 0.2614, 0.1742, 0.2088, 0.1422, 0.1766, 0.327, 0.217, 0.3642, 0.228, 0.2594, 0.3544, 0.224, 0.2024, 0.2182, 0.2308, 0.2482, 0.2178, 0.1964, 0.2156, 0.2808, 0.3436, 0.2222, 0.226, 0.2562, 0.215, 0.216, 0.2112, 0.2974, 0.287, 0.2202, 0.252, 0.212, 0.2196, 0.2116, 0.2294, 0.2184, 0.2454, 0.2098, 0.1944, 0.2464, 0.2042, 0.2344, 0.2586, 0.2208, 0.2062, 0.2702, 0.2632, 0.2626, 0.2334, 0.235, 0.2336, 0.2154, 0.2134, 0.215, 0.2642, 0.2242, 0.1976, 0.261, 0.2388, 0.2736, 0.2518, 0.2382, 0.253, 0.2596, 0.229, 0.2478, 0.2344, 0.2402, 0.2258]\n",
            "0.2362546875\n",
            "\n",
            "************************* Utilization : 50% *************************\n",
            "\n",
            "Scaling Mode :  std\n",
            "Model Name :  ANN \n",
            "\n",
            "[0.0846, 0.0824, 0.1478, 0.0914, 0.1902, 0.1576, 0.0602, 0.0826, 0.1526, 0.1754, 0.089, 0.1092, 0.1648, 0.0876, 0.1704, 0.1094, 0.1176, 0.082, 0.1038, 0.1116, 0.1078, 0.0946, 0.1164, 0.0836, 0.154, 0.0754, 0.1362, 0.1096, 0.1096, 0.1306, 0.1478, 0.0908, 0.1094, 0.1986, 0.1136, 0.1596, 0.104, 0.1856, 0.1418, 0.112, 0.2014, 0.112, 0.1126, 0.0776, 0.1086, 0.151, 0.2276, 0.0876, 0.0968, 0.1096, 0.1562, 0.097, 0.178, 0.2248, 0.1914, 0.172, 0.1422, 0.1418, 0.1406, 0.1222, 0.1262, 0.125, 0.0882, 0.1226, 0.1444, 0.104, 0.1388, 0.1416, 0.2212, 0.221, 0.1226, 0.1026, 0.1464, 0.1454, 0.1694, 0.1566, 0.136, 0.143, 0.1822, 0.0886, 0.1762, 0.1618, 0.203, 0.1408, 0.1516, 0.1756, 0.1828, 0.1766, 0.1556, 0.1878, 0.155, 0.2036, 0.1824, 0.1846, 0.176, 0.2142, 0.1756, 0.1696, 0.1754, 0.1308, 0.1358, 0.1842, 0.1714, 0.1884, 0.1964, 0.1848, 0.2128, 0.1678, 0.1904, 0.2008, 0.2058, 0.1988, 0.2076, 0.2388, 0.2212, 0.2142, 0.2412, 0.225, 0.1924, 0.1904, 0.2586, 0.2074, 0.2586, 0.2634, 0.1984, 0.2596, 0.282, 0.1876]\n",
            "0.15539687500000002\n",
            "\n"
          ]
        }
      ]
    },
    {
      "cell_type": "code",
      "source": [
        "# Trained models list\n",
        "models_list = [\"LGBMRegressor\", \"CatBoostRegressor\", \"ANN\", \"CNN\"]\n",
        "nG = 128\n",
        "ip_shape = (16,16,1)\n",
        "scaling_mode = \"std\"\n",
        "fol_Type = \"Output_Spurious\"\n",
        "crossbarName = \"128x128\"\n",
        "model_type = \"NN\"\n",
        "model_name = models_list[-2]\n",
        "\n",
        "\n",
        "getPrediction(nG, ip_shape, scaling_mode, fol_Type, crossbarName, model_type, model_name, MAEs_ISI, models_list, variance_feat =False)"
      ],
      "metadata": {
        "id": "quRxiS129oFs",
        "colab": {
          "base_uri": "https://localhost:8080/"
        },
        "outputId": "7ff20cc3-dc24-4a24-8613-b7a75b50838f"
      },
      "execution_count": null,
      "outputs": [
        {
          "output_type": "stream",
          "name": "stdout",
          "text": [
            "************************* Spurious Spikes *************************\n",
            "************************* Utilization : 10% *************************\n",
            "\n",
            "Scaling Mode :  std\n",
            "Model Name :  ANN \n",
            "\n",
            "[0.8982, 0.89, 0.8624, 0.8336, 0.7648, 0.8698, 0.8124, 0.849, 0.8714, 0.7678, 0.8066, 0.8704, 0.765, 0.88, 0.835, 0.8456, 0.8102, 0.9076, 0.904, 0.879, 0.9036, 0.8884, 0.8592, 0.8844, 0.843, 0.8676, 0.8952, 0.8956, 0.9046, 0.8778, 0.92, 0.823, 0.8192, 0.8818, 0.8794, 0.905, 0.8758, 0.889, 0.8554, 0.8734, 0.8778, 0.7522, 0.7836, 0.932, 0.8196, 0.737, 0.9032, 0.7876, 0.8412, 0.7812, 0.77, 0.7628, 0.7978, 0.8156, 0.844, 0.8134, 0.8484, 0.7844, 0.783, 0.8668, 0.84, 0.8472, 0.9534, 0.9512, 0.7114, 0.8214, 0.565, 0.771, 0.9182, 0.7908, 0.927, 0.9564, 0.8358, 0.8316, 0.801, 0.8798, 0.8338, 0.809, 0.8996, 0.7316, 0.7672, 0.8524, 0.7908, 0.823, 0.8184, 0.7914, 0.7672, 0.6904, 0.8072, 0.845, 0.8304, 0.8652, 0.7858, 0.8344, 0.9524, 0.8926, 0.7262, 0.6776, 0.8798, 0.5926, 0.6928, 0.8914, 0.7294, 0.7628, 0.8888, 0.8634, 0.8206, 0.7244, 0.8472, 0.7446, 0.917, 0.8824, 0.683, 0.8436, 0.7182, 0.7846, 0.8538, 0.9052, 0.8564, 0.9188, 0.884, 0.9124, 0.709, 0.9036, 0.7956, 0.7466, 0.8622, 0.707]\n",
            "0.8303109375000001\n",
            "\n",
            "************************* Utilization : 20% *************************\n",
            "\n",
            "Scaling Mode :  std\n",
            "Model Name :  ANN \n",
            "\n",
            "[0.6028, 0.627, 0.641, 0.7148, 0.7276, 0.6146, 0.5142, 0.7568, 0.6568, 0.6204, 0.7734, 0.8006, 0.5728, 0.4852, 0.8646, 0.6518, 0.7244, 0.6346, 0.61, 0.7482, 0.736, 0.7398, 0.722, 0.6898, 0.5786, 0.5212, 0.7476, 0.771, 0.697, 0.7036, 0.7148, 0.7744, 0.4962, 0.4978, 0.658, 0.7618, 0.8688, 0.5968, 0.5922, 0.7536, 0.6884, 0.6144, 0.6882, 0.6218, 0.782, 0.7038, 0.6396, 0.4838, 0.8784, 0.7612, 0.5406, 0.506, 0.6772, 0.7882, 0.6892, 0.6744, 0.5734, 0.697, 0.7834, 0.5942, 0.7734, 0.7736, 0.8448, 0.7976, 0.5676, 0.6068, 0.3764, 0.6768, 0.746, 0.5102, 0.7206, 0.5934, 0.546, 0.6318, 0.7144, 0.7544, 0.717, 0.8228, 0.7122, 0.3734, 0.633, 0.7508, 0.6932, 0.6878, 0.7, 0.7154, 0.6108, 0.5132, 0.6648, 0.6714, 0.7932, 0.5364, 0.6106, 0.584, 0.8126, 0.7234, 0.6242, 0.6484, 0.8396, 0.4316, 0.4634, 0.7338, 0.7284, 0.651, 0.6692, 0.6158, 0.7696, 0.5104, 0.6366, 0.749, 0.743, 0.8814, 0.6396, 0.7514, 0.649, 0.7292, 0.804, 0.7212, 0.7472, 0.6388, 0.72, 0.627, 0.6592, 0.8188, 0.7858, 0.6196, 0.6396, 0.6932]\n",
            "0.6738015625\n",
            "\n",
            "************************* Utilization : 30% *************************\n",
            "\n",
            "Scaling Mode :  std\n",
            "Model Name :  ANN \n",
            "\n",
            "[0.658, 0.453, 0.3476, 0.5334, 0.7036, 0.5638, 0.3026, 0.6142, 0.4112, 0.5088, 0.5764, 0.533, 0.3824, 0.2564, 0.713, 0.7168, 0.5464, 0.4342, 0.3942, 0.3524, 0.5594, 0.7102, 0.5424, 0.536, 0.4574, 0.4902, 0.7632, 0.332, 0.531, 0.7104, 0.565, 0.7944, 0.388, 0.266, 0.5694, 0.419, 0.6076, 0.6258, 0.4232, 0.6282, 0.3826, 0.4838, 0.4598, 0.356, 0.6778, 0.581, 0.521, 0.373, 0.7044, 0.6936, 0.535, 0.5456, 0.5006, 0.5128, 0.62, 0.6012, 0.502, 0.402, 0.5738, 0.3904, 0.6354, 0.6066, 0.6266, 0.5632, 0.4092, 0.4178, 0.2064, 0.5066, 0.4992, 0.3584, 0.5874, 0.2896, 0.619, 0.5354, 0.5308, 0.5968, 0.6122, 0.6262, 0.4262, 0.323, 0.5906, 0.6272, 0.4502, 0.5874, 0.4982, 0.6144, 0.4212, 0.4172, 0.5254, 0.5726, 0.8224, 0.474, 0.6242, 0.457, 0.4742, 0.5498, 0.4852, 0.627, 0.5958, 0.323, 0.355, 0.46, 0.5228, 0.607, 0.472, 0.4816, 0.6112, 0.4394, 0.588, 0.5038, 0.557, 0.5396, 0.454, 0.5216, 0.5252, 0.725, 0.4848, 0.5694, 0.4896, 0.487, 0.4574, 0.449, 0.3914, 0.5022, 0.605, 0.429, 0.5252, 0.5382]\n",
            "0.5182890625000001\n",
            "\n",
            "************************* Utilization : 40% *************************\n",
            "\n",
            "Scaling Mode :  std\n",
            "Model Name :  ANN \n",
            "\n",
            "[0.5122, 0.3416, 0.2452, 0.4874, 0.2876, 0.398, 0.2444, 0.4144, 0.2012, 0.1734, 0.465, 0.3086, 0.164, 0.138, 0.4186, 0.58, 0.4448, 0.4474, 0.4546, 0.1758, 0.4022, 0.487, 0.2288, 0.354, 0.3484, 0.2444, 0.4148, 0.2082, 0.2966, 0.548, 0.3986, 0.4254, 0.4536, 0.1522, 0.3468, 0.2418, 0.379, 0.3904, 0.2884, 0.526, 0.4882, 0.4118, 0.2584, 0.1772, 0.427, 0.339, 0.2756, 0.198, 0.4746, 0.413, 0.1868, 0.298, 0.3936, 0.2842, 0.4888, 0.2702, 0.3764, 0.3148, 0.4848, 0.308, 0.5612, 0.4522, 0.5076, 0.4542, 0.2058, 0.3288, 0.105, 0.3764, 0.3928, 0.222, 0.402, 0.334, 0.3986, 0.4284, 0.3986, 0.541, 0.4326, 0.4554, 0.3448, 0.1296, 0.4102, 0.4412, 0.3586, 0.4742, 0.4288, 0.5166, 0.2826, 0.2516, 0.3776, 0.3748, 0.6168, 0.3898, 0.5002, 0.4372, 0.435, 0.4466, 0.4644, 0.4498, 0.4224, 0.2598, 0.2942, 0.362, 0.4222, 0.4868, 0.3642, 0.3618, 0.3552, 0.362, 0.4564, 0.4298, 0.4446, 0.4158, 0.367, 0.385, 0.447, 0.489, 0.373, 0.421, 0.3916, 0.4176, 0.3794, 0.4194, 0.3434, 0.4122, 0.4614, 0.4034, 0.4698, 0.453]\n",
            "0.3758015625\n",
            "\n",
            "************************* Utilization : 50% *************************\n",
            "\n",
            "Scaling Mode :  std\n",
            "Model Name :  ANN \n",
            "\n",
            "[0.3522, 0.2244, 0.1274, 0.2454, 0.1074, 0.1368, 0.2128, 0.4124, 0.142, 0.1212, 0.3632, 0.2372, 0.116, 0.1712, 0.1588, 0.2778, 0.2122, 0.335, 0.2738, 0.1988, 0.2458, 0.403, 0.255, 0.3086, 0.1918, 0.3686, 0.2252, 0.2194, 0.2756, 0.2148, 0.2016, 0.2586, 0.2224, 0.0954, 0.2902, 0.1854, 0.2938, 0.1548, 0.197, 0.357, 0.1904, 0.2772, 0.2626, 0.307, 0.3118, 0.2082, 0.1738, 0.285, 0.3244, 0.4018, 0.183, 0.2752, 0.2204, 0.1458, 0.2014, 0.2456, 0.321, 0.2894, 0.2998, 0.4982, 0.4406, 0.3678, 0.3786, 0.292, 0.1826, 0.371, 0.0734, 0.2968, 0.225, 0.1458, 0.3424, 0.3096, 0.2522, 0.3184, 0.2724, 0.3368, 0.311, 0.3506, 0.261, 0.1494, 0.2694, 0.3274, 0.228, 0.3716, 0.325, 0.3042, 0.2258, 0.1968, 0.2826, 0.258, 0.318, 0.2282, 0.3018, 0.273, 0.262, 0.3028, 0.2824, 0.2648, 0.3526, 0.2064, 0.2928, 0.3322, 0.3376, 0.3096, 0.3656, 0.3712, 0.3406, 0.363, 0.4306, 0.4242, 0.4306, 0.4332, 0.4036, 0.4482, 0.4914, 0.4954, 0.4952, 0.3028, 0.5062, 0.4892, 0.5236, 0.512, 0.5394, 0.5748, 0.5018, 0.5488, 0.5782, 0.4974]\n",
            "0.3000734375\n",
            "\n"
          ]
        }
      ]
    },
    {
      "cell_type": "code",
      "source": [
        "# # Loading MAEs to numpy array\n",
        "# with open('MAEs_COV.npy', 'rb') as f:\n",
        "#     MAEs_COV = np.load(f)\n",
        "# MAEs_COV.shape"
      ],
      "metadata": {
        "id": "sFoOXJwio-Oc"
      },
      "execution_count": null,
      "outputs": []
    },
    {
      "cell_type": "code",
      "source": [
        "# models_list =  [\"LGBMRegressor\", \"CatBoostRegressor\", \"ANN\", \"CNN\"]\n",
        "# scaling_mode = \"minmax\"\n",
        "# fol_Type = \"Output_Spurious\"\n",
        "# model_type = \"Tree\"\n",
        "# model_name = models_list[0]\n",
        "\n",
        "# getPrediction(nG, ip_shape, scaling_mode, fol_Type, crossbarName, model_type, model_name, MAEs_COV, models_list, variance_feat =True)"
      ],
      "metadata": {
        "id": "Ru33Nt_C9oIS"
      },
      "execution_count": null,
      "outputs": []
    },
    {
      "cell_type": "code",
      "source": [
        "# models_list =  [\"LGBMRegressor\", \"CatBoostRegressor\", \"ANN\", \"CNN\"]\n",
        "# scaling_mode = \"minmax\"\n",
        "# fol_Type = \"Output_Missing\"\n",
        "# model_type = \"Tree\"\n",
        "# model_name = models_list[0]\n",
        "\n",
        "# getPrediction(nG, ip_shape, scaling_mode, fol_Type, crossbarName, model_type, model_name, MAEs_COV, models_list, variance_feat =True)"
      ],
      "metadata": {
        "id": "WlHXL3-RudHz"
      },
      "execution_count": null,
      "outputs": []
    },
    {
      "cell_type": "code",
      "source": [
        "# # Loading MAEs_VAR to numpy array\n",
        "# with open('MAEs_VAR.npy', 'rb') as f:\n",
        "#     MAEs_VAR = np.load(f)\n",
        "# MAEs_VAR.shape"
      ],
      "metadata": {
        "id": "8XfWVQ9g9oK1"
      },
      "execution_count": null,
      "outputs": []
    },
    {
      "cell_type": "code",
      "source": [
        "# models_list =  [\"LGBMRegressor\", \"CatBoostRegressor\", \"ANN\", \"CNN\"]\n",
        "# scaling_mode = \"minmax\"\n",
        "# nG = 128\n",
        "# crossbarName = \"128x128\"\n",
        "# ip_shape = (16,16,1)\n",
        "# fol_Type = \"Output_Spurious\"\n",
        "# model_type = \"Tree\"\n",
        "# model_name = models_list[0]\n",
        "\n",
        "# getPrediction(nG, ip_shape, scaling_mode, fol_Type, crossbarName, model_type, model_name, MAEs_VAR, models_list, variance_feat =\"var\")"
      ],
      "metadata": {
        "id": "6B24MM6PHnnp"
      },
      "execution_count": null,
      "outputs": []
    },
    {
      "cell_type": "code",
      "source": [
        "# models_list =  [\"LGBMRegressor\", \"CatBoostRegressor\", \"ANN\", \"CNN\"]\n",
        "# scaling_mode = \"minmax\"\n",
        "# nG = 128\n",
        "# crossbarName = \"128x128\"\n",
        "# ip_shape = (16,16,1)\n",
        "# fol_Type = \"Output_Missing\"\n",
        "# model_type = \"Tree\"\n",
        "# model_name = models_list[0]\n",
        "\n",
        "# getPrediction(nG, ip_shape, scaling_mode, fol_Type, crossbarName, model_type, model_name, MAEs_VAR, models_list, variance_feat =\"var\")"
      ],
      "metadata": {
        "id": "XrgwusoqanZI"
      },
      "execution_count": null,
      "outputs": []
    },
    {
      "cell_type": "code",
      "source": [],
      "metadata": {
        "id": "RIyAdj1eaniZ"
      },
      "execution_count": null,
      "outputs": []
    },
    {
      "cell_type": "code",
      "source": [],
      "metadata": {
        "id": "smW7cUdqH_lS"
      },
      "execution_count": null,
      "outputs": []
    }
  ],
  "metadata": {
    "colab": {
      "provenance": []
    },
    "gpuClass": "standard",
    "kernelspec": {
      "display_name": "Python 3",
      "name": "python3"
    },
    "language_info": {
      "name": "python"
    },
    "accelerator": "GPU"
  },
  "nbformat": 4,
  "nbformat_minor": 0
}